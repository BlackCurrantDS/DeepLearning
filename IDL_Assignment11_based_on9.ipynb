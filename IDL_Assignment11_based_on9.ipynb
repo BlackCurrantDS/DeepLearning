{
  "nbformat": 4,
  "nbformat_minor": 0,
  "metadata": {
    "colab": {
      "name": "IDL_Assignment11_based on9.ipynb",
      "provenance": [],
      "authorship_tag": "ABX9TyMYJPjQGXne4lI/bp53Js9v",
      "include_colab_link": true
    },
    "kernelspec": {
      "name": "python3",
      "display_name": "Python 3"
    }
  },
  "cells": [
    {
      "cell_type": "markdown",
      "metadata": {
        "id": "view-in-github",
        "colab_type": "text"
      },
      "source": [
        "<a href=\"https://colab.research.google.com/github/BlackCurrantDS/DeepLearning/blob/main/IDL_Assignment11_based_on9.ipynb\" target=\"_parent\"><img src=\"https://colab.research.google.com/assets/colab-badge.svg\" alt=\"Open In Colab\"/></a>"
      ]
    },
    {
      "cell_type": "markdown",
      "metadata": {
        "id": "1EHEfjFZaNTE"
      },
      "source": [
        "References- \r\n",
        "\r\n",
        "https://medium.com/@ml.at.berkeley/tricking-neural-networks-create-your-own-adversarial-examples-a61eb7620fd8\r\n",
        "\r\n",
        "https://adversarial-ml-tutorial.org/adversarial_examples/\r\n",
        "\r\n",
        "https://harvard-iacs.github.io/2019-CS109B/lecture/lab21/AdversarialNN/\r\n",
        "\r\n",
        "https://adversarial-ml-tutorial.org/adversarial_examples/\r\n",
        "\r\n",
        "https://medium.com/analytics-vidhya/implementing-adversarial-attacks-and-defenses-in-keras-tensorflow-2-0-cab6120c5715\r\n",
        "\r\n",
        "https://usmanr149.github.io/urmlblog/cnn/2020/05/01/Salincy-Maps.html\r\n",
        "\r\n",
        "\r\n",
        "https://mydeeplearningnb.wordpress.com/2019/07/24/visualizing-cnns-using-tensorflow/\r\n",
        "\r\n",
        "https://stackoverflow.com/questions/63107141/how-to-compute-saliency-map-using-keras-backend"
      ]
    },
    {
      "cell_type": "markdown",
      "metadata": {
        "id": "nm-fioNIaaZX"
      },
      "source": [
        "Targeted - adding carefully nosie despite looking same to human\r\n",
        "non-targated- find any input which tricks model"
      ]
    },
    {
      "cell_type": "code",
      "metadata": {
        "colab": {
          "base_uri": "https://localhost:8080/"
        },
        "id": "_u2IzZkrXaNa",
        "outputId": "d91fcb17-d5e0-457d-eec0-5428150dcddd"
      },
      "source": [
        "# TensorFlow and tf.keras\r\n",
        "import tensorflow as tf\r\n",
        "\r\n",
        "# Helper libraries\r\n",
        "import numpy as np\r\n",
        "import matplotlib.pyplot as plt\r\n",
        "\r\n",
        "print(tf.__version__)"
      ],
      "execution_count": 29,
      "outputs": [
        {
          "output_type": "stream",
          "text": [
            "2.4.0\n"
          ],
          "name": "stdout"
        }
      ]
    },
    {
      "cell_type": "code",
      "metadata": {
        "id": "OJFb9pqIXcyq"
      },
      "source": [
        "fashion_mnist = tf.keras.datasets.fashion_mnist\r\n",
        "\r\n",
        "(train_images, train_labels), (test_images, test_labels) = fashion_mnist.load_data()"
      ],
      "execution_count": 30,
      "outputs": []
    },
    {
      "cell_type": "code",
      "metadata": {
        "id": "_yD8QOmOXfV5"
      },
      "source": [
        "class_names = ['T-shirt/top', 'Trouser', 'Pullover', 'Dress', 'Coat',\r\n",
        "               'Sandal', 'Shirt', 'Sneaker', 'Bag', 'Ankle boot']"
      ],
      "execution_count": 31,
      "outputs": []
    },
    {
      "cell_type": "code",
      "metadata": {
        "colab": {
          "base_uri": "https://localhost:8080/"
        },
        "id": "MeeAfyKqXhYh",
        "outputId": "95583523-f374-4849-8f25-cd935a61326c"
      },
      "source": [
        "train_images.shape"
      ],
      "execution_count": 32,
      "outputs": [
        {
          "output_type": "execute_result",
          "data": {
            "text/plain": [
              "(60000, 28, 28)"
            ]
          },
          "metadata": {
            "tags": []
          },
          "execution_count": 32
        }
      ]
    },
    {
      "cell_type": "code",
      "metadata": {
        "colab": {
          "base_uri": "https://localhost:8080/"
        },
        "id": "-L4X_k0bXigz",
        "outputId": "85e00f36-b46f-4ca0-e888-5abb2651de9e"
      },
      "source": [
        "len(train_labels)"
      ],
      "execution_count": 33,
      "outputs": [
        {
          "output_type": "execute_result",
          "data": {
            "text/plain": [
              "60000"
            ]
          },
          "metadata": {
            "tags": []
          },
          "execution_count": 33
        }
      ]
    },
    {
      "cell_type": "code",
      "metadata": {
        "colab": {
          "base_uri": "https://localhost:8080/"
        },
        "id": "qZn5LF1lXkLp",
        "outputId": "af1b509b-74c3-4d3d-adc7-7c63a5da6166"
      },
      "source": [
        "train_labels"
      ],
      "execution_count": 34,
      "outputs": [
        {
          "output_type": "execute_result",
          "data": {
            "text/plain": [
              "array([9, 0, 0, ..., 3, 0, 5], dtype=uint8)"
            ]
          },
          "metadata": {
            "tags": []
          },
          "execution_count": 34
        }
      ]
    },
    {
      "cell_type": "code",
      "metadata": {
        "colab": {
          "base_uri": "https://localhost:8080/"
        },
        "id": "YC76-RIvXmOJ",
        "outputId": "91d54bac-676b-4052-b628-7ca403a913bd"
      },
      "source": [
        "test_images.shape"
      ],
      "execution_count": 35,
      "outputs": [
        {
          "output_type": "execute_result",
          "data": {
            "text/plain": [
              "(10000, 28, 28)"
            ]
          },
          "metadata": {
            "tags": []
          },
          "execution_count": 35
        }
      ]
    },
    {
      "cell_type": "code",
      "metadata": {
        "colab": {
          "base_uri": "https://localhost:8080/"
        },
        "id": "zTGvztbYXncJ",
        "outputId": "a8969cb1-8006-4c03-a27e-891246c9a8f7"
      },
      "source": [
        "len(test_labels)"
      ],
      "execution_count": 36,
      "outputs": [
        {
          "output_type": "execute_result",
          "data": {
            "text/plain": [
              "10000"
            ]
          },
          "metadata": {
            "tags": []
          },
          "execution_count": 36
        }
      ]
    },
    {
      "cell_type": "code",
      "metadata": {
        "colab": {
          "base_uri": "https://localhost:8080/",
          "height": 265
        },
        "id": "UbMyw3BCXpN5",
        "outputId": "2b2fc0e5-5ea1-4221-b3da-4f928af72957"
      },
      "source": [
        "plt.figure()\r\n",
        "plt.imshow(train_images[0])\r\n",
        "plt.colorbar()\r\n",
        "plt.grid(False)\r\n",
        "plt.show()"
      ],
      "execution_count": 37,
      "outputs": [
        {
          "output_type": "display_data",
          "data": {
            "image/png": "[encoded data removed]",
            "text/plain": [
              "<Figure size 432x288 with 2 Axes>"
            ]
          },
          "metadata": {
            "tags": [],
            "needs_background": "light"
          }
        }
      ]
    },
    {
      "cell_type": "code",
      "metadata": {
        "id": "2Y4bTJGbXqzQ"
      },
      "source": [
        "train_images = train_images / 255.0\r\n",
        "\r\n",
        "test_images = test_images / 255.0"
      ],
      "execution_count": 38,
      "outputs": []
    },
    {
      "cell_type": "code",
      "metadata": {
        "colab": {
          "base_uri": "https://localhost:8080/",
          "height": 589
        },
        "id": "kOVCNXQEXsXZ",
        "outputId": "81369225-50fd-4ba4-9a5d-9b12f5c2c6f5"
      },
      "source": [
        "plt.figure(figsize=(10,10))\r\n",
        "for i in range(25):\r\n",
        "    plt.subplot(5,5,i+1)\r\n",
        "    plt.xticks([])\r\n",
        "    plt.yticks([])\r\n",
        "    plt.grid(False)\r\n",
        "    plt.imshow(train_images[i], cmap=plt.cm.binary)\r\n",
        "    plt.xlabel(class_names[train_labels[i]])\r\n",
        "plt.show()"
      ],
      "execution_count": 39,
      "outputs": [
        {
          "output_type": "display_data",
          "data": {
            "image/png": "[encoded data removed]",
            "text/plain": [
              "<Figure size 720x720 with 25 Axes>"
            ]
          },
          "metadata": {
            "tags": []
          }
        }
      ]
    },
    {
      "cell_type": "code",
      "metadata": {
        "id": "QEUnQucfXuFx"
      },
      "source": [
        "model = tf.keras.Sequential([\r\n",
        "    tf.keras.layers.Flatten(input_shape=(28, 28)),\r\n",
        "    tf.keras.layers.Dense(128, activation='relu'),\r\n",
        "    tf.keras.layers.Dense(10)\r\n",
        "])"
      ],
      "execution_count": 40,
      "outputs": []
    },
    {
      "cell_type": "code",
      "metadata": {
        "id": "zovCYYJGXvo5"
      },
      "source": [
        "model.compile(optimizer='adam',\r\n",
        "              loss=tf.keras.losses.SparseCategoricalCrossentropy(from_logits=True),\r\n",
        "              metrics=['accuracy'])"
      ],
      "execution_count": 41,
      "outputs": []
    },
    {
      "cell_type": "code",
      "metadata": {
        "colab": {
          "base_uri": "https://localhost:8080/"
        },
        "id": "cq1zj1jWXxJp",
        "outputId": "20ad53a0-8915-4a30-e2d4-68f905c8f3c0"
      },
      "source": [
        "model.fit(train_images, train_labels, epochs=10)"
      ],
      "execution_count": 42,
      "outputs": [
        {
          "output_type": "stream",
          "text": [
            "Epoch 1/10\n",
            "1875/1875 [==============================] - 3s 2ms/step - loss: 0.6439 - accuracy: 0.7768\n",
            "Epoch 2/10\n",
            "1875/1875 [==============================] - 3s 2ms/step - loss: 0.3874 - accuracy: 0.8617\n",
            "Epoch 3/10\n",
            "1875/1875 [==============================] - 3s 2ms/step - loss: 0.3426 - accuracy: 0.8755\n",
            "Epoch 4/10\n",
            "1875/1875 [==============================] - 3s 2ms/step - loss: 0.3143 - accuracy: 0.8840\n",
            "Epoch 5/10\n",
            "1875/1875 [==============================] - 3s 2ms/step - loss: 0.2962 - accuracy: 0.8900\n",
            "Epoch 6/10\n",
            "1875/1875 [==============================] - 3s 1ms/step - loss: 0.2767 - accuracy: 0.8983\n",
            "Epoch 7/10\n",
            "1875/1875 [==============================] - 3s 2ms/step - loss: 0.2634 - accuracy: 0.9004\n",
            "Epoch 8/10\n",
            "1875/1875 [==============================] - 3s 2ms/step - loss: 0.2597 - accuracy: 0.9031\n",
            "Epoch 9/10\n",
            "1875/1875 [==============================] - 3s 2ms/step - loss: 0.2483 - accuracy: 0.9076\n",
            "Epoch 10/10\n",
            "1875/1875 [==============================] - 3s 2ms/step - loss: 0.2422 - accuracy: 0.9098\n"
          ],
          "name": "stdout"
        },
        {
          "output_type": "execute_result",
          "data": {
            "text/plain": [
              "<tensorflow.python.keras.callbacks.History at 0x7fdb21173588>"
            ]
          },
          "metadata": {
            "tags": []
          },
          "execution_count": 42
        }
      ]
    },
    {
      "cell_type": "code",
      "metadata": {
        "colab": {
          "base_uri": "https://localhost:8080/"
        },
        "id": "URLetI5PXzPI",
        "outputId": "19ba288c-6560-494f-fde7-451dc3c58deb"
      },
      "source": [
        "test_loss, test_acc = model.evaluate(test_images,  test_labels, verbose=2)\r\n",
        "\r\n",
        "print('\\nTest accuracy:', test_acc)"
      ],
      "execution_count": 43,
      "outputs": [
        {
          "output_type": "stream",
          "text": [
            "313/313 - 0s - loss: 0.3379 - accuracy: 0.8809\n",
            "\n",
            "Test accuracy: 0.8809000253677368\n"
          ],
          "name": "stdout"
        }
      ]
    },
    {
      "cell_type": "markdown",
      "metadata": {
        "id": "qmu2O0JvYDAg"
      },
      "source": [
        "Ref - https://www.tensorflow.org/tutorials/generative/adversarial_fgsm"
      ]
    },
    {
      "cell_type": "code",
      "metadata": {
        "id": "jh8B_LIZYjoh"
      },
      "source": [
        "first_image = test_images[0]\r\n",
        "label=class_names[test_labels[0]]\r\n",
        "predictions= model.predict(test_images)\r\n",
        "image_probs = np.argmax(predictions[0])"
      ],
      "execution_count": 44,
      "outputs": []
    },
    {
      "cell_type": "code",
      "metadata": {
        "colab": {
          "base_uri": "https://localhost:8080/",
          "height": 265
        },
        "id": "vg8C_6eQZq8L",
        "outputId": "0b640703-f938-4a4b-8f5f-c5d93bb45d54"
      },
      "source": [
        "plt.figure()\r\n",
        "plt.imshow(first_image) # To change [-1, 1] to [0,1]\r\n",
        "plt.show()"
      ],
      "execution_count": 45,
      "outputs": [
        {
          "output_type": "display_data",
          "data": {
            "image/png": "[encoded data removed]",
            "text/plain": [
              "<Figure size 432x288 with 1 Axes>"
            ]
          },
          "metadata": {
            "tags": [],
            "needs_background": "light"
          }
        }
      ]
    },
    {
      "cell_type": "code",
      "metadata": {
        "colab": {
          "base_uri": "https://localhost:8080/",
          "height": 35
        },
        "id": "5p8WeZNYaguU",
        "outputId": "91743ad7-4515-4699-9833-5dff3127d22c"
      },
      "source": [
        "label"
      ],
      "execution_count": 46,
      "outputs": [
        {
          "output_type": "execute_result",
          "data": {
            "application/vnd.google.colaboratory.intrinsic+json": {
              "type": "string"
            },
            "text/plain": [
              "'Ankle boot'"
            ]
          },
          "metadata": {
            "tags": []
          },
          "execution_count": 46
        }
      ]
    },
    {
      "cell_type": "code",
      "metadata": {
        "colab": {
          "base_uri": "https://localhost:8080/"
        },
        "id": "zQQ5vaKLaPKa",
        "outputId": "1b52afc3-31ad-427f-ee66-3a3b47811599"
      },
      "source": [
        "image_probs"
      ],
      "execution_count": 47,
      "outputs": [
        {
          "output_type": "execute_result",
          "data": {
            "text/plain": [
              "9"
            ]
          },
          "metadata": {
            "tags": []
          },
          "execution_count": 47
        }
      ]
    },
    {
      "cell_type": "code",
      "metadata": {
        "id": "-Jp-mbtfYEBA"
      },
      "source": [
        "loss_object = tf.keras.losses.SparseCategoricalCrossentropy(from_logits=True)\r\n",
        "\r\n",
        "def create_adversarial_pattern(input_image, input_label):\r\n",
        "  with tf.GradientTape() as tape:\r\n",
        "    tape.watch(input_image)\r\n",
        "    prediction = model(input_image)\r\n",
        "    print(\"prediction is\", prediction)\r\n",
        "    class_idxs_sorted = np.argsort(prediction.numpy().flatten())[::-1]\r\n",
        "    #loss = loss_object(input_label, prediction)\r\n",
        "    loss = prediction[0][class_idxs_sorted[0]]\r\n",
        "\r\n",
        "  # Get the gradients of the loss w.r.t to the input image.\r\n",
        "  gradient = tape.gradient(loss, input_image)\r\n",
        "  # Get the sign of the gradients to create the perturbation\r\n",
        "  signed_grad =  tf.math.abs(gradient)\r\n",
        "  return signed_grad"
      ],
      "execution_count": 48,
      "outputs": []
    },
    {
      "cell_type": "code",
      "metadata": {
        "id": "T6VKE9tWdXb0"
      },
      "source": [
        "in_image = tf.Variable(first_image.reshape((1, 28, 28)).astype(np.float32) /255.0)"
      ],
      "execution_count": 49,
      "outputs": []
    },
    {
      "cell_type": "code",
      "metadata": {
        "colab": {
          "base_uri": "https://localhost:8080/"
        },
        "id": "IjyU53hgyBcf",
        "outputId": "be2c308f-1891-4f69-cadd-53372f05cd45"
      },
      "source": [
        "print(test_labels[0])"
      ],
      "execution_count": 50,
      "outputs": [
        {
          "output_type": "stream",
          "text": [
            "9\n"
          ],
          "name": "stdout"
        }
      ]
    },
    {
      "cell_type": "code",
      "metadata": {
        "colab": {
          "base_uri": "https://localhost:8080/",
          "height": 1000
        },
        "id": "lqbqZ837Yb_B",
        "outputId": "2dad567d-dd15-4559-9005-ed063b317231"
      },
      "source": [
        "perturbations = create_adversarial_pattern(in_image, test_labels[0])\r\n",
        "#print(\"perturbations is\",perturbations)\r\n",
        "plt.imshow(perturbations[0]*0.5+0.5) # To change [-1, 1] to [0,1]"
      ],
      "execution_count": 51,
      "outputs": [
        {
          "output_type": "stream",
          "text": [
            "prediction is tf.Tensor(\n",
            "[[-1.1712418 -6.174225  -3.2496712 -3.6505024 -3.376261   0.8106331\n",
            "  -1.57105   -3.1650293 -4.2829127 -7.3012133]], shape=(1, 10), dtype=float32)\n",
            "perturbations is tf.Tensor(\n",
            "[[[7.50465095e-02 2.91316986e-01 8.43176126e-01 9.02789533e-01\n",
            "   1.43768400e-01 6.02770805e-01 1.62374401e+00 9.86468673e-01\n",
            "   7.17012882e-01 8.85232925e-01 2.26151276e+00 2.65734315e+00\n",
            "   9.02126193e-01 1.39726132e-01 4.11536336e-01 1.12415326e+00\n",
            "   1.15812898e+00 1.41282177e+00 1.24241400e+00 3.42980146e-01\n",
            "   1.79300427e+00 2.26496720e+00 1.17239058e+00 1.28604650e+00\n",
            "   4.24928188e-01 1.57572523e-01 3.43605667e-01 4.82597500e-01]\n",
            "  [6.80298030e-01 9.67691183e-01 1.29816830e-01 8.25776935e-01\n",
            "   3.42155695e-01 7.66930461e-01 1.03681052e+00 8.50082457e-01\n",
            "   4.16644871e-01 1.27344179e+00 1.47605741e+00 8.60458612e-01\n",
            "   4.75107729e-01 1.07577467e+00 1.08573437e+00 5.11818647e-01\n",
            "   6.73869073e-01 1.81925511e+00 1.63722372e+00 3.31777036e-02\n",
            "   8.91272128e-01 5.42793989e-01 1.79010242e-01 6.56908214e-01\n",
            "   1.07488370e+00 3.12399685e-01 1.43310857e+00 9.08895552e-01]\n",
            "  [2.25423717e+00 1.03356504e+00 3.75012457e-01 8.36172819e-01\n",
            "   6.12968802e-01 7.32884765e-01 1.64520442e+00 4.43435162e-01\n",
            "   9.17437077e-01 8.10283065e-01 4.54606831e-01 4.92542207e-01\n",
            "   7.96413347e-02 1.72274828e-01 2.41645873e-01 4.64697212e-01\n",
            "   3.40128988e-01 1.22480154e-01 2.38126934e-01 5.53596020e-01\n",
            "   7.25569367e-01 7.87027597e-01 6.29597783e-01 4.11595881e-01\n",
            "   7.27793872e-01 1.17509580e+00 1.82697505e-01 2.14851904e+00]\n",
            "  [1.70103335e+00 3.89301717e-01 2.90847480e-01 8.83418322e-03\n",
            "   1.45968646e-01 1.04573572e+00 2.98863113e-01 1.94028378e-01\n",
            "   8.73142481e-03 3.77376676e-01 2.46384010e-01 3.86496037e-01\n",
            "   6.13122523e-01 1.06937207e-01 4.31373805e-01 2.56129384e-01\n",
            "   4.29630876e-02 6.35663867e-02 2.44406402e-01 1.39773536e+00\n",
            "   1.12267423e+00 1.09988415e+00 1.65585864e+00 1.36175251e+00\n",
            "   1.14672697e+00 5.02815843e-01 2.17353314e-01 8.99922550e-02]\n",
            "  [5.31172693e-01 7.82009959e-02 2.33269960e-01 6.79478347e-02\n",
            "   4.47631031e-01 8.65564466e-01 3.45175862e-02 3.01162630e-01\n",
            "   5.79869300e-02 6.64056778e-01 8.51968646e-01 2.71928906e-02\n",
            "   1.24190658e-01 1.49931669e-01 1.79725125e-01 2.58159995e-01\n",
            "   1.60472572e-01 3.59494030e-01 1.43033385e+00 5.86060584e-02\n",
            "   1.49774075e-01 3.68848920e-01 1.08205533e+00 1.47714305e+00\n",
            "   9.35818315e-01 4.95092988e-01 5.62599063e-01 5.53076327e-01]\n",
            "  [9.37117219e-01 6.22195125e-01 1.32218465e-01 7.73712546e-02\n",
            "   7.30260789e-01 8.16476166e-01 8.39139163e-01 2.78730422e-01\n",
            "   1.25617003e+00 1.19901907e+00 9.05828103e-02 2.52160519e-01\n",
            "   2.88410902e-01 1.27198279e-01 7.60825157e-01 2.05137804e-02\n",
            "   4.47591916e-02 6.62254691e-01 1.55724955e+00 6.19429410e-01\n",
            "   2.02697814e-02 2.67978162e-02 9.54536438e-01 1.30423486e+00\n",
            "   1.58231258e+00 1.68908191e+00 1.76146507e+00 2.11086988e+00]\n",
            "  [2.33934343e-01 5.47173172e-02 1.69085979e-01 2.99688876e-01\n",
            "   2.83658206e-01 2.14701653e-01 4.56799567e-01 7.96293139e-01\n",
            "   1.71200621e+00 1.10573089e+00 7.26382971e-01 7.70725310e-01\n",
            "   5.12895167e-01 8.16025913e-01 1.22980028e-01 3.11245471e-01\n",
            "   7.29089022e-01 6.48223519e-01 1.67024839e+00 1.44195008e+00\n",
            "   2.36110985e-02 5.32436550e-01 2.63811350e-02 2.00314164e+00\n",
            "   2.65327883e+00 2.09264803e+00 1.32880843e+00 3.11445713e-01]\n",
            "  [1.70159078e+00 3.73485744e-01 9.16209877e-01 7.19794631e-01\n",
            "   5.16975224e-02 6.27382874e-01 1.57169437e+00 1.28580904e+00\n",
            "   1.56218958e+00 1.42816293e+00 9.74003017e-01 4.05210286e-01\n",
            "   4.35534418e-01 9.01946574e-02 1.25204635e+00 1.97610229e-01\n",
            "   1.03303349e+00 8.10390592e-01 1.69982851e+00 2.04296184e+00\n",
            "   6.07529938e-01 8.15470576e-01 9.24225152e-02 1.54678798e+00\n",
            "   1.36925387e+00 8.57296169e-01 1.90093160e+00 5.55105507e-01]\n",
            "  [1.46853888e+00 9.26307499e-01 1.13283229e+00 3.58600289e-01\n",
            "   1.15421367e+00 7.57928491e-01 1.25421131e+00 1.12636042e+00\n",
            "   1.24967134e+00 1.30595756e+00 5.20191312e-01 4.39087749e-01\n",
            "   4.63150442e-01 5.19995570e-01 6.76015317e-01 1.57997161e-01\n",
            "   9.97758150e-01 1.16986895e+00 1.14636827e+00 1.16057098e-01\n",
            "   4.81437504e-01 8.50091219e-01 2.02093869e-01 1.41501856e+00\n",
            "   1.15385115e+00 1.63858736e+00 7.28669047e-01 3.19843382e-01]\n",
            "  [9.47441220e-01 1.50463474e+00 1.25296736e+00 1.79171944e+00\n",
            "   1.93363333e+00 1.44786215e+00 9.44560945e-01 9.50465083e-01\n",
            "   1.09367740e+00 7.68333912e-01 5.72458386e-01 1.01573348e+00\n",
            "   2.59656340e-01 3.90188873e-01 5.34687042e-01 2.65848100e-01\n",
            "   9.59440887e-01 1.69443703e+00 4.46250826e-01 4.81633276e-01\n",
            "   7.36931443e-01 9.37576354e-01 1.26959175e-01 6.72403991e-01\n",
            "   1.36604917e+00 6.65174127e-01 2.93373466e-01 1.74311176e-01]\n",
            "  [2.38927054e+00 2.18842149e+00 8.68984222e-01 1.77105516e-01\n",
            "   1.09176672e+00 9.33365703e-01 5.34730434e-01 4.34951708e-02\n",
            "   2.54152387e-01 1.71989128e-01 6.57121301e-01 1.00267863e+00\n",
            "   6.07288957e-01 2.08312273e-02 3.45110029e-01 5.03379345e-01\n",
            "   2.86495686e-01 2.92543203e-01 2.00105816e-01 3.50082517e-02\n",
            "   1.41752303e+00 1.05129910e+00 9.76210833e-02 3.74481440e-01\n",
            "   2.19494867e+00 1.26749575e-01 8.57240140e-01 9.32610750e-01]\n",
            "  [2.45468998e+00 2.38863778e+00 2.93653655e+00 3.89751971e-01\n",
            "   9.77117598e-01 6.30209744e-01 5.37373424e-01 9.12942469e-01\n",
            "   5.44463694e-02 9.68638659e-01 3.80752265e-01 1.83154559e+00\n",
            "   1.06102204e+00 4.19858396e-01 1.25102937e-01 5.22114113e-02\n",
            "   4.56484377e-01 1.34662375e-01 6.14190102e-03 7.97025084e-01\n",
            "   6.46839440e-02 6.20685220e-01 8.47616017e-01 1.92624390e-01\n",
            "   8.56070966e-03 7.45228678e-02 6.46185994e-01 5.53234279e-01]\n",
            "  [1.78700686e+00 4.11090493e-01 1.05321896e+00 1.20679080e+00\n",
            "   1.18128788e+00 8.37866902e-01 4.62106466e-02 3.84683967e-01\n",
            "   1.19393855e-01 3.24909091e-02 2.28060678e-01 7.63174653e-01\n",
            "   1.33590651e+00 2.75156796e-01 3.06890011e-01 2.42753878e-01\n",
            "   8.25743377e-02 4.33217585e-01 1.52035996e-01 3.66023779e-02\n",
            "   3.47965896e-01 6.79132938e-02 1.18545458e-01 1.48206770e-01\n",
            "   1.40896574e-01 7.08219707e-01 4.83885169e-01 2.31224462e-01]\n",
            "  [1.25428975e+00 4.71451759e-01 1.17913043e+00 2.46653962e+00\n",
            "   1.15928042e+00 2.69806337e+00 7.50551224e-01 1.35371350e-02\n",
            "   2.63163865e-01 2.98672497e-01 2.56694555e-02 9.36316252e-01\n",
            "   3.84318471e-01 1.26259029e-02 2.40496695e-02 5.05722463e-02\n",
            "   3.30969423e-01 1.54780924e-01 4.36321735e-01 9.37144309e-02\n",
            "   6.76076174e-01 3.98077518e-01 8.65387172e-02 3.00185382e-01\n",
            "   5.62928677e-01 5.40384233e-01 1.26406920e+00 6.34198189e-01]\n",
            "  [1.07800531e+00 7.51514256e-01 1.63973141e+00 2.48348808e+00\n",
            "   8.64502907e-01 2.72921562e+00 1.58534873e+00 7.42664874e-01\n",
            "   5.59380770e-01 2.92680264e-02 4.31183308e-01 7.19975829e-01\n",
            "   4.38345373e-01 7.97423422e-02 1.12995446e-01 2.67427921e-01\n",
            "   1.76880479e-01 5.39392680e-02 7.42284894e-01 1.03161907e+00\n",
            "   1.60073686e+00 2.09144503e-01 1.17533886e+00 6.22988582e-01\n",
            "   5.31097054e-01 2.36730099e-01 4.55529392e-02 1.43818104e+00]\n",
            "  [8.69886875e-02 4.57155645e-01 9.37714934e-01 1.44836462e+00\n",
            "   1.06313574e+00 2.05520082e+00 1.51145911e+00 3.17127585e-01\n",
            "   6.07946217e-01 3.77755344e-01 3.19298774e-01 8.80383134e-01\n",
            "   2.68720537e-01 3.24243307e-03 2.41017342e-03 3.73627543e-01\n",
            "   4.48951423e-02 3.69699925e-01 5.34065843e-01 1.75289536e+00\n",
            "   1.55122125e+00 1.10687375e+00 8.12542260e-01 8.92557502e-01\n",
            "   1.16612720e+00 4.65500653e-02 2.36587018e-01 9.45996284e-01]\n",
            "  [6.77802324e-01 4.70399529e-01 8.47518086e-01 1.41871691e+00\n",
            "   7.55716741e-01 2.13500309e+00 1.55226922e+00 1.85782361e+00\n",
            "   2.06948102e-01 1.02172375e-01 4.56118315e-01 6.35691762e-01\n",
            "   2.72659183e-01 3.70874614e-01 3.20700347e-01 1.16505288e-01\n",
            "   2.10689291e-01 9.69931707e-02 4.82570708e-01 9.82404590e-01\n",
            "   1.01035213e+00 2.86945075e-01 1.54322088e+00 8.15118492e-01\n",
            "   7.32177138e-01 5.55637479e-01 1.10067582e+00 3.26381028e-01]\n",
            "  [3.79473358e-01 1.26621461e+00 1.24869227e+00 9.59914565e-01\n",
            "   8.13836575e-01 1.03945947e+00 8.89862776e-01 3.33929181e-01\n",
            "   1.56451449e-01 1.81412965e-01 2.22083077e-01 8.26013029e-01\n",
            "   4.91362512e-01 5.14641069e-02 4.39675778e-01 1.27595946e-01\n",
            "   1.53681025e-01 1.10175379e-01 5.37228227e-01 1.17893767e+00\n",
            "   6.59984946e-01 8.30467403e-01 7.98546433e-01 7.99818754e-01\n",
            "   1.01568675e+00 1.05744445e+00 3.37090671e-01 2.68573582e-01]\n",
            "  [8.02704513e-01 1.13060594e+00 2.88999319e-01 2.46041536e-01\n",
            "   3.50473762e-01 6.33246303e-01 5.85019529e-01 2.28815213e-01\n",
            "   2.89911896e-01 4.60355699e-01 5.37305772e-01 6.42578900e-02\n",
            "   1.80186674e-01 5.41066885e-01 4.55976129e-01 6.79172397e-01\n",
            "   1.62756756e-01 3.74156296e-01 5.01220942e-01 5.27265370e-01\n",
            "   5.15352726e-01 4.56356108e-02 8.86870682e-01 7.61042118e-01\n",
            "   1.20803261e+00 1.23022079e+00 6.08439565e-01 9.16901529e-01]\n",
            "  [1.20283484e+00 4.71611321e-01 5.22956491e-01 7.63199091e-01\n",
            "   3.77838850e-01 1.03812921e+00 6.66920245e-01 4.99534816e-01\n",
            "   1.11198580e+00 1.76404297e-01 1.86560959e-01 2.85832584e-01\n",
            "   2.59042561e-01 6.42045379e-01 2.93067157e-01 3.32888007e-01\n",
            "   4.06507075e-01 2.48390958e-01 1.10075325e-02 7.25473836e-02\n",
            "   5.91320276e-01 2.51744896e-01 4.89225566e-01 1.06759739e+00\n",
            "   1.00442576e+00 6.83207870e-01 8.98255467e-01 4.11491930e-01]\n",
            "  [2.42695302e-01 2.22833157e-02 2.90005416e-01 7.66178012e-01\n",
            "   9.59879994e-01 5.19794941e-01 8.51444423e-01 3.82303238e-01\n",
            "   3.54393482e-01 2.69098610e-01 4.52757657e-01 7.11635500e-02\n",
            "   6.49392366e-01 5.07321954e-03 3.36991131e-01 5.99708140e-01\n",
            "   2.98858076e-01 1.23455524e+00 6.75293028e-01 1.24752767e-01\n",
            "   4.00632679e-01 1.81117249e+00 4.07967389e-01 1.19989586e+00\n",
            "   1.66273606e+00 1.43817508e+00 1.51518917e+00 7.95377612e-01]\n",
            "  [3.14255506e-01 9.84467387e-01 4.52818215e-01 5.20722747e-01\n",
            "   2.21153080e-01 2.62033463e-01 8.87451768e-01 2.84224749e-02\n",
            "   3.83122772e-01 3.69960219e-01 1.12506300e-02 9.53323692e-02\n",
            "   6.71364069e-02 1.49249226e-01 8.91404450e-02 7.24272132e-02\n",
            "   9.18873549e-01 1.21540666e+00 1.28295109e-01 7.13482678e-01\n",
            "   7.44221985e-01 1.34672928e+00 1.57041514e+00 1.75737619e+00\n",
            "   2.74147654e+00 1.22829759e+00 7.15090275e-01 1.33308268e+00]\n",
            "  [5.75985089e-02 7.50895381e-01 7.59983540e-01 3.13309252e-01\n",
            "   5.21328092e-01 7.08275974e-01 1.58879727e-01 2.24971384e-01\n",
            "   3.65150571e-02 1.50822908e-01 4.08685565e-01 5.34281731e-01\n",
            "   1.17952502e+00 7.19106674e-01 4.14745033e-01 9.11960244e-01\n",
            "   1.13655782e+00 7.09343195e-01 1.57529473e+00 4.96115804e-01\n",
            "   3.67492348e-01 1.66791409e-01 8.82318795e-01 2.26912475e+00\n",
            "   2.37352252e+00 1.50792170e+00 3.47645432e-01 1.83916956e-01]\n",
            "  [7.42020130e-01 6.45508647e-01 3.72496784e-01 7.82081485e-02\n",
            "   3.56242657e-02 6.44598246e-01 7.08088100e-01 5.14339656e-02\n",
            "   4.04560506e-01 6.51405454e-01 5.68042576e-01 2.99892575e-02\n",
            "   6.17667317e-01 3.78564000e-01 8.04641485e-01 5.58901310e-01\n",
            "   9.83327091e-01 1.78943658e+00 1.03592134e+00 9.36521441e-02\n",
            "   1.80351570e-01 6.40599906e-01 1.38555741e+00 1.88110602e+00\n",
            "   1.80972457e+00 1.72000480e+00 7.10993528e-01 6.67394578e-01]\n",
            "  [2.73963362e-02 1.48373199e+00 1.50907111e+00 7.00283825e-01\n",
            "   4.53796446e-01 2.94700086e-01 9.43234324e-01 5.03297329e-01\n",
            "   1.62635422e+00 4.89422888e-01 8.00565183e-02 3.38838786e-01\n",
            "   3.63371611e-01 2.11298436e-01 2.86199450e-02 7.85231113e-01\n",
            "   5.94590008e-01 9.17696118e-01 1.51531890e-01 3.84804547e-01\n",
            "   4.56993341e-01 7.06371307e-01 8.72397006e-01 1.93622112e+00\n",
            "   1.53558862e+00 1.70481229e+00 1.51545358e+00 1.60801321e-01]\n",
            "  [9.49232280e-03 1.17455149e+00 8.24824452e-01 2.52550960e-01\n",
            "   1.42377961e+00 6.29615337e-02 4.81323570e-01 2.58256614e-01\n",
            "   1.66994405e+00 1.23958349e+00 4.87866908e-01 3.80670875e-02\n",
            "   5.23604870e-01 2.05504894e-03 6.75608218e-02 3.71319771e-01\n",
            "   1.63927484e+00 4.56176460e-01 8.70482922e-02 1.19274676e+00\n",
            "   6.10102057e-01 8.32231283e-01 1.40533149e-02 1.90186632e+00\n",
            "   1.53579211e+00 7.04551160e-01 1.50240839e+00 1.59116507e-01]\n",
            "  [1.77232862e-01 8.83222818e-01 7.13670909e-01 1.47797954e+00\n",
            "   1.20389509e+00 5.72581887e-01 2.79543668e-01 3.44664514e-01\n",
            "   3.09972018e-02 6.31224990e-01 1.30216032e-01 8.47655237e-02\n",
            "   2.18743980e-01 5.30005395e-01 1.11106539e+00 1.98391485e+00\n",
            "   1.82705998e+00 9.13243413e-01 6.30760014e-01 6.18336201e-02\n",
            "   6.80780888e-01 2.26130813e-01 3.76491994e-02 9.62718248e-01\n",
            "   1.51289439e+00 8.65165710e-01 4.69731957e-01 1.02479553e+00]\n",
            "  [5.53400099e-01 1.06058717e-01 1.20605481e+00 1.01181579e+00\n",
            "   3.50081384e-01 3.94051075e-02 5.46776354e-01 1.75275242e+00\n",
            "   7.75592625e-02 7.95763552e-01 2.93760866e-01 2.51298994e-01\n",
            "   7.50607610e-01 1.66578078e+00 6.39338017e-01 1.62749457e+00\n",
            "   2.80280423e+00 2.27365446e+00 1.94897652e+00 5.29216647e-01\n",
            "   1.55408883e+00 9.24640059e-01 1.40912759e+00 6.82622671e-01\n",
            "   1.05229211e+00 1.31757724e+00 8.10746104e-02 4.96635348e-01]]], shape=(1, 28, 28), dtype=float32)\n"
          ],
          "name": "stdout"
        },
        {
          "output_type": "execute_result",
          "data": {
            "text/plain": [
              "<matplotlib.image.AxesImage at 0x7fdb21024f98>"
            ]
          },
          "metadata": {
            "tags": []
          },
          "execution_count": 51
        },
        {
          "output_type": "display_data",
          "data": {
            "image/png": "[encoded data removed]",
            "text/plain": [
              "<Figure size 432x288 with 1 Axes>"
            ]
          },
          "metadata": {
            "tags": [],
            "needs_background": "light"
          }
        }
      ]
    },
    {
      "cell_type": "code",
      "metadata": {
        "colab": {
          "base_uri": "https://localhost:8080/"
        },
        "id": "dNvnzS3ZCOev",
        "outputId": "c41505b8-e3a6-4591-b6fd-b08cc5d2f2c0"
      },
      "source": [
        "perturbations.shape"
      ],
      "execution_count": 52,
      "outputs": [
        {
          "output_type": "execute_result",
          "data": {
            "text/plain": [
              "TensorShape([1, 28, 28])"
            ]
          },
          "metadata": {
            "tags": []
          },
          "execution_count": 52
        }
      ]
    },
    {
      "cell_type": "code",
      "metadata": {
        "id": "Zu0xNSDMC583"
      },
      "source": [
        "\r\n",
        "#dgrad_max_ = np.max(perturbations)[0]\r\n",
        "dgrad_max_ = perturbations"
      ],
      "execution_count": 90,
      "outputs": []
    },
    {
      "cell_type": "code",
      "metadata": {
        "colab": {
          "base_uri": "https://localhost:8080/"
        },
        "id": "jFZXTYaXDKuX",
        "outputId": "f8f92b7c-8180-41bd-f0b5-753f0d40e5d4"
      },
      "source": [
        "dgrad_max_.shape"
      ],
      "execution_count": 91,
      "outputs": [
        {
          "output_type": "execute_result",
          "data": {
            "text/plain": [
              "TensorShape([1, 28, 28])"
            ]
          },
          "metadata": {
            "tags": []
          },
          "execution_count": 91
        }
      ]
    },
    {
      "cell_type": "code",
      "metadata": {
        "id": "jO6p3DR9Ca1E"
      },
      "source": [
        "## normalize to range between 0 and 1\r\n",
        "arr_min, arr_max  = np.min(dgrad_max_), np.max(dgrad_max_)\r\n",
        "grad_eval = (dgrad_max_ - arr_min) / (arr_max - arr_min + 1e-18)"
      ],
      "execution_count": 92,
      "outputs": []
    },
    {
      "cell_type": "code",
      "metadata": {
        "colab": {
          "base_uri": "https://localhost:8080/"
        },
        "id": "EysQJrzqCson",
        "outputId": "97dbf5c8-7c42-4da0-d3ec-a359ce320da0"
      },
      "source": [
        "grad_eval.shape"
      ],
      "execution_count": 93,
      "outputs": [
        {
          "output_type": "execute_result",
          "data": {
            "text/plain": [
              "TensorShape([1, 28, 28])"
            ]
          },
          "metadata": {
            "tags": []
          },
          "execution_count": 93
        }
      ]
    },
    {
      "cell_type": "code",
      "metadata": {
        "colab": {
          "base_uri": "https://localhost:8080/",
          "height": 341
        },
        "id": "48HwM_RcCvmL",
        "outputId": "5f142881-df27-4ae2-9a19-e0cb6122ef51"
      },
      "source": [
        "fig, axes = plt.subplots(1,2,figsize=(14,5))\r\n",
        "axes[0].imshow(first_image)\r\n",
        "i = axes[1].imshow(grad_eval[0],cmap=\"jet\",alpha=0.8)\r\n",
        "fig.colorbar(i)"
      ],
      "execution_count": 94,
      "outputs": [
        {
          "output_type": "execute_result",
          "data": {
            "text/plain": [
              "<matplotlib.colorbar.Colorbar at 0x7fdb211b1978>"
            ]
          },
          "metadata": {
            "tags": []
          },
          "execution_count": 94
        },
        {
          "output_type": "display_data",
          "data": {
            "image/png": "[encoded data removed]",
            "text/plain": [
              "<Figure size 1008x360 with 3 Axes>"
            ]
          },
          "metadata": {
            "tags": [],
            "needs_background": "light"
          }
        }
      ]
    }
  ]
}