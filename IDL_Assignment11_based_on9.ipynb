{
  "nbformat": 4,
  "nbformat_minor": 0,
  "metadata": {
    "colab": {
      "name": "IDL_Assignment11_based on9.ipynb",
      "provenance": [],
      "authorship_tag": "ABX9TyPpQtL8R9wOqDsAh2BJjZcQ",
      "include_colab_link": true
    },
    "kernelspec": {
      "name": "python3",
      "display_name": "Python 3"
    }
  },
  "cells": [
    {
      "cell_type": "markdown",
      "metadata": {
        "id": "view-in-github",
        "colab_type": "text"
      },
      "source": [
        "<a href=\"https://colab.research.google.com/github/BlackCurrantDS/DeepLearning/blob/main/IDL_Assignment11_based_on9.ipynb\" target=\"_parent\"><img src=\"https://colab.research.google.com/assets/colab-badge.svg\" alt=\"Open In Colab\"/></a>"
      ]
    },
    {
      "cell_type": "markdown",
      "metadata": {
        "id": "1EHEfjFZaNTE"
      },
      "source": [
        "References- \r\n",
        "\r\n",
        "https://medium.com/@ml.at.berkeley/tricking-neural-networks-create-your-own-adversarial-examples-a61eb7620fd8\r\n",
        "\r\n",
        "https://adversarial-ml-tutorial.org/adversarial_examples/\r\n",
        "\r\n",
        "https://harvard-iacs.github.io/2019-CS109B/lecture/lab21/AdversarialNN/\r\n",
        "\r\n",
        "https://adversarial-ml-tutorial.org/adversarial_examples/\r\n",
        "\r\n",
        "https://medium.com/analytics-vidhya/implementing-adversarial-attacks-and-defenses-in-keras-tensorflow-2-0-cab6120c5715"
      ]
    },
    {
      "cell_type": "markdown",
      "metadata": {
        "id": "nm-fioNIaaZX"
      },
      "source": [
        "Targeted - adding carefully nosie despite looking same to human\r\n",
        "non-targated- find any input which tricks model"
      ]
    },
    {
      "cell_type": "code",
      "metadata": {
        "colab": {
          "base_uri": "https://localhost:8080/"
        },
        "id": "_u2IzZkrXaNa",
        "outputId": "efc1fdbd-197e-453f-c51b-ce3107fc47bd"
      },
      "source": [
        "# TensorFlow and tf.keras\r\n",
        "import tensorflow as tf\r\n",
        "\r\n",
        "# Helper libraries\r\n",
        "import numpy as np\r\n",
        "import matplotlib.pyplot as plt\r\n",
        "\r\n",
        "print(tf.__version__)"
      ],
      "execution_count": null,
      "outputs": [
        {
          "output_type": "stream",
          "text": [
            "2.4.0\n"
          ],
          "name": "stdout"
        }
      ]
    },
    {
      "cell_type": "code",
      "metadata": {
        "id": "OJFb9pqIXcyq",
        "colab": {
          "base_uri": "https://localhost:8080/"
        },
        "outputId": "ae9f5caf-836e-45a0-dd8a-f8d78bc28c7b"
      },
      "source": [
        "fashion_mnist = tf.keras.datasets.fashion_mnist\r\n",
        "\r\n",
        "(train_images, train_labels), (test_images, test_labels) = fashion_mnist.load_data()"
      ],
      "execution_count": null,
      "outputs": [
        {
          "output_type": "stream",
          "text": [
            "Downloading data from https://storage.googleapis.com/tensorflow/tf-keras-datasets/train-labels-idx1-ubyte.gz\n",
            "32768/29515 [=================================] - 0s 0us/step\n",
            "Downloading data from https://storage.googleapis.com/tensorflow/tf-keras-datasets/train-images-idx3-ubyte.gz\n",
            "26427392/26421880 [==============================] - 0s 0us/step\n",
            "Downloading data from https://storage.googleapis.com/tensorflow/tf-keras-datasets/t10k-labels-idx1-ubyte.gz\n",
            "8192/5148 [===============================================] - 0s 0us/step\n",
            "Downloading data from https://storage.googleapis.com/tensorflow/tf-keras-datasets/t10k-images-idx3-ubyte.gz\n",
            "4423680/4422102 [==============================] - 0s 0us/step\n"
          ],
          "name": "stdout"
        }
      ]
    },
    {
      "cell_type": "code",
      "metadata": {
        "id": "_yD8QOmOXfV5"
      },
      "source": [
        "class_names = ['T-shirt/top', 'Trouser', 'Pullover', 'Dress', 'Coat',\r\n",
        "               'Sandal', 'Shirt', 'Sneaker', 'Bag', 'Ankle boot']"
      ],
      "execution_count": null,
      "outputs": []
    },
    {
      "cell_type": "code",
      "metadata": {
        "colab": {
          "base_uri": "https://localhost:8080/"
        },
        "id": "MeeAfyKqXhYh",
        "outputId": "963121f7-d5a9-4d4c-a45d-e27950066474"
      },
      "source": [
        "train_images.shape"
      ],
      "execution_count": null,
      "outputs": [
        {
          "output_type": "execute_result",
          "data": {
            "text/plain": [
              "(60000, 28, 28)"
            ]
          },
          "metadata": {
            "tags": []
          },
          "execution_count": 4
        }
      ]
    },
    {
      "cell_type": "code",
      "metadata": {
        "colab": {
          "base_uri": "https://localhost:8080/"
        },
        "id": "-L4X_k0bXigz",
        "outputId": "f0ab0cc9-5123-4edd-87c7-39cc4a99a065"
      },
      "source": [
        "len(train_labels)"
      ],
      "execution_count": null,
      "outputs": [
        {
          "output_type": "execute_result",
          "data": {
            "text/plain": [
              "60000"
            ]
          },
          "metadata": {
            "tags": []
          },
          "execution_count": 5
        }
      ]
    },
    {
      "cell_type": "code",
      "metadata": {
        "colab": {
          "base_uri": "https://localhost:8080/"
        },
        "id": "qZn5LF1lXkLp",
        "outputId": "c54d437c-bb0b-4411-a788-52c4a45bb915"
      },
      "source": [
        "train_labels"
      ],
      "execution_count": null,
      "outputs": [
        {
          "output_type": "execute_result",
          "data": {
            "text/plain": [
              "array([9, 0, 0, ..., 3, 0, 5], dtype=uint8)"
            ]
          },
          "metadata": {
            "tags": []
          },
          "execution_count": 6
        }
      ]
    },
    {
      "cell_type": "code",
      "metadata": {
        "colab": {
          "base_uri": "https://localhost:8080/"
        },
        "id": "YC76-RIvXmOJ",
        "outputId": "35778c2e-f9a2-48d6-d445-434fe452739b"
      },
      "source": [
        "test_images.shape"
      ],
      "execution_count": null,
      "outputs": [
        {
          "output_type": "execute_result",
          "data": {
            "text/plain": [
              "(10000, 28, 28)"
            ]
          },
          "metadata": {
            "tags": []
          },
          "execution_count": 7
        }
      ]
    },
    {
      "cell_type": "code",
      "metadata": {
        "colab": {
          "base_uri": "https://localhost:8080/"
        },
        "id": "zTGvztbYXncJ",
        "outputId": "d11d13a4-5dfa-4d46-bc9b-25dcb022185c"
      },
      "source": [
        "len(test_labels)"
      ],
      "execution_count": null,
      "outputs": [
        {
          "output_type": "execute_result",
          "data": {
            "text/plain": [
              "10000"
            ]
          },
          "metadata": {
            "tags": []
          },
          "execution_count": 8
        }
      ]
    },
    {
      "cell_type": "code",
      "metadata": {
        "colab": {
          "base_uri": "https://localhost:8080/",
          "height": 265
        },
        "id": "UbMyw3BCXpN5",
        "outputId": "6e604a5c-6e3a-499e-fdac-7f36c5fc9204"
      },
      "source": [
        "plt.figure()\r\n",
        "plt.imshow(train_images[0])\r\n",
        "plt.colorbar()\r\n",
        "plt.grid(False)\r\n",
        "plt.show()"
      ],
      "execution_count": null,
      "outputs": [
        {
          "output_type": "display_data",
          "data": {
            "image/png": "[encoded data removed]",
            "text/plain": [
              "<Figure size 432x288 with 2 Axes>"
            ]
          },
          "metadata": {
            "tags": [],
            "needs_background": "light"
          }
        }
      ]
    },
    {
      "cell_type": "code",
      "metadata": {
        "id": "2Y4bTJGbXqzQ"
      },
      "source": [
        "train_images = train_images / 255.0\r\n",
        "\r\n",
        "test_images = test_images / 255.0"
      ],
      "execution_count": null,
      "outputs": []
    },
    {
      "cell_type": "code",
      "metadata": {
        "colab": {
          "base_uri": "https://localhost:8080/",
          "height": 589
        },
        "id": "kOVCNXQEXsXZ",
        "outputId": "8071e596-18d2-4fe9-c069-bba59a6f260f"
      },
      "source": [
        "plt.figure(figsize=(10,10))\r\n",
        "for i in range(25):\r\n",
        "    plt.subplot(5,5,i+1)\r\n",
        "    plt.xticks([])\r\n",
        "    plt.yticks([])\r\n",
        "    plt.grid(False)\r\n",
        "    plt.imshow(train_images[i], cmap=plt.cm.binary)\r\n",
        "    plt.xlabel(class_names[train_labels[i]])\r\n",
        "plt.show()"
      ],
      "execution_count": null,
      "outputs": [
        {
          "output_type": "display_data",
          "data": {
            "image/png": "[encoded data removed]",
            "text/plain": [
              "<Figure size 720x720 with 25 Axes>"
            ]
          },
          "metadata": {
            "tags": []
          }
        }
      ]
    },
    {
      "cell_type": "code",
      "metadata": {
        "id": "QEUnQucfXuFx"
      },
      "source": [
        "model = tf.keras.Sequential([\r\n",
        "    tf.keras.layers.Flatten(input_shape=(28, 28)),\r\n",
        "    tf.keras.layers.Dense(128, activation='relu'),\r\n",
        "    tf.keras.layers.Dense(10)\r\n",
        "])"
      ],
      "execution_count": null,
      "outputs": []
    },
    {
      "cell_type": "code",
      "metadata": {
        "id": "zovCYYJGXvo5"
      },
      "source": [
        "model.compile(optimizer='adam',\r\n",
        "              loss=tf.keras.losses.SparseCategoricalCrossentropy(from_logits=True),\r\n",
        "              metrics=['accuracy'])"
      ],
      "execution_count": null,
      "outputs": []
    },
    {
      "cell_type": "code",
      "metadata": {
        "colab": {
          "base_uri": "https://localhost:8080/"
        },
        "id": "cq1zj1jWXxJp",
        "outputId": "6e4acd94-9e4a-4e0b-8cbc-7cebaf82c547"
      },
      "source": [
        "model.fit(train_images, train_labels, epochs=10)"
      ],
      "execution_count": null,
      "outputs": [
        {
          "output_type": "stream",
          "text": [
            "Epoch 1/10\n",
            "1875/1875 [==============================] - 4s 2ms/step - loss: 0.6234 - accuracy: 0.7843\n",
            "Epoch 2/10\n",
            "1875/1875 [==============================] - 4s 2ms/step - loss: 0.3899 - accuracy: 0.8592\n",
            "Epoch 3/10\n",
            "1875/1875 [==============================] - 3s 2ms/step - loss: 0.3407 - accuracy: 0.8769\n",
            "Epoch 4/10\n",
            "1875/1875 [==============================] - 3s 2ms/step - loss: 0.3186 - accuracy: 0.8826\n",
            "Epoch 5/10\n",
            "1875/1875 [==============================] - 3s 2ms/step - loss: 0.2921 - accuracy: 0.8915\n",
            "Epoch 6/10\n",
            "1875/1875 [==============================] - 3s 2ms/step - loss: 0.2773 - accuracy: 0.8972\n",
            "Epoch 7/10\n",
            "1875/1875 [==============================] - 3s 2ms/step - loss: 0.2652 - accuracy: 0.8996\n",
            "Epoch 8/10\n",
            "1875/1875 [==============================] - 3s 2ms/step - loss: 0.2616 - accuracy: 0.9020\n",
            "Epoch 9/10\n",
            "1875/1875 [==============================] - 3s 2ms/step - loss: 0.2493 - accuracy: 0.9074\n",
            "Epoch 10/10\n",
            "1875/1875 [==============================] - 3s 2ms/step - loss: 0.2425 - accuracy: 0.9090\n"
          ],
          "name": "stdout"
        },
        {
          "output_type": "execute_result",
          "data": {
            "text/plain": [
              "<tensorflow.python.keras.callbacks.History at 0x7fde1e2eb470>"
            ]
          },
          "metadata": {
            "tags": []
          },
          "execution_count": 14
        }
      ]
    },
    {
      "cell_type": "code",
      "metadata": {
        "colab": {
          "base_uri": "https://localhost:8080/"
        },
        "id": "URLetI5PXzPI",
        "outputId": "e6ce5e8e-991a-400f-c217-dc1658f38902"
      },
      "source": [
        "test_loss, test_acc = model.evaluate(test_images,  test_labels, verbose=2)\r\n",
        "\r\n",
        "print('\\nTest accuracy:', test_acc)"
      ],
      "execution_count": null,
      "outputs": [
        {
          "output_type": "stream",
          "text": [
            "313/313 - 0s - loss: 0.3294 - accuracy: 0.8859\n",
            "\n",
            "Test accuracy: 0.8859000205993652\n"
          ],
          "name": "stdout"
        }
      ]
    },
    {
      "cell_type": "markdown",
      "metadata": {
        "id": "qmu2O0JvYDAg"
      },
      "source": [
        "Ref - https://www.tensorflow.org/tutorials/generative/adversarial_fgsm"
      ]
    },
    {
      "cell_type": "code",
      "metadata": {
        "id": "jh8B_LIZYjoh"
      },
      "source": [
        "first_image = test_images[0]\r\n",
        "label=class_names[test_labels[0]]\r\n",
        "predictions= model.predict(test_images)\r\n",
        "image_probs = np.argmax(predictions[0])"
      ],
      "execution_count": null,
      "outputs": []
    },
    {
      "cell_type": "code",
      "metadata": {
        "colab": {
          "base_uri": "https://localhost:8080/",
          "height": 265
        },
        "id": "vg8C_6eQZq8L",
        "outputId": "289a3ef6-97f2-4351-c037-d1860fae851e"
      },
      "source": [
        "plt.figure()\r\n",
        "plt.imshow(first_image) # To change [-1, 1] to [0,1]\r\n",
        "plt.show()"
      ],
      "execution_count": null,
      "outputs": [
        {
          "output_type": "display_data",
          "data": {
            "image/png": "[encoded data removed]",
            "text/plain": [
              "<Figure size 432x288 with 1 Axes>"
            ]
          },
          "metadata": {
            "tags": [],
            "needs_background": "light"
          }
        }
      ]
    },
    {
      "cell_type": "code",
      "metadata": {
        "colab": {
          "base_uri": "https://localhost:8080/",
          "height": 35
        },
        "id": "5p8WeZNYaguU",
        "outputId": "b726062f-91d6-4464-d9e8-bf754529ea1c"
      },
      "source": [
        "label"
      ],
      "execution_count": null,
      "outputs": [
        {
          "output_type": "execute_result",
          "data": {
            "application/vnd.google.colaboratory.intrinsic+json": {
              "type": "string"
            },
            "text/plain": [
              "'Ankle boot'"
            ]
          },
          "metadata": {
            "tags": []
          },
          "execution_count": 18
        }
      ]
    },
    {
      "cell_type": "code",
      "metadata": {
        "colab": {
          "base_uri": "https://localhost:8080/"
        },
        "id": "zQQ5vaKLaPKa",
        "outputId": "0bff7ec2-d383-4203-f255-9e722855dd0e"
      },
      "source": [
        "image_probs"
      ],
      "execution_count": null,
      "outputs": [
        {
          "output_type": "execute_result",
          "data": {
            "text/plain": [
              "9"
            ]
          },
          "metadata": {
            "tags": []
          },
          "execution_count": 279
        }
      ]
    },
    {
      "cell_type": "code",
      "metadata": {
        "id": "-Jp-mbtfYEBA"
      },
      "source": [
        "loss_object = tf.keras.losses.SparseCategoricalCrossentropy(from_logits=True)\r\n",
        "\r\n",
        "def create_adversarial_pattern(input_image, input_label):\r\n",
        "  with tf.GradientTape() as tape:\r\n",
        "    tape.watch(input_image)\r\n",
        "    prediction = model(input_image)\r\n",
        "    print(\"prediction is\", prediction)\r\n",
        "    class_idxs_sorted = np.argsort(prediction.numpy().flatten())[::-1]\r\n",
        "    #loss = loss_object(input_label, prediction)\r\n",
        "    loss = prediction[0][class_idxs_sorted[0]]\r\n",
        "\r\n",
        "  # Get the gradients of the loss w.r.t to the input image.\r\n",
        "  gradient = tape.gradient(loss, input_image)\r\n",
        "  # Get the sign of the gradients to create the perturbation\r\n",
        "  signed_grad =  tf.math.abs(gradient)\r\n",
        "  return signed_grad"
      ],
      "execution_count": null,
      "outputs": []
    },
    {
      "cell_type": "code",
      "metadata": {
        "id": "T6VKE9tWdXb0"
      },
      "source": [
        "in_image = tf.Variable(first_image.reshape((1, 28, 28)).astype(np.float32) /255.0)"
      ],
      "execution_count": null,
      "outputs": []
    },
    {
      "cell_type": "code",
      "metadata": {
        "colab": {
          "base_uri": "https://localhost:8080/"
        },
        "id": "IjyU53hgyBcf",
        "outputId": "362dcae5-b425-427e-817d-b46e981b9df5"
      },
      "source": [
        "print(test_labels[0])"
      ],
      "execution_count": null,
      "outputs": [
        {
          "output_type": "stream",
          "text": [
            "9\n"
          ],
          "name": "stdout"
        }
      ]
    },
    {
      "cell_type": "code",
      "metadata": {
        "colab": {
          "base_uri": "https://localhost:8080/",
          "height": 1000
        },
        "id": "lqbqZ837Yb_B",
        "outputId": "dcd7f272-4d4b-4d80-86e1-27ac7e108796"
      },
      "source": [
        "perturbations = create_adversarial_pattern(in_image, test_labels[0])\r\n",
        "print(\"perturbations is\",perturbations)\r\n",
        "plt.imshow(perturbations[0]*0.5+0.5) # To change [-1, 1] to [0,1]"
      ],
      "execution_count": null,
      "outputs": [
        {
          "output_type": "stream",
          "text": [
            "prediction is tf.Tensor(\n",
            "[[-2.5393448  -7.3090425  -4.7785487  -4.4681697  -5.465815    0.18131188\n",
            "  -2.8639972  -4.3856993  -4.9231796  -7.6851325 ]], shape=(1, 10), dtype=float32)\n",
            "perturbations is tf.Tensor(\n",
            "[[[0.94682693 0.56426525 0.20003623 0.45897204 2.6327767  1.5085846\n",
            "   0.02095771 1.0167662  0.27356538 0.35994348 0.7034846  2.0433636\n",
            "   1.113524   0.7798246  0.15060112 1.5443388  1.9825101  0.5552208\n",
            "   0.5075758  0.6198208  1.1755757  0.86239374 1.2392547  1.252461\n",
            "   1.3509481  0.24967617 0.32273686 0.21961659]\n",
            "  [2.1050076  0.02460837 0.30739036 1.005953   0.9104726  0.17594957\n",
            "   1.1682949  0.06747925 1.047599   0.7525628  0.9034553  1.3831627\n",
            "   1.4406832  1.8972902  1.8349594  2.0444157  1.3702898  1.4598528\n",
            "   0.90342164 0.33073735 1.1250436  0.00679684 0.09843916 0.38834786\n",
            "   0.36570698 1.1749597  0.9931203  0.8572476 ]\n",
            "  [1.0814689  0.6561873  0.3889898  0.27367637 0.82886386 0.773746\n",
            "   0.37310505 0.91257775 0.89667505 0.89362663 0.5820134  0.2746499\n",
            "   0.42912108 1.2672993  1.6043386  1.1011037  0.854559   0.16594382\n",
            "   0.08548766 0.7992439  0.53168786 0.6016041  0.39091867 0.03036518\n",
            "   0.36213943 0.38817245 1.3376894  0.04514098]\n",
            "  [1.5218358  0.8347842  0.9874464  0.0220435  0.23426092 0.01218544\n",
            "   0.09907779 0.65668756 0.14105615 0.02060777 0.13902579 0.27564606\n",
            "   0.31722116 0.39489144 0.36616868 0.524667   0.535695   0.3343581\n",
            "   0.03478781 0.56950366 0.2183345  0.59301215 0.79945505 0.63186604\n",
            "   1.2800643  1.3675797  0.52414876 1.2836899 ]\n",
            "  [0.656961   0.05861811 0.2874905  0.6440717  0.9220185  0.29332995\n",
            "   0.65349406 0.01913752 0.3071429  0.11949459 0.21653143 0.12959912\n",
            "   0.68666375 0.07363376 0.27263424 0.13135433 0.17535159 0.10018858\n",
            "   0.29584613 0.42278677 0.06442545 0.02198444 0.7051443  0.77739906\n",
            "   0.6532019  0.67172134 0.8737054  1.5454049 ]\n",
            "  [0.8794307  0.8640933  0.7976345  0.01178613 1.2880539  0.6222904\n",
            "   1.5105987  0.1876817  0.14542118 0.08624928 0.40172273 0.30437815\n",
            "   0.6205411  0.04713827 0.03023645 0.39782825 0.64050984 0.09788692\n",
            "   0.6880897  0.02492683 0.53154135 0.03764927 0.64645386 0.24169105\n",
            "   1.7053188  2.6003675  1.9619567  0.9903231 ]\n",
            "  [0.7989208  0.02101829 0.9335011  0.24078387 0.6557442  1.3501618\n",
            "   1.2931219  1.00773    0.7285112  1.0538058  0.29015476 0.9575405\n",
            "   0.6909854  0.6444616  0.07744145 0.5659309  0.11335458 0.23254663\n",
            "   1.0453527  0.5650562  0.89942765 0.7563407  0.74394715 0.7469249\n",
            "   2.825377   2.6835926  1.0014895  0.8692017 ]\n",
            "  [1.2037092  0.7721057  0.20643279 0.16920549 0.6993935  0.83829653\n",
            "   1.6303294  1.3903723  1.1194656  1.4718637  0.8486812  0.19378304\n",
            "   0.3841948  0.55003446 1.6377885  0.64072835 0.27991536 0.20474851\n",
            "   1.551296   1.7615328  0.5806953  0.72504276 0.5340452  1.0750405\n",
            "   2.555295   1.9990773  1.6939185  2.7085562 ]\n",
            "  [2.1753216  0.05067958 1.1384165  0.67138433 1.4423038  1.5076166\n",
            "   2.0536199  2.3088303  1.4431382  1.391916   0.11690515 0.8549342\n",
            "   1.0969019  1.0006287  0.68528247 0.7736722  0.4653621  0.49233258\n",
            "   0.07373893 0.28458852 0.43222922 0.38876805 0.22540659 0.03787166\n",
            "   1.7396332  2.292202   2.159758   2.8882341 ]\n",
            "  [0.7347976  1.4754946  1.0532967  1.4619635  2.5844178  2.2161827\n",
            "   1.3654736  2.066788   1.0311614  0.7075194  0.5062533  0.7125412\n",
            "   1.0175455  0.6357642  0.19108735 0.3553949  0.7370138  1.417657\n",
            "   0.43596494 1.057004   0.5402933  0.58845526 0.17411414 0.400769\n",
            "   1.1352834  1.271468   1.4145286  0.9891722 ]\n",
            "  [0.62422276 2.9198632  0.7798321  1.209113   1.1126617  1.1304837\n",
            "   1.393193   1.1314483  0.7155349  0.16134873 0.44113544 0.11063872\n",
            "   0.7997436  0.7845041  0.45626056 0.33827978 0.4792989  0.25649196\n",
            "   0.25291857 0.1993949  1.3710922  0.746337   0.02691543 0.21174073\n",
            "   1.6201023  0.8339833  0.17632908 1.8278215 ]\n",
            "  [1.6483941  2.9895036  2.7084494  0.88453376 0.4891538  0.8561257\n",
            "   0.5183302  0.26488927 0.18425913 0.05062622 0.06975624 1.105973\n",
            "   0.29882306 0.06650934 0.34875378 0.16060406 0.21781027 0.07473066\n",
            "   0.23656519 0.2795539  0.19622944 1.0987172  0.42140883 0.47566253\n",
            "   0.3873503  0.0120278  0.10410869 1.3189236 ]\n",
            "  [0.01233619 0.27708733 0.2840981  1.5425826  1.9280225  0.6151552\n",
            "   0.18051443 0.09897304 0.07515776 0.04784417 0.04975492 0.5430735\n",
            "   1.0163212  0.06239125 0.6196865  0.13692702 0.3225078  0.69400716\n",
            "   0.02997341 0.4891531  0.6561774  0.17129284 0.54501694 0.8040335\n",
            "   0.24228418 0.67556036 0.39130998 2.406029  ]\n",
            "  [2.024911   0.747389   1.435451   2.167919   1.3418299  2.7804904\n",
            "   0.48192775 0.09602058 0.14540145 0.07150587 0.42592245 0.70126677\n",
            "   0.19486246 0.6520973  0.61027235 0.32381952 0.148384   0.07915951\n",
            "   0.20836797 0.3251012  0.03457437 0.3375883  0.79823184 0.07128561\n",
            "   0.67957896 0.3586142  0.46436682 1.166236  ]\n",
            "  [1.6917281  1.1056794  2.5465755  2.1107416  0.46778572 2.4899337\n",
            "   1.360268   1.1528912  0.2688408  0.03783931 0.13425636 0.7319749\n",
            "   0.66309655 0.45952034 0.36563638 0.4380389  0.13651323 0.03947856\n",
            "   0.48169464 0.10101779 0.84614515 0.30648923 1.346061   0.9949361\n",
            "   0.22251934 0.55782914 0.7803569  0.5890385 ]\n",
            "  [0.1406731  0.91537726 2.2418656  1.8892066  1.3238754  2.1818366\n",
            "   1.4779308  0.12332642 0.36680302 0.19250591 0.3873151  0.84574544\n",
            "   0.28121153 0.523278   0.9262674  0.20520362 0.6115611  0.7144412\n",
            "   0.41725615 1.3879957  1.1891074  0.65667725 1.4160386  0.86124897\n",
            "   0.42879382 0.3967096  0.40777352 0.20688355]\n",
            "  [1.706207   0.8485804  1.482499   0.84105265 0.07714075 2.2711086\n",
            "   1.1717542  0.88833207 0.04969616 0.37650093 0.59662896 0.47961706\n",
            "   0.28726417 0.5357007  0.34614038 0.22841227 0.5191931  0.3411198\n",
            "   0.14311972 0.25324202 0.80392706 0.36491624 1.0928228  0.774868\n",
            "   0.22541474 0.7017083  0.14635387 0.22753918]\n",
            "  [0.81368506 1.5207119  0.93637955 0.35623252 0.68485516 2.2582374\n",
            "   0.77156055 0.618705   0.7480681  0.41260982 0.66335535 0.42162132\n",
            "   0.22618866 0.07495072 0.78558993 0.150897   0.13389653 0.65021706\n",
            "   0.44311208 0.673964   0.6709494  0.9834139  0.4774883  0.6096662\n",
            "   0.62271184 1.2569107  0.54735214 0.6942009 ]\n",
            "  [1.4001346  0.98958933 0.5614214  0.29296082 0.12331738 1.7601904\n",
            "   0.49645096 0.52796364 1.0773358  0.43672818 0.5041879  0.09509638\n",
            "   0.08454841 0.40536278 0.27534008 0.07836045 0.2892869  0.48471403\n",
            "   0.0174491  0.0851522  0.31665003 0.17500806 0.33359715 0.2964811\n",
            "   0.20848507 1.8601251  1.5073475  0.654402  ]\n",
            "  [2.0718489  1.3999542  0.93961346 0.40570557 0.20399457 1.9186008\n",
            "   0.04795623 0.0281433  0.47699764 0.06332888 0.10925807 0.04965156\n",
            "   0.06389429 0.20904395 0.0112558  1.2683501  0.6524592  0.36535943\n",
            "   0.17593324 0.14634296 0.02200031 0.3046435  0.25848883 0.32228738\n",
            "   0.1007356  1.7730458  1.3733642  0.5765015 ]\n",
            "  [0.6905838  1.5954076  0.174656   0.61341095 0.04862323 1.483331\n",
            "   0.16204792 0.23085505 0.5497578  0.21784037 0.08865933 0.49876702\n",
            "   0.05382159 0.11815074 0.76384735 0.6017605  0.500283   0.95175177\n",
            "   0.82035154 0.62058157 0.08889227 0.24898592 0.26854926 0.20274132\n",
            "   0.23169518 1.4933221  1.9662746  1.0514419 ]\n",
            "  [0.28711808 1.551877   0.09965014 0.45325476 1.0244883  1.5553241\n",
            "   0.9316175  1.0699174  0.87599766 0.12551033 0.3964514  0.11444912\n",
            "   0.3756494  0.0674154  0.37227225 0.37618792 0.7416474  0.58932316\n",
            "   0.5711687  0.8781969  0.6100542  1.1342657  0.29073715 1.1160824\n",
            "   1.341928   1.3376391  1.5592432  1.5837605 ]\n",
            "  [0.8001382  0.10650101 0.7752572  1.4916354  1.711981   1.9918361\n",
            "   0.7367869  1.0952733  1.0320765  0.6279838  0.61350065 0.23128559\n",
            "   0.07175557 0.17503819 0.10421987 0.754775   0.46024212 0.39252815\n",
            "   1.1412752  0.09854221 0.46763155 0.6059918  0.27043942 1.4030274\n",
            "   1.5530204  1.7417252  0.30088353 0.07375354]\n",
            "  [1.1897061  1.9949137  0.26310208 0.65085524 0.83026195 0.2382223\n",
            "   0.18054053 0.65928787 0.7528538  0.06945626 0.6385298  0.23027904\n",
            "   0.3664448  0.34991997 0.03869609 0.156701   0.7487974  0.71143913\n",
            "   0.5911051  0.41567415 0.03126371 0.01914704 0.15011251 0.8622448\n",
            "   1.4108331  2.6663857  1.2772737  0.7031591 ]\n",
            "  [0.12145936 1.5344002  1.9405257  1.17166    0.7695956  0.05535965\n",
            "   0.7154565  0.4596699  0.61996305 0.02733096 0.27792126 0.22962698\n",
            "   0.1950653  0.3619643  0.9972947  0.7884439  0.71635306 0.34302646\n",
            "   0.30336943 0.7510023  0.46488717 1.2221303  0.23995364 0.94921964\n",
            "   1.4631021  2.2476203  1.4711434  0.4076901 ]\n",
            "  [1.3177927  0.22535354 0.4937384  0.9291332  2.0324776  0.6052372\n",
            "   0.05924666 0.08987843 0.5471653  0.3249868  0.64310545 0.02159142\n",
            "   0.730213   0.9233155  0.46382064 0.9184672  1.225824   0.3039093\n",
            "   0.10655808 0.4332183  0.71442115 0.773622   0.17342892 1.1019691\n",
            "   1.3511975  1.6755967  1.0513883  0.3620479 ]\n",
            "  [0.12753755 0.8433355  0.5103749  2.4732273  0.83349705 0.45952737\n",
            "   0.3816532  0.3532173  0.2614236  0.37970766 0.30761677 0.18559356\n",
            "   0.24367347 0.95717394 0.03695473 0.995747   0.82879364 0.5030896\n",
            "   0.20498517 0.9949107  1.0955601  0.28703526 0.53503746 0.34972847\n",
            "   0.37907156 0.9334009  0.34631413 2.1643388 ]\n",
            "  [0.92407167 0.33764073 0.19903465 0.59051126 0.47564244 0.94540095\n",
            "   1.4325247  0.38014603 0.6246674  0.6523827  0.64427924 0.07829797\n",
            "   0.62610805 2.3416631  1.6009281  1.4757328  1.6951936  1.0885233\n",
            "   0.95509505 1.5844516  0.841921   0.23328435 0.44783407 0.41558146\n",
            "   0.00394839 1.461715   0.9195286  0.24514431]]], shape=(1, 28, 28), dtype=float32)\n"
          ],
          "name": "stdout"
        },
        {
          "output_type": "execute_result",
          "data": {
            "text/plain": [
              "<matplotlib.image.AxesImage at 0x7fde1a9b2f28>"
            ]
          },
          "metadata": {
            "tags": []
          },
          "execution_count": 30
        },
        {
          "output_type": "display_data",
          "data": {
            "image/png": "[encoded data removed]",
            "text/plain": [
              "<Figure size 432x288 with 1 Axes>"
            ]
          },
          "metadata": {
            "tags": [],
            "needs_background": "light"
          }
        }
      ]
    },
    {
      "cell_type": "code",
      "metadata": {
        "id": "Jp5gAPES_-_B"
      },
      "source": [
        "dgrad_max_ = np.max(perturbations,axis=1)[0]"
      ],
      "execution_count": null,
      "outputs": []
    },
    {
      "cell_type": "code",
      "metadata": {
        "id": "QRFJJzMJAbdJ"
      },
      "source": [
        "## normalize to range between 0 and 1\r\n",
        "arr_min, arr_max  = np.min(dgrad_max_), np.max(dgrad_max_)\r\n",
        "grad_eval = (dgrad_max_ - arr_min) / (arr_max - arr_min + 1e-18)"
      ],
      "execution_count": null,
      "outputs": []
    },
    {
      "cell_type": "code",
      "metadata": {
        "id": "IvQH3xh_grN1"
      },
      "source": [
        "def display_images(i):\r\n",
        "  predictions= model.predict(i)\r\n",
        "  label = np.argmax(predictions[0])\r\n",
        "  plt.figure()\r\n",
        "  plt.imshow(i[0]*0.5+0.5)\r\n",
        "  plt.title('{}'.format(label))\r\n",
        "  plt.show()"
      ],
      "execution_count": null,
      "outputs": []
    },
    {
      "cell_type": "code",
      "metadata": {
        "id": "ON4SvaFMAdZb",
        "colab": {
          "base_uri": "https://localhost:8080/",
          "height": 661
        },
        "outputId": "2bbad532-7eee-4461-d89d-d86b6cc08bd2"
      },
      "source": [
        "fig, axes = plt.subplots(1,2,figsize=(14,5))\r\n",
        "axes[0].imshow(first_image)\r\n",
        "i = axes[1].imshow(grad_eval,cmap=\"jet\",alpha=0.8)\r\n",
        "fig.colorbar(i)"
      ],
      "execution_count": null,
      "outputs": [
        {
          "output_type": "error",
          "ename": "TypeError",
          "evalue": "ignored",
          "traceback": [
            "\u001b[0;31m---------------------------------------------------------------------------\u001b[0m",
            "\u001b[0;31mTypeError\u001b[0m                                 Traceback (most recent call last)",
            "\u001b[0;32m<ipython-input-39-cda0d5698334>\u001b[0m in \u001b[0;36m<module>\u001b[0;34m()\u001b[0m\n\u001b[1;32m      1\u001b[0m \u001b[0mfig\u001b[0m\u001b[0;34m,\u001b[0m \u001b[0maxes\u001b[0m \u001b[0;34m=\u001b[0m \u001b[0mplt\u001b[0m\u001b[0;34m.\u001b[0m\u001b[0msubplots\u001b[0m\u001b[0;34m(\u001b[0m\u001b[0;36m1\u001b[0m\u001b[0;34m,\u001b[0m\u001b[0;36m2\u001b[0m\u001b[0;34m,\u001b[0m\u001b[0mfigsize\u001b[0m\u001b[0;34m=\u001b[0m\u001b[0;34m(\u001b[0m\u001b[0;36m14\u001b[0m\u001b[0;34m,\u001b[0m\u001b[0;36m5\u001b[0m\u001b[0;34m)\u001b[0m\u001b[0;34m)\u001b[0m\u001b[0;34m\u001b[0m\u001b[0;34m\u001b[0m\u001b[0m\n\u001b[1;32m      2\u001b[0m \u001b[0maxes\u001b[0m\u001b[0;34m[\u001b[0m\u001b[0;36m0\u001b[0m\u001b[0;34m]\u001b[0m\u001b[0;34m.\u001b[0m\u001b[0mimshow\u001b[0m\u001b[0;34m(\u001b[0m\u001b[0mfirst_image\u001b[0m\u001b[0;34m)\u001b[0m\u001b[0;34m\u001b[0m\u001b[0;34m\u001b[0m\u001b[0m\n\u001b[0;32m----> 3\u001b[0;31m \u001b[0mi\u001b[0m \u001b[0;34m=\u001b[0m \u001b[0maxes\u001b[0m\u001b[0;34m[\u001b[0m\u001b[0;36m1\u001b[0m\u001b[0;34m]\u001b[0m\u001b[0;34m.\u001b[0m\u001b[0mimshow\u001b[0m\u001b[0;34m(\u001b[0m\u001b[0mgrad_eval\u001b[0m\u001b[0;34m,\u001b[0m\u001b[0mcmap\u001b[0m\u001b[0;34m=\u001b[0m\u001b[0;34m\"jet\"\u001b[0m\u001b[0;34m,\u001b[0m\u001b[0malpha\u001b[0m\u001b[0;34m=\u001b[0m\u001b[0;36m0.8\u001b[0m\u001b[0;34m)\u001b[0m\u001b[0;34m\u001b[0m\u001b[0;34m\u001b[0m\u001b[0m\n\u001b[0m\u001b[1;32m      4\u001b[0m \u001b[0mfig\u001b[0m\u001b[0;34m.\u001b[0m\u001b[0mcolorbar\u001b[0m\u001b[0;34m(\u001b[0m\u001b[0mi\u001b[0m\u001b[0;34m)\u001b[0m\u001b[0;34m\u001b[0m\u001b[0;34m\u001b[0m\u001b[0m\n",
            "\u001b[0;32m/usr/local/lib/python3.6/dist-packages/matplotlib/__init__.py\u001b[0m in \u001b[0;36minner\u001b[0;34m(ax, data, *args, **kwargs)\u001b[0m\n\u001b[1;32m   1563\u001b[0m     \u001b[0;32mdef\u001b[0m \u001b[0minner\u001b[0m\u001b[0;34m(\u001b[0m\u001b[0max\u001b[0m\u001b[0;34m,\u001b[0m \u001b[0;34m*\u001b[0m\u001b[0margs\u001b[0m\u001b[0;34m,\u001b[0m \u001b[0mdata\u001b[0m\u001b[0;34m=\u001b[0m\u001b[0;32mNone\u001b[0m\u001b[0;34m,\u001b[0m \u001b[0;34m**\u001b[0m\u001b[0mkwargs\u001b[0m\u001b[0;34m)\u001b[0m\u001b[0;34m:\u001b[0m\u001b[0;34m\u001b[0m\u001b[0;34m\u001b[0m\u001b[0m\n\u001b[1;32m   1564\u001b[0m         \u001b[0;32mif\u001b[0m \u001b[0mdata\u001b[0m \u001b[0;32mis\u001b[0m \u001b[0;32mNone\u001b[0m\u001b[0;34m:\u001b[0m\u001b[0;34m\u001b[0m\u001b[0;34m\u001b[0m\u001b[0m\n\u001b[0;32m-> 1565\u001b[0;31m             \u001b[0;32mreturn\u001b[0m \u001b[0mfunc\u001b[0m\u001b[0;34m(\u001b[0m\u001b[0max\u001b[0m\u001b[0;34m,\u001b[0m \u001b[0;34m*\u001b[0m\u001b[0mmap\u001b[0m\u001b[0;34m(\u001b[0m\u001b[0msanitize_sequence\u001b[0m\u001b[0;34m,\u001b[0m \u001b[0margs\u001b[0m\u001b[0;34m)\u001b[0m\u001b[0;34m,\u001b[0m \u001b[0;34m**\u001b[0m\u001b[0mkwargs\u001b[0m\u001b[0;34m)\u001b[0m\u001b[0;34m\u001b[0m\u001b[0;34m\u001b[0m\u001b[0m\n\u001b[0m\u001b[1;32m   1566\u001b[0m \u001b[0;34m\u001b[0m\u001b[0m\n\u001b[1;32m   1567\u001b[0m         \u001b[0mbound\u001b[0m \u001b[0;34m=\u001b[0m \u001b[0mnew_sig\u001b[0m\u001b[0;34m.\u001b[0m\u001b[0mbind\u001b[0m\u001b[0;34m(\u001b[0m\u001b[0max\u001b[0m\u001b[0;34m,\u001b[0m \u001b[0;34m*\u001b[0m\u001b[0margs\u001b[0m\u001b[0;34m,\u001b[0m \u001b[0;34m**\u001b[0m\u001b[0mkwargs\u001b[0m\u001b[0;34m)\u001b[0m\u001b[0;34m\u001b[0m\u001b[0;34m\u001b[0m\u001b[0m\n",
            "\u001b[0;32m/usr/local/lib/python3.6/dist-packages/matplotlib/cbook/deprecation.py\u001b[0m in \u001b[0;36mwrapper\u001b[0;34m(*args, **kwargs)\u001b[0m\n\u001b[1;32m    356\u001b[0m                 \u001b[0;34mf\"%(removal)s.  If any parameter follows {name!r}, they \"\u001b[0m\u001b[0;34m\u001b[0m\u001b[0;34m\u001b[0m\u001b[0m\n\u001b[1;32m    357\u001b[0m                 f\"should be pass as keyword, not positionally.\")\n\u001b[0;32m--> 358\u001b[0;31m         \u001b[0;32mreturn\u001b[0m \u001b[0mfunc\u001b[0m\u001b[0;34m(\u001b[0m\u001b[0;34m*\u001b[0m\u001b[0margs\u001b[0m\u001b[0;34m,\u001b[0m \u001b[0;34m**\u001b[0m\u001b[0mkwargs\u001b[0m\u001b[0;34m)\u001b[0m\u001b[0;34m\u001b[0m\u001b[0;34m\u001b[0m\u001b[0m\n\u001b[0m\u001b[1;32m    359\u001b[0m \u001b[0;34m\u001b[0m\u001b[0m\n\u001b[1;32m    360\u001b[0m     \u001b[0;32mreturn\u001b[0m \u001b[0mwrapper\u001b[0m\u001b[0;34m\u001b[0m\u001b[0;34m\u001b[0m\u001b[0m\n",
            "\u001b[0;32m/usr/local/lib/python3.6/dist-packages/matplotlib/cbook/deprecation.py\u001b[0m in \u001b[0;36mwrapper\u001b[0;34m(*args, **kwargs)\u001b[0m\n\u001b[1;32m    356\u001b[0m                 \u001b[0;34mf\"%(removal)s.  If any parameter follows {name!r}, they \"\u001b[0m\u001b[0;34m\u001b[0m\u001b[0;34m\u001b[0m\u001b[0m\n\u001b[1;32m    357\u001b[0m                 f\"should be pass as keyword, not positionally.\")\n\u001b[0;32m--> 358\u001b[0;31m         \u001b[0;32mreturn\u001b[0m \u001b[0mfunc\u001b[0m\u001b[0;34m(\u001b[0m\u001b[0;34m*\u001b[0m\u001b[0margs\u001b[0m\u001b[0;34m,\u001b[0m \u001b[0;34m**\u001b[0m\u001b[0mkwargs\u001b[0m\u001b[0;34m)\u001b[0m\u001b[0;34m\u001b[0m\u001b[0;34m\u001b[0m\u001b[0m\n\u001b[0m\u001b[1;32m    359\u001b[0m \u001b[0;34m\u001b[0m\u001b[0m\n\u001b[1;32m    360\u001b[0m     \u001b[0;32mreturn\u001b[0m \u001b[0mwrapper\u001b[0m\u001b[0;34m\u001b[0m\u001b[0;34m\u001b[0m\u001b[0m\n",
            "\u001b[0;32m/usr/local/lib/python3.6/dist-packages/matplotlib/axes/_axes.py\u001b[0m in \u001b[0;36mimshow\u001b[0;34m(self, X, cmap, norm, aspect, interpolation, alpha, vmin, vmax, origin, extent, shape, filternorm, filterrad, imlim, resample, url, **kwargs)\u001b[0m\n\u001b[1;32m   5624\u001b[0m                               resample=resample, **kwargs)\n\u001b[1;32m   5625\u001b[0m \u001b[0;34m\u001b[0m\u001b[0m\n\u001b[0;32m-> 5626\u001b[0;31m         \u001b[0mim\u001b[0m\u001b[0;34m.\u001b[0m\u001b[0mset_data\u001b[0m\u001b[0;34m(\u001b[0m\u001b[0mX\u001b[0m\u001b[0;34m)\u001b[0m\u001b[0;34m\u001b[0m\u001b[0;34m\u001b[0m\u001b[0m\n\u001b[0m\u001b[1;32m   5627\u001b[0m         \u001b[0mim\u001b[0m\u001b[0;34m.\u001b[0m\u001b[0mset_alpha\u001b[0m\u001b[0;34m(\u001b[0m\u001b[0malpha\u001b[0m\u001b[0;34m)\u001b[0m\u001b[0;34m\u001b[0m\u001b[0;34m\u001b[0m\u001b[0m\n\u001b[1;32m   5628\u001b[0m         \u001b[0;32mif\u001b[0m \u001b[0mim\u001b[0m\u001b[0;34m.\u001b[0m\u001b[0mget_clip_path\u001b[0m\u001b[0;34m(\u001b[0m\u001b[0;34m)\u001b[0m \u001b[0;32mis\u001b[0m \u001b[0;32mNone\u001b[0m\u001b[0;34m:\u001b[0m\u001b[0;34m\u001b[0m\u001b[0;34m\u001b[0m\u001b[0m\n",
            "\u001b[0;32m/usr/local/lib/python3.6/dist-packages/matplotlib/image.py\u001b[0m in \u001b[0;36mset_data\u001b[0;34m(self, A)\u001b[0m\n\u001b[1;32m    697\u001b[0m                 or self._A.ndim == 3 and self._A.shape[-1] in [3, 4]):\n\u001b[1;32m    698\u001b[0m             raise TypeError(\"Invalid shape {} for image data\"\n\u001b[0;32m--> 699\u001b[0;31m                             .format(self._A.shape))\n\u001b[0m\u001b[1;32m    700\u001b[0m \u001b[0;34m\u001b[0m\u001b[0m\n\u001b[1;32m    701\u001b[0m         \u001b[0;32mif\u001b[0m \u001b[0mself\u001b[0m\u001b[0;34m.\u001b[0m\u001b[0m_A\u001b[0m\u001b[0;34m.\u001b[0m\u001b[0mndim\u001b[0m \u001b[0;34m==\u001b[0m \u001b[0;36m3\u001b[0m\u001b[0;34m:\u001b[0m\u001b[0;34m\u001b[0m\u001b[0;34m\u001b[0m\u001b[0m\n",
            "\u001b[0;31mTypeError\u001b[0m: Invalid shape (28,) for image data"
          ]
        },
        {
          "output_type": "display_data",
          "data": {
            "image/png": "[encoded data removed]",
            "text/plain": [
              "<Figure size 1008x360 with 2 Axes>"
            ]
          },
          "metadata": {
            "tags": [],
            "needs_background": "light"
          }
        }
      ]
    },
    {
      "cell_type": "code",
      "metadata": {
        "id": "w_Ute6_KgZ_V"
      },
      "source": [
        "adv_x = first_image + 0.1*perturbations\r\n",
        "adv_x = tf.clip_by_value(adv_x, -1, 1)"
      ],
      "execution_count": null,
      "outputs": []
    },
    {
      "cell_type": "code",
      "metadata": {
        "colab": {
          "base_uri": "https://localhost:8080/",
          "height": 281
        },
        "id": "ZdtBhfCWg05m",
        "outputId": "0834b957-761b-48ad-9cb5-46a72cfdc6c6"
      },
      "source": [
        "display_images(adv_x)"
      ],
      "execution_count": null,
      "outputs": [
        {
          "output_type": "display_data",
          "data": {
            "image/png": "[encoded data removed]",
            "text/plain": [
              "<Figure size 432x288 with 1 Axes>"
            ]
          },
          "metadata": {
            "tags": [],
            "needs_background": "light"
          }
        }
      ]
    },
    {
      "cell_type": "markdown",
      "metadata": {
        "id": "s7_Z8hCKh07e"
      },
      "source": [
        "Its difficult to tell if its show or a sandle"
      ]
    },
    {
      "cell_type": "markdown",
      "metadata": {
        "id": "HxVVxltpjqhG"
      },
      "source": [
        "ToDO-- Do it for the entire batch"
      ]
    },
    {
      "cell_type": "markdown",
      "metadata": {
        "id": "AFtDwmdmj4Zf"
      },
      "source": [
        "Targated Atatck"
      ]
    },
    {
      "cell_type": "code",
      "metadata": {
        "id": "gV9y5m1ah5md"
      },
      "source": [
        "#every image prediction is same"
      ],
      "execution_count": null,
      "outputs": []
    },
    {
      "cell_type": "code",
      "metadata": {
        "id": "2R3TMvoIlBiq"
      },
      "source": [
        "p = model(adv_x, training=False)"
      ],
      "execution_count": null,
      "outputs": []
    },
    {
      "cell_type": "code",
      "metadata": {
        "id": "wnPsFrboleoJ"
      },
      "source": [
        "originalLoss = -loss_object(tf.convert_to_tensor([9]),p)"
      ],
      "execution_count": null,
      "outputs": []
    },
    {
      "cell_type": "code",
      "metadata": {
        "id": "pNh4aw9DmNjp"
      },
      "source": [
        "targetLoss = loss_object(tf.convert_to_tensor([2]),p)"
      ],
      "execution_count": null,
      "outputs": []
    },
    {
      "cell_type": "code",
      "metadata": {
        "id": "JrcOBpe_pOdy"
      },
      "source": [
        "totalLoss = originalLoss + targetLoss"
      ],
      "execution_count": null,
      "outputs": []
    },
    {
      "cell_type": "code",
      "metadata": {
        "id": "BDXBIqnXqoYc"
      },
      "source": [
        "#instead of maximizing the loss of the true label, we maximize the loss of the loss of the true label and also minimize the loss for the alternative label."
      ],
      "execution_count": null,
      "outputs": []
    },
    {
      "cell_type": "code",
      "metadata": {
        "id": "BLHFDlkhkFNG"
      },
      "source": [
        "loss_object = tf.keras.losses.SparseCategoricalCrossentropy(from_logits=True)\r\n",
        "\r\n",
        "def create_adversarial_pattern_targated(input_image, input_label,my_label):\r\n",
        "  with tf.GradientTape() as tape:\r\n",
        "    tape.watch(input_image)\r\n",
        "    prediction = model(input_image)\r\n",
        "    loss = loss_object(input_label, prediction)\r\n",
        "    alt_loss = -loss_object(my_label,prediction)\r\n",
        "    total_los = loss+alt_loss\r\n",
        "\r\n",
        "  # Get the gradients of the loss w.r.t to the input image.\r\n",
        "  gradient = tape.gradient(total_los, input_image)\r\n",
        "  # Get the sign of the gradients to create the perturbation\r\n",
        "  signed_grad = tf.sign(gradient)\r\n",
        "  return signed_grad"
      ],
      "execution_count": null,
      "outputs": []
    },
    {
      "cell_type": "code",
      "metadata": {
        "colab": {
          "base_uri": "https://localhost:8080/"
        },
        "id": "wxCOf2Kj0MKw",
        "outputId": "8650ce42-1c08-42b5-f46a-e154461633aa"
      },
      "source": [
        "test_labels[1]"
      ],
      "execution_count": null,
      "outputs": [
        {
          "output_type": "execute_result",
          "data": {
            "text/plain": [
              "2"
            ]
          },
          "metadata": {
            "tags": []
          },
          "execution_count": 294
        }
      ]
    },
    {
      "cell_type": "code",
      "metadata": {
        "id": "KHnRIqdlprUj"
      },
      "source": [
        "perturbations_targated = create_adversarial_pattern_targated(in_image, test_labels[0],test_labels[1])\r\n"
      ],
      "execution_count": null,
      "outputs": []
    },
    {
      "cell_type": "code",
      "metadata": {
        "colab": {
          "base_uri": "https://localhost:8080/",
          "height": 282
        },
        "id": "hnPgcD2S1MsH",
        "outputId": "5652827e-c50c-4df8-8f74-8d87dea78f08"
      },
      "source": [
        "plt.imshow(perturbations_targated[0]*0.5+0.5) # To change [-1, 1] to [0,1]"
      ],
      "execution_count": null,
      "outputs": [
        {
          "output_type": "execute_result",
          "data": {
            "text/plain": [
              "<matplotlib.image.AxesImage at 0x7f3d79cf08d0>"
            ]
          },
          "metadata": {
            "tags": []
          },
          "execution_count": 296
        },
        {
          "output_type": "display_data",
          "data": {
            "image/png": "[encoded data removed]",
            "text/plain": [
              "<Figure size 432x288 with 1 Axes>"
            ]
          },
          "metadata": {
            "tags": [],
            "needs_background": "light"
          }
        }
      ]
    },
    {
      "cell_type": "code",
      "metadata": {
        "id": "T9gZHmfy1Up1"
      },
      "source": [
        "def display_images(i):\r\n",
        "  predictions= model.predict(i)\r\n",
        "  label = np.argmax(predictions[0])\r\n",
        "  plt.figure()\r\n",
        "  plt.imshow(i[0]*0.5+0.5)\r\n",
        "  plt.title('{}'.format(class_names[label]))\r\n",
        "  plt.show()"
      ],
      "execution_count": null,
      "outputs": []
    },
    {
      "cell_type": "code",
      "metadata": {
        "id": "4bkLFxjq1Up2"
      },
      "source": [
        "adv_x_targated = first_image + 0.15*perturbations_targated\r\n",
        "adv_x_targated = tf.clip_by_value(adv_x_targated, -1, 1)"
      ],
      "execution_count": null,
      "outputs": []
    },
    {
      "cell_type": "code",
      "metadata": {
        "colab": {
          "base_uri": "https://localhost:8080/",
          "height": 281
        },
        "id": "cM9zc-wH1Up2",
        "outputId": "9594de6e-f408-4d55-8fe2-88ff1495e764"
      },
      "source": [
        "display_images(adv_x_targated)"
      ],
      "execution_count": null,
      "outputs": [
        {
          "output_type": "display_data",
          "data": {
            "image/png": "[encoded data removed]",
            "text/plain": [
              "<Figure size 432x288 with 1 Axes>"
            ]
          },
          "metadata": {
            "tags": [],
            "needs_background": "light"
          }
        }
      ]
    },
    {
      "cell_type": "markdown",
      "metadata": {
        "id": "Wp4o4xhx2gxR"
      },
      "source": [
        "It is predicting 2. But will it predict anoter image also 2?"
      ]
    },
    {
      "cell_type": "code",
      "metadata": {
        "colab": {
          "base_uri": "https://localhost:8080/",
          "height": 282
        },
        "id": "dJb5QJh32mJm",
        "outputId": "d3993af1-2a1e-422e-dba2-28bce7fbb231"
      },
      "source": [
        "plt.imshow(test_images[5])"
      ],
      "execution_count": null,
      "outputs": [
        {
          "output_type": "execute_result",
          "data": {
            "text/plain": [
              "<matplotlib.image.AxesImage at 0x7f3d88d082b0>"
            ]
          },
          "metadata": {
            "tags": []
          },
          "execution_count": 300
        },
        {
          "output_type": "display_data",
          "data": {
            "image/png": "[encoded data removed]",
            "text/plain": [
              "<Figure size 432x288 with 1 Axes>"
            ]
          },
          "metadata": {
            "tags": [],
            "needs_background": "light"
          }
        }
      ]
    },
    {
      "cell_type": "code",
      "metadata": {
        "id": "xaSaA1V92mbl"
      },
      "source": [
        "adv_x_targated = test_images[5] + 0.15*perturbations_targated #but it wroked for .12 and above value\r\n",
        "adv_x_targated = tf.clip_by_value(adv_x_targated, -1, 1)"
      ],
      "execution_count": null,
      "outputs": []
    },
    {
      "cell_type": "code",
      "metadata": {
        "colab": {
          "base_uri": "https://localhost:8080/",
          "height": 281
        },
        "id": "VSGN6Kjc2mbm",
        "outputId": "1eb806ae-29a7-4fd8-c55a-c2bb59cc3028"
      },
      "source": [
        "display_images(adv_x_targated)"
      ],
      "execution_count": null,
      "outputs": [
        {
          "output_type": "display_data",
          "data": {
            "image/png": "[encoded data removed]",
            "text/plain": [
              "<Figure size 432x288 with 1 Axes>"
            ]
          },
          "metadata": {
            "tags": [],
            "needs_background": "light"
          }
        }
      ]
    },
    {
      "cell_type": "markdown",
      "metadata": {
        "id": "4bRa0hIx4pu5"
      },
      "source": [
        "Adversarial Training"
      ]
    },
    {
      "cell_type": "code",
      "metadata": {
        "id": "UWUrvdFt4qUY"
      },
      "source": [
        "adverserial_training_images = tf.add(train_images, 0.5*perturbations_targated)\r\n",
        "adverserial_training_images = tf.clip_by_value(adverserial_training_images, -1, 1)"
      ],
      "execution_count": null,
      "outputs": []
    },
    {
      "cell_type": "code",
      "metadata": {
        "id": "ieqEze5HD38B"
      },
      "source": [
        "adverserial_training_images=adverserial_training_images.numpy()"
      ],
      "execution_count": null,
      "outputs": []
    },
    {
      "cell_type": "code",
      "metadata": {
        "colab": {
          "base_uri": "https://localhost:8080/"
        },
        "id": "JX4hRGGhDEiV",
        "outputId": "997aa81b-ac02-4777-f6fb-a1fa091c5cee"
      },
      "source": [
        "adverserial_training_images.shape"
      ],
      "execution_count": null,
      "outputs": [
        {
          "output_type": "execute_result",
          "data": {
            "text/plain": [
              "(60000, 28, 28)"
            ]
          },
          "metadata": {
            "tags": []
          },
          "execution_count": 357
        }
      ]
    },
    {
      "cell_type": "code",
      "metadata": {
        "id": "0qxaMVKHCe-V"
      },
      "source": [
        "adverserial_test_images = tf.add(test_images, 0.5*perturbations_targated)\r\n",
        "adverserial_test_images = tf.clip_by_value(adverserial_test_images, -1, 1)"
      ],
      "execution_count": null,
      "outputs": []
    },
    {
      "cell_type": "code",
      "metadata": {
        "id": "tg8-vzEaDQys"
      },
      "source": [
        "adverserial_test_images=adverserial_test_images.numpy()"
      ],
      "execution_count": null,
      "outputs": []
    },
    {
      "cell_type": "code",
      "metadata": {
        "colab": {
          "base_uri": "https://localhost:8080/"
        },
        "id": "o0xkmNTuE5gG",
        "outputId": "0b57a95b-5150-438e-e955-33bb7bfa8b0e"
      },
      "source": [
        "adverserial_test_images.shape"
      ],
      "execution_count": null,
      "outputs": [
        {
          "output_type": "execute_result",
          "data": {
            "text/plain": [
              "(10000, 28, 28)"
            ]
          },
          "metadata": {
            "tags": []
          },
          "execution_count": 360
        }
      ]
    },
    {
      "cell_type": "code",
      "metadata": {
        "id": "W1e4MjbO_rLz"
      },
      "source": [
        "#now try to predict"
      ],
      "execution_count": null,
      "outputs": []
    },
    {
      "cell_type": "code",
      "metadata": {
        "colab": {
          "base_uri": "https://localhost:8080/",
          "height": 282
        },
        "id": "vYYc4yns_4Bb",
        "outputId": "cc2f2f7c-cdc7-4321-efd2-bd353a2ab609"
      },
      "source": [
        "plt.imshow(train_images[5])"
      ],
      "execution_count": null,
      "outputs": [
        {
          "output_type": "execute_result",
          "data": {
            "text/plain": [
              "<matplotlib.image.AxesImage at 0x7f3d77b49c18>"
            ]
          },
          "metadata": {
            "tags": []
          },
          "execution_count": 362
        },
        {
          "output_type": "display_data",
          "data": {
            "image/png": "[encoded data removed]",
            "text/plain": [
              "<Figure size 432x288 with 1 Axes>"
            ]
          },
          "metadata": {
            "tags": [],
            "needs_background": "light"
          }
        }
      ]
    },
    {
      "cell_type": "code",
      "metadata": {
        "colab": {
          "base_uri": "https://localhost:8080/",
          "height": 265
        },
        "id": "g63Swb6x_udM",
        "outputId": "61b53039-8968-4de4-bfa5-a0ce370507dc"
      },
      "source": [
        "plt.imshow(adverserial_training_images[5])\r\n",
        "i = adverserial_training_images[5]"
      ],
      "execution_count": null,
      "outputs": [
        {
          "output_type": "display_data",
          "data": {
            "image/png": "[encoded data removed]",
            "text/plain": [
              "<Figure size 432x288 with 1 Axes>"
            ]
          },
          "metadata": {
            "tags": [],
            "needs_background": "light"
          }
        }
      ]
    },
    {
      "cell_type": "code",
      "metadata": {
        "colab": {
          "base_uri": "https://localhost:8080/",
          "height": 35
        },
        "id": "O80smqUoBr0d",
        "outputId": "3985050a-d484-4394-dc0d-b3ec175885ca"
      },
      "source": [
        "class_names[train_labels[5]]"
      ],
      "execution_count": null,
      "outputs": [
        {
          "output_type": "execute_result",
          "data": {
            "application/vnd.google.colaboratory.intrinsic+json": {
              "type": "string"
            },
            "text/plain": [
              "'Pullover'"
            ]
          },
          "metadata": {
            "tags": []
          },
          "execution_count": 364
        }
      ]
    },
    {
      "cell_type": "code",
      "metadata": {
        "id": "WLfVNBbvEVRm"
      },
      "source": [
        "in_image = tf.Variable(adverserial_training_images[5].reshape((1, 28, 28)).astype(np.float32))"
      ],
      "execution_count": null,
      "outputs": []
    },
    {
      "cell_type": "code",
      "metadata": {
        "id": "rREVLgVAB9g8"
      },
      "source": [
        "predictions= model.predict(np.expand_dims(adverserial_training_images[5],0)) #np.expand_dims(test_images[0],0)"
      ],
      "execution_count": null,
      "outputs": []
    },
    {
      "cell_type": "code",
      "metadata": {
        "colab": {
          "base_uri": "https://localhost:8080/",
          "height": 35
        },
        "id": "WiL4KntVHmCw",
        "outputId": "5174b295-d65b-4c7a-becb-289da2e87321"
      },
      "source": [
        "label = np.argmax(predictions[0])\r\n",
        "class_names[label]"
      ],
      "execution_count": null,
      "outputs": [
        {
          "output_type": "execute_result",
          "data": {
            "application/vnd.google.colaboratory.intrinsic+json": {
              "type": "string"
            },
            "text/plain": [
              "'Pullover'"
            ]
          },
          "metadata": {
            "tags": []
          },
          "execution_count": 367
        }
      ]
    },
    {
      "cell_type": "code",
      "metadata": {
        "id": "sCVkSOzjQ9Pv"
      },
      "source": [
        "#training on adversial images"
      ],
      "execution_count": null,
      "outputs": []
    },
    {
      "cell_type": "code",
      "metadata": {
        "colab": {
          "base_uri": "https://localhost:8080/"
        },
        "id": "SrbMFNIJQ9fw",
        "outputId": "a9756940-a516-4f53-bf5f-a570815983ef"
      },
      "source": [
        "model.fit(adverserial_training_images, train_labels, epochs=10)"
      ],
      "execution_count": null,
      "outputs": [
        {
          "output_type": "stream",
          "text": [
            "Epoch 1/10\n",
            "1875/1875 [==============================] - 3s 2ms/step - loss: 0.6107 - accuracy: 0.8703\n",
            "Epoch 2/10\n",
            "1875/1875 [==============================] - 3s 2ms/step - loss: 0.2798 - accuracy: 0.8944\n",
            "Epoch 3/10\n",
            "1875/1875 [==============================] - 3s 2ms/step - loss: 0.2628 - accuracy: 0.9013\n",
            "Epoch 4/10\n",
            "1875/1875 [==============================] - 3s 2ms/step - loss: 0.2534 - accuracy: 0.9021\n",
            "Epoch 5/10\n",
            "1875/1875 [==============================] - 3s 2ms/step - loss: 0.2502 - accuracy: 0.9039\n",
            "Epoch 6/10\n",
            "1875/1875 [==============================] - 3s 2ms/step - loss: 0.2408 - accuracy: 0.9079\n",
            "Epoch 7/10\n",
            "1875/1875 [==============================] - 3s 2ms/step - loss: 0.2387 - accuracy: 0.9085\n",
            "Epoch 8/10\n",
            "1875/1875 [==============================] - 3s 2ms/step - loss: 0.2363 - accuracy: 0.9092\n",
            "Epoch 9/10\n",
            "1875/1875 [==============================] - 3s 2ms/step - loss: 0.2298 - accuracy: 0.9125\n",
            "Epoch 10/10\n",
            "1875/1875 [==============================] - 3s 2ms/step - loss: 0.2286 - accuracy: 0.9123\n"
          ],
          "name": "stdout"
        },
        {
          "output_type": "execute_result",
          "data": {
            "text/plain": [
              "<tensorflow.python.keras.callbacks.History at 0x7f3d72b76128>"
            ]
          },
          "metadata": {
            "tags": []
          },
          "execution_count": 371
        }
      ]
    },
    {
      "cell_type": "code",
      "metadata": {
        "colab": {
          "base_uri": "https://localhost:8080/"
        },
        "id": "VU1dLVC6Q9f1",
        "outputId": "15c4b1d3-32b1-4aa2-d2ad-d468f6da6317"
      },
      "source": [
        "test_loss, test_acc = model.evaluate(adverserial_test_images,  test_labels, verbose=2)\r\n",
        "\r\n",
        "print('\\nTest accuracy:', test_acc)"
      ],
      "execution_count": null,
      "outputs": [
        {
          "output_type": "stream",
          "text": [
            "313/313 - 0s - loss: 0.3898 - accuracy: 0.8740\n",
            "\n",
            "Test accuracy: 0.8740000128746033\n"
          ],
          "name": "stdout"
        }
      ]
    },
    {
      "cell_type": "code",
      "metadata": {
        "id": "_1K33SNpTD1o",
        "colab": {
          "base_uri": "https://localhost:8080/",
          "height": 281
        },
        "outputId": "8c9c099a-bd67-4e35-8e48-fa1c0a5e1317"
      },
      "source": [
        "display_images(adv_x_targated)"
      ],
      "execution_count": null,
      "outputs": [
        {
          "output_type": "display_data",
          "data": {
            "image/png": "[encoded data removed]",
            "text/plain": [
              "<Figure size 432x288 with 1 Axes>"
            ]
          },
          "metadata": {
            "tags": [],
            "needs_background": "light"
          }
        }
      ]
    }
  ]
}