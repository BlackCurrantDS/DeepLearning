{
  "nbformat": 4,
  "nbformat_minor": 0,
  "metadata": {
    "colab": {
      "name": "IDL_Assignment7.ipynb",
      "provenance": [],
      "mount_file_id": "1eEecUK3ztFgPOmlZG7n0fqvDtgGu3XAw",
      "authorship_tag": "ABX9TyN0Xha4q0jC8KQfQQEonDEY",
      "include_colab_link": true
    },
    "kernelspec": {
      "name": "python3",
      "display_name": "Python 3"
    },
    "accelerator": "GPU"
  },
  "cells": [
    {
      "cell_type": "markdown",
      "metadata": {
        "id": "view-in-github",
        "colab_type": "text"
      },
      "source": [
        "<a href=\"https://colab.research.google.com/github/BlackCurrantDS/DeepLearning/blob/main/IDL_Assignment7.ipynb\" target=\"_parent\"><img src=\"https://colab.research.google.com/assets/colab-badge.svg\" alt=\"Open In Colab\"/></a>"
      ]
    },
    {
      "cell_type": "markdown",
      "metadata": {
        "id": "8zeNSxZaJvqk"
      },
      "source": [
        "References-\r\n",
        "\r\n",
        "https://www.tensorflow.org/tutorials/text/transformer\r\n",
        "\r\n",
        "https://medium.com/datadriveninvestor/attention-mechanism-encoder-and-decoder-f95d7d7005c8\r\n",
        "\r\n",
        "https://trungtran.io/2019/03/29/neural-machine-translation-with-attention-mechanism/"
      ]
    },
    {
      "cell_type": "markdown",
      "metadata": {
        "id": "FSuPRMKkA-yR"
      },
      "source": [
        "Translation using Attention"
      ]
    },
    {
      "cell_type": "code",
      "metadata": {
        "id": "ebuN7cJlAa-e"
      },
      "source": [
        "#imports\r\n",
        "import tensorflow as tf\r\n",
        "\r\n",
        "import matplotlib.pyplot as plt\r\n",
        "import matplotlib.ticker as ticker\r\n",
        "from sklearn.model_selection import train_test_split\r\n",
        "\r\n",
        "import unicodedata\r\n",
        "import re\r\n",
        "import numpy as np\r\n",
        "import os\r\n",
        "import io\r\n",
        "import time"
      ],
      "execution_count": 2,
      "outputs": []
    },
    {
      "cell_type": "code",
      "metadata": {
        "id": "U-P7z308C1qm"
      },
      "source": [
        "# Converts the unicode file to ascii\r\n",
        "def unicode_to_ascii(s):\r\n",
        "  return ''.join(c for c in unicodedata.normalize('NFD', s)\r\n",
        "      if unicodedata.category(c) != 'Mn')\r\n",
        "\r\n",
        "\r\n",
        "def preprocess_sentence(w):\r\n",
        "  w = unicode_to_ascii(w.lower().strip())\r\n",
        "\r\n",
        "  # creating a space between a word and the punctuation following it\r\n",
        "  # eg: \"he is a boy.\" => \"he is a boy .\"\r\n",
        "  # Reference:- https://stackoverflow.com/questions/3645931/python-padding-punctuation-with-white-spaces-keeping-punctuation\r\n",
        "  w = re.sub(r\"([?.!,¿])\", r\" \\1 \", w)\r\n",
        "  w = re.sub(r'[\" \"]+', \" \", w)\r\n",
        "\r\n",
        "  # replacing everything with space except (a-z, A-Z, \".\", \"?\", \"!\", \",\")\r\n",
        "  #w = re.sub(r\"[^a-zA-Z?.!,¿]+\", \" \", w)\r\n",
        "\r\n",
        "  w = w.rstrip().strip()\r\n",
        "\r\n",
        "  # adding a start and an end token to the sentence\r\n",
        "  # so that the model know when to start and stop predicting.\r\n",
        "  w = '<start> ' + w + ' <end>'\r\n",
        "  return w"
      ],
      "execution_count": 3,
      "outputs": []
    },
    {
      "cell_type": "code",
      "metadata": {
        "colab": {
          "base_uri": "https://localhost:8080/"
        },
        "id": "Kj1ZYislC9e3",
        "outputId": "600f285e-a804-4174-f9ae-0c499c31ec26"
      },
      "source": [
        "en_sentence = u\"He saw a pretty girl.\"\r\n",
        "hin_sentence = u\"उसने एक सुंदर लड़की को देखा।\"\r\n",
        "print(preprocess_sentence(en_sentence))\r\n",
        "print(preprocess_sentence(hin_sentence))\r\n",
        "print(preprocess_sentence(hin_sentence).encode('utf-8'))"
      ],
      "execution_count": 4,
      "outputs": [
        {
          "output_type": "stream",
          "text": [
            "<start> he saw a pretty girl . <end>\n",
            "<start> उसन एक सदर लडकी को दखा। <end>\n",
            "b'<start> \\xe0\\xa4\\x89\\xe0\\xa4\\xb8\\xe0\\xa4\\xa8 \\xe0\\xa4\\x8f\\xe0\\xa4\\x95 \\xe0\\xa4\\xb8\\xe0\\xa4\\xa6\\xe0\\xa4\\xb0 \\xe0\\xa4\\xb2\\xe0\\xa4\\xa1\\xe0\\xa4\\x95\\xe0\\xa5\\x80 \\xe0\\xa4\\x95\\xe0\\xa5\\x8b \\xe0\\xa4\\xa6\\xe0\\xa4\\x96\\xe0\\xa4\\xbe\\xe0\\xa5\\xa4 <end>'\n"
          ],
          "name": "stdout"
        }
      ]
    },
    {
      "cell_type": "code",
      "metadata": {
        "id": "TRYzC2U6FS-1"
      },
      "source": [
        "# 1. Remove the accents\r\n",
        "# 2. Clean the sentences\r\n",
        "# 3. Return word pairs in the format: [ENGLISH, SPANISH]\r\n",
        "def create_dataset(path, num_examples):\r\n",
        "  lines = io.open(path, encoding='UTF-8').read().strip().split('\\n')\r\n",
        "  \r\n",
        "\r\n",
        "  word_pairs = [[preprocess_sentence(w) for w in l.split('\\t')[:-1]]  for l in lines[:num_examples]]\r\n",
        "\r\n",
        "  return zip(*word_pairs)"
      ],
      "execution_count": 5,
      "outputs": []
    },
    {
      "cell_type": "code",
      "metadata": {
        "colab": {
          "base_uri": "https://localhost:8080/"
        },
        "id": "ziObiWTAFV91",
        "outputId": "eee4c9f1-db49-46d5-ede6-462ce94c5bfc"
      },
      "source": [
        "path_to_file = \"/content/hin.txt\"\r\n",
        "en, hin = create_dataset(\"hin.txt\", None)\r\n",
        "print(en[-1])\r\n",
        "print(hin[-1])"
      ],
      "execution_count": 6,
      "outputs": [
        {
          "output_type": "stream",
          "text": [
            "<start> when i was a kid , touching bugs didn't bother me a bit . now i can hardly stand looking at pictures of them . <end>\n",
            "<start> जब म बचचा था , मझ कीडो को छन स कोई परशानी नही होती थी , पर अब म उनकी तसवीर दखना भी बरदाशत नही कर सकता। <end>\n"
          ],
          "name": "stdout"
        }
      ]
    },
    {
      "cell_type": "code",
      "metadata": {
        "id": "cTu3cDeKGu9M"
      },
      "source": [
        "def tokenize(lang):\r\n",
        "  lang_tokenizer = tf.keras.preprocessing.text.Tokenizer(\r\n",
        "      filters='')\r\n",
        "  lang_tokenizer.fit_on_texts(lang)\r\n",
        "\r\n",
        "  tensor = lang_tokenizer.texts_to_sequences(lang)\r\n",
        "\r\n",
        "  tensor = tf.keras.preprocessing.sequence.pad_sequences(tensor,\r\n",
        "                                                         padding='post')\r\n",
        "\r\n",
        "  return tensor, lang_tokenizer"
      ],
      "execution_count": 7,
      "outputs": []
    },
    {
      "cell_type": "code",
      "metadata": {
        "id": "s9V7PPIZGxU8"
      },
      "source": [
        "def load_dataset(path, num_examples=None):\r\n",
        "  # creating cleaned input, output pairs\r\n",
        "  targ_lang, inp_lang = create_dataset(path, num_examples)\r\n",
        "\r\n",
        "  input_tensor, inp_lang_tokenizer = tokenize(inp_lang)\r\n",
        "  target_tensor, targ_lang_tokenizer = tokenize(targ_lang)\r\n",
        "\r\n",
        "  return input_tensor, target_tensor, inp_lang_tokenizer, targ_lang_tokenizer"
      ],
      "execution_count": 8,
      "outputs": []
    },
    {
      "cell_type": "code",
      "metadata": {
        "id": "xy42g7bwGzxN"
      },
      "source": [
        "# Try experimenting with the size of that dataset\r\n",
        "num_examples = 30000\r\n",
        "input_tensor, target_tensor, inp_lang, targ_lang = load_dataset(path_to_file, num_examples)\r\n",
        "\r\n",
        "# Calculate max_length of the target tensors\r\n",
        "max_length_targ, max_length_inp = target_tensor.shape[1], input_tensor.shape[1]"
      ],
      "execution_count": 9,
      "outputs": []
    },
    {
      "cell_type": "code",
      "metadata": {
        "colab": {
          "base_uri": "https://localhost:8080/"
        },
        "id": "KcDxxIhoG38M",
        "outputId": "436a2fb3-a935-44e4-da40-592b31622d63"
      },
      "source": [
        "# Creating training and validation sets using an 80-20 split\r\n",
        "input_tensor_train, input_tensor_val, target_tensor_train, target_tensor_val = train_test_split(input_tensor, target_tensor, test_size=0.2)\r\n",
        "\r\n",
        "# Show length\r\n",
        "print(len(input_tensor_train), len(target_tensor_train), len(input_tensor_val), len(target_tensor_val))"
      ],
      "execution_count": 10,
      "outputs": [
        {
          "output_type": "stream",
          "text": [
            "2338 2338 585 585\n"
          ],
          "name": "stdout"
        }
      ]
    },
    {
      "cell_type": "code",
      "metadata": {
        "id": "NHU5mAdrG5_c"
      },
      "source": [
        "def convert(lang, tensor):\r\n",
        "  for t in tensor:\r\n",
        "    if t!=0:\r\n",
        "      print (\"%d ----> %s\" % (t, lang.index_word[t]))"
      ],
      "execution_count": 11,
      "outputs": []
    },
    {
      "cell_type": "code",
      "metadata": {
        "colab": {
          "base_uri": "https://localhost:8080/"
        },
        "id": "CRKjGKrvG7x9",
        "outputId": "ec3b91d9-3487-4520-d226-8560bd7150e4"
      },
      "source": [
        "print (\"Input Language; index to word mapping\")\r\n",
        "convert(inp_lang, input_tensor_train[0])\r\n",
        "print ()\r\n",
        "print (\"Target Language; index to word mapping\")\r\n",
        "convert(targ_lang, target_tensor_train[0])"
      ],
      "execution_count": 12,
      "outputs": [
        {
          "output_type": "stream",
          "text": [
            "Input Language; index to word mapping\n",
            "1 ----> <start>\n",
            "32 ----> हम\n",
            "596 ----> आखिरकार\n",
            "565 ----> झील\n",
            "77 ----> तक\n",
            "431 ----> पहच\n",
            "164 ----> गए।\n",
            "2 ----> <end>\n",
            "\n",
            "Target Language; index to word mapping\n",
            "1 ----> <start>\n",
            "33 ----> at\n",
            "121 ----> last\n",
            "22 ----> ,\n",
            "29 ----> we\n",
            "141 ----> got\n",
            "6 ----> to\n",
            "4 ----> the\n",
            "614 ----> lake\n",
            "3 ----> .\n",
            "2 ----> <end>\n"
          ],
          "name": "stdout"
        }
      ]
    },
    {
      "cell_type": "code",
      "metadata": {
        "id": "uRRu7YjOHBQM"
      },
      "source": [
        "BUFFER_SIZE = len(input_tensor_train)\r\n",
        "BATCH_SIZE = 64\r\n",
        "steps_per_epoch = len(input_tensor_train)//BATCH_SIZE\r\n",
        "embedding_dim = 256\r\n",
        "units = 1024\r\n",
        "vocab_inp_size = len(inp_lang.word_index)+1\r\n",
        "vocab_tar_size = len(targ_lang.word_index)+1\r\n",
        "\r\n",
        "dataset = tf.data.Dataset.from_tensor_slices((input_tensor_train, target_tensor_train)).shuffle(BUFFER_SIZE)\r\n",
        "dataset = dataset.batch(BATCH_SIZE, drop_remainder=True)"
      ],
      "execution_count": 13,
      "outputs": []
    },
    {
      "cell_type": "code",
      "metadata": {
        "colab": {
          "base_uri": "https://localhost:8080/"
        },
        "id": "f53HSug9HEeE",
        "outputId": "07bb535f-f34e-4160-e260-ef7e22dfcd21"
      },
      "source": [
        "example_input_batch, example_target_batch = next(iter(dataset))\r\n",
        "example_input_batch.shape, example_target_batch.shape"
      ],
      "execution_count": 14,
      "outputs": [
        {
          "output_type": "execute_result",
          "data": {
            "text/plain": [
              "(TensorShape([64, 29]), TensorShape([64, 27]))"
            ]
          },
          "metadata": {
            "tags": []
          },
          "execution_count": 14
        }
      ]
    },
    {
      "cell_type": "code",
      "metadata": {
        "id": "JywVyKxfHIPk"
      },
      "source": [
        "class Encoder(tf.keras.Model):\r\n",
        "  def __init__(self, vocab_size, embedding_dim, enc_units, batch_sz):\r\n",
        "    super(Encoder, self).__init__()\r\n",
        "    self.batch_sz = batch_sz\r\n",
        "    self.enc_units = enc_units\r\n",
        "    self.embedding = tf.keras.layers.Embedding(vocab_size, embedding_dim)\r\n",
        "    self.gru = tf.keras.layers.GRU(self.enc_units,\r\n",
        "                                   return_sequences=True,\r\n",
        "                                   return_state=True,\r\n",
        "                                   recurrent_initializer='glorot_uniform')\r\n",
        "\r\n",
        "  def call(self, x, hidden):\r\n",
        "    x = self.embedding(x)\r\n",
        "    output, state = self.gru(x, initial_state = hidden)\r\n",
        "    return output, state\r\n",
        "\r\n",
        "  def initialize_hidden_state(self):\r\n",
        "    return tf.zeros((self.batch_sz, self.enc_units))"
      ],
      "execution_count": 15,
      "outputs": []
    },
    {
      "cell_type": "code",
      "metadata": {
        "colab": {
          "base_uri": "https://localhost:8080/"
        },
        "id": "BWX1mqAJHKUk",
        "outputId": "23e4e20a-75ed-49c6-f664-147831f210b8"
      },
      "source": [
        "encoder = Encoder(vocab_inp_size, embedding_dim, units, BATCH_SIZE)\r\n",
        "\r\n",
        "# sample input\r\n",
        "sample_hidden = encoder.initialize_hidden_state()\r\n",
        "sample_output, sample_hidden = encoder(example_input_batch, sample_hidden)\r\n",
        "print ('Encoder output shape: (batch size, sequence length, units) {}'.format(sample_output.shape))\r\n",
        "print ('Encoder Hidden state shape: (batch size, units) {}'.format(sample_hidden.shape))"
      ],
      "execution_count": 16,
      "outputs": [
        {
          "output_type": "stream",
          "text": [
            "Encoder output shape: (batch size, sequence length, units) (64, 29, 1024)\n",
            "Encoder Hidden state shape: (batch size, units) (64, 1024)\n"
          ],
          "name": "stdout"
        }
      ]
    },
    {
      "cell_type": "code",
      "metadata": {
        "id": "MhIPtAbXHOhU"
      },
      "source": [
        "class BahdanauAttention(tf.keras.layers.Layer):\r\n",
        "  def __init__(self, units):\r\n",
        "    super(BahdanauAttention, self).__init__()\r\n",
        "    self.W1 = tf.keras.layers.Dense(units)\r\n",
        "    self.W2 = tf.keras.layers.Dense(units)\r\n",
        "    self.V = tf.keras.layers.Dense(1)\r\n",
        "\r\n",
        "  def call(self, query, values):\r\n",
        "    # query hidden state shape == (batch_size, hidden size)\r\n",
        "    # query_with_time_axis shape == (batch_size, 1, hidden size)\r\n",
        "    # values shape == (batch_size, max_len, hidden size)\r\n",
        "    # we are doing this to broadcast addition along the time axis to calculate the score\r\n",
        "    query_with_time_axis = tf.expand_dims(query, 1)\r\n",
        "\r\n",
        "    # score shape == (batch_size, max_length, 1)\r\n",
        "    # we get 1 at the last axis because we are applying score to self.V\r\n",
        "    # the shape of the tensor before applying self.V is (batch_size, max_length, units)\r\n",
        "    score = self.V(tf.nn.tanh(\r\n",
        "        self.W1(query_with_time_axis) + self.W2(values)))\r\n",
        "\r\n",
        "    # attention_weights shape == (batch_size, max_length, 1)\r\n",
        "    attention_weights = tf.nn.softmax(score, axis=1)\r\n",
        "\r\n",
        "    # context_vector shape after sum == (batch_size, hidden_size)\r\n",
        "    context_vector = attention_weights * values\r\n",
        "    context_vector = tf.reduce_sum(context_vector, axis=1)\r\n",
        "\r\n",
        "    return context_vector, attention_weights"
      ],
      "execution_count": 17,
      "outputs": []
    },
    {
      "cell_type": "code",
      "metadata": {
        "colab": {
          "base_uri": "https://localhost:8080/"
        },
        "id": "5-rIIwPMHQGc",
        "outputId": "7acb6a70-7bb8-4359-93e6-0f314695918a"
      },
      "source": [
        "attention_layer = BahdanauAttention(10)\r\n",
        "attention_result, attention_weights = attention_layer(sample_hidden, sample_output)\r\n",
        "\r\n",
        "print(\"Attention result shape: (batch size, units) {}\".format(attention_result.shape))\r\n",
        "print(\"Attention weights shape: (batch_size, sequence_length, 1) {}\".format(attention_weights.shape))"
      ],
      "execution_count": 18,
      "outputs": [
        {
          "output_type": "stream",
          "text": [
            "Attention result shape: (batch size, units) (64, 1024)\n",
            "Attention weights shape: (batch_size, sequence_length, 1) (64, 29, 1)\n"
          ],
          "name": "stdout"
        }
      ]
    },
    {
      "cell_type": "code",
      "metadata": {
        "id": "8JOfkA7jHSey"
      },
      "source": [
        "class Decoder(tf.keras.Model):\r\n",
        "  def __init__(self, vocab_size, embedding_dim, dec_units, batch_sz):\r\n",
        "    super(Decoder, self).__init__()\r\n",
        "    self.batch_sz = batch_sz\r\n",
        "    self.dec_units = dec_units\r\n",
        "    self.embedding = tf.keras.layers.Embedding(vocab_size, embedding_dim)\r\n",
        "    self.gru = tf.keras.layers.GRU(self.dec_units,\r\n",
        "                                   return_sequences=True,\r\n",
        "                                   return_state=True,\r\n",
        "                                   recurrent_initializer='glorot_uniform')\r\n",
        "    self.fc = tf.keras.layers.Dense(vocab_size)\r\n",
        "\r\n",
        "    # used for attention\r\n",
        "    self.attention = BahdanauAttention(self.dec_units)\r\n",
        "\r\n",
        "  def call(self, x, hidden, enc_output):\r\n",
        "    # enc_output shape == (batch_size, max_length, hidden_size)\r\n",
        "    context_vector, attention_weights = self.attention(hidden, enc_output)\r\n",
        "\r\n",
        "    # x shape after passing through embedding == (batch_size, 1, embedding_dim)\r\n",
        "    x = self.embedding(x)\r\n",
        "\r\n",
        "    # x shape after concatenation == (batch_size, 1, embedding_dim + hidden_size)\r\n",
        "    x = tf.concat([tf.expand_dims(context_vector, 1), x], axis=-1)\r\n",
        "\r\n",
        "    # passing the concatenated vector to the GRU\r\n",
        "    output, state = self.gru(x)\r\n",
        "\r\n",
        "    # output shape == (batch_size * 1, hidden_size)\r\n",
        "    output = tf.reshape(output, (-1, output.shape[2]))\r\n",
        "\r\n",
        "    # output shape == (batch_size, vocab)\r\n",
        "    x = self.fc(output)\r\n",
        "\r\n",
        "    return x, state, attention_weights"
      ],
      "execution_count": 19,
      "outputs": []
    },
    {
      "cell_type": "code",
      "metadata": {
        "colab": {
          "base_uri": "https://localhost:8080/"
        },
        "id": "Gq4DkZkLHUXr",
        "outputId": "010f4aa0-e70b-4c34-856e-a1e5ea7b9890"
      },
      "source": [
        "decoder = Decoder(vocab_tar_size, embedding_dim, units, BATCH_SIZE)\r\n",
        "\r\n",
        "sample_decoder_output, _, _ = decoder(tf.random.uniform((BATCH_SIZE, 1)),\r\n",
        "                                      sample_hidden, sample_output)\r\n",
        "\r\n",
        "print ('Decoder output shape: (batch_size, vocab size) {}'.format(sample_decoder_output.shape))"
      ],
      "execution_count": 20,
      "outputs": [
        {
          "output_type": "stream",
          "text": [
            "Decoder output shape: (batch_size, vocab size) (64, 2438)\n"
          ],
          "name": "stdout"
        }
      ]
    },
    {
      "cell_type": "code",
      "metadata": {
        "id": "uc87bdMEHXSr"
      },
      "source": [
        "optimizer = tf.keras.optimizers.Adam()\r\n",
        "loss_object = tf.keras.losses.SparseCategoricalCrossentropy(\r\n",
        "    from_logits=True, reduction='none')\r\n",
        "\r\n",
        "def loss_function(real, pred):\r\n",
        "  mask = tf.math.logical_not(tf.math.equal(real, 0))\r\n",
        "  loss_ = loss_object(real, pred)\r\n",
        "\r\n",
        "  mask = tf.cast(mask, dtype=loss_.dtype)\r\n",
        "  loss_ *= mask\r\n",
        "\r\n",
        "  return tf.reduce_mean(loss_)"
      ],
      "execution_count": 21,
      "outputs": []
    },
    {
      "cell_type": "code",
      "metadata": {
        "id": "ReOKfQunHZDL"
      },
      "source": [
        "checkpoint_dir = '/content/drive/MyDrive/chkpoint_folder'\r\n",
        "checkpoint_prefix = os.path.join(checkpoint_dir, \"ckpt\")\r\n",
        "checkpoint = tf.train.Checkpoint(optimizer=optimizer,\r\n",
        "                                 encoder=encoder,\r\n",
        "                                 decoder=decoder)"
      ],
      "execution_count": 22,
      "outputs": []
    },
    {
      "cell_type": "code",
      "metadata": {
        "id": "uCXyfWolHj3S"
      },
      "source": [
        "@tf.function\r\n",
        "def train_step(inp, targ, enc_hidden):\r\n",
        "  loss = 0\r\n",
        "\r\n",
        "  with tf.GradientTape() as tape:\r\n",
        "    enc_output, enc_hidden = encoder(inp, enc_hidden)\r\n",
        "\r\n",
        "    dec_hidden = enc_hidden\r\n",
        "\r\n",
        "    dec_input = tf.expand_dims([targ_lang.word_index['<start>']] * BATCH_SIZE, 1)\r\n",
        "\r\n",
        "    # Teacher forcing - feeding the target as the next input\r\n",
        "    for t in range(1, targ.shape[1]):\r\n",
        "      # passing enc_output to the decoder\r\n",
        "      predictions, dec_hidden, _ = decoder(dec_input, dec_hidden, enc_output)\r\n",
        "\r\n",
        "      loss += loss_function(targ[:, t], predictions)\r\n",
        "\r\n",
        "      # using teacher forcing\r\n",
        "      dec_input = tf.expand_dims(targ[:, t], 1)\r\n",
        "\r\n",
        "  batch_loss = (loss / int(targ.shape[1]))\r\n",
        "\r\n",
        "  variables = encoder.trainable_variables + decoder.trainable_variables\r\n",
        "\r\n",
        "  gradients = tape.gradient(loss, variables)\r\n",
        "\r\n",
        "  optimizer.apply_gradients(zip(gradients, variables))\r\n",
        "\r\n",
        "  return batch_loss"
      ],
      "execution_count": 23,
      "outputs": []
    },
    {
      "cell_type": "code",
      "metadata": {
        "colab": {
          "base_uri": "https://localhost:8080/"
        },
        "id": "DJ1DcHhMHlgr",
        "outputId": "971e6732-2cf7-496d-b8df-0abee174461b"
      },
      "source": [
        "EPOCHS = 10\r\n",
        "\r\n",
        "for epoch in range(EPOCHS):\r\n",
        "  start = time.time()\r\n",
        "\r\n",
        "  enc_hidden = encoder.initialize_hidden_state()\r\n",
        "  total_loss = 0\r\n",
        "\r\n",
        "  for (batch, (inp, targ)) in enumerate(dataset.take(steps_per_epoch)):\r\n",
        "    batch_loss = train_step(inp, targ, enc_hidden)\r\n",
        "    total_loss += batch_loss\r\n",
        "\r\n",
        "    if batch % 100 == 0:\r\n",
        "      print('Epoch {} Batch {} Loss {:.4f}'.format(epoch + 1,\r\n",
        "                                                   batch,\r\n",
        "                                                   batch_loss.numpy()))\r\n",
        "  # saving (checkpoint) the model every 2 epochs\r\n",
        "  if (epoch + 1) % 2 == 0:\r\n",
        "    checkpoint.save(file_prefix = checkpoint_prefix)\r\n",
        "\r\n",
        "  print('Epoch {} Loss {:.4f}'.format(epoch + 1,\r\n",
        "                                      total_loss / steps_per_epoch))\r\n",
        "  print('Time taken for 1 epoch {} sec\\n'.format(time.time() - start))"
      ],
      "execution_count": 24,
      "outputs": [
        {
          "output_type": "stream",
          "text": [
            "Epoch 1 Batch 0 Loss 2.3787\n",
            "Epoch 1 Loss 1.7961\n",
            "Time taken for 1 epoch 33.55572557449341 sec\n",
            "\n",
            "Epoch 2 Batch 0 Loss 1.4568\n",
            "Epoch 2 Loss 1.5018\n",
            "Time taken for 1 epoch 8.422091245651245 sec\n",
            "\n",
            "Epoch 3 Batch 0 Loss 1.4676\n",
            "Epoch 3 Loss 1.3956\n",
            "Time taken for 1 epoch 7.13768744468689 sec\n",
            "\n",
            "Epoch 4 Batch 0 Loss 1.3117\n",
            "Epoch 4 Loss 1.3194\n",
            "Time taken for 1 epoch 8.40192699432373 sec\n",
            "\n",
            "Epoch 5 Batch 0 Loss 1.2021\n",
            "Epoch 5 Loss 1.2436\n",
            "Time taken for 1 epoch 7.251919269561768 sec\n",
            "\n",
            "Epoch 6 Batch 0 Loss 1.2088\n",
            "Epoch 6 Loss 1.1653\n",
            "Time taken for 1 epoch 8.493279933929443 sec\n",
            "\n",
            "Epoch 7 Batch 0 Loss 1.0523\n",
            "Epoch 7 Loss 1.0926\n",
            "Time taken for 1 epoch 7.2884132862091064 sec\n",
            "\n",
            "Epoch 8 Batch 0 Loss 1.0337\n",
            "Epoch 8 Loss 1.0307\n",
            "Time taken for 1 epoch 8.61251974105835 sec\n",
            "\n",
            "Epoch 9 Batch 0 Loss 0.9508\n",
            "Epoch 9 Loss 0.9708\n",
            "Time taken for 1 epoch 7.381201982498169 sec\n",
            "\n",
            "Epoch 10 Batch 0 Loss 1.0073\n",
            "Epoch 10 Loss 0.9114\n",
            "Time taken for 1 epoch 8.670194625854492 sec\n",
            "\n"
          ],
          "name": "stdout"
        }
      ]
    },
    {
      "cell_type": "code",
      "metadata": {
        "id": "3bSZfM6cHwR7"
      },
      "source": [
        "def evaluate(sentence):\r\n",
        "  attention_plot = np.zeros((max_length_targ, max_length_inp))\r\n",
        "\r\n",
        "  sentence = preprocess_sentence(sentence)\r\n",
        "\r\n",
        "  inputs = [inp_lang.word_index[i] for i in sentence.split(' ')]\r\n",
        "  inputs = tf.keras.preprocessing.sequence.pad_sequences([inputs],\r\n",
        "                                                         maxlen=max_length_inp,\r\n",
        "                                                         padding='post')\r\n",
        "  inputs = tf.convert_to_tensor(inputs)\r\n",
        "\r\n",
        "  result = ''\r\n",
        "\r\n",
        "  hidden = [tf.zeros((1, units))]\r\n",
        "  enc_out, enc_hidden = encoder(inputs, hidden)\r\n",
        "\r\n",
        "  dec_hidden = enc_hidden\r\n",
        "  dec_input = tf.expand_dims([targ_lang.word_index['<start>']], 0)\r\n",
        "\r\n",
        "  for t in range(max_length_targ):\r\n",
        "    predictions, dec_hidden, attention_weights = decoder(dec_input,\r\n",
        "                                                         dec_hidden,\r\n",
        "                                                         enc_out)\r\n",
        "\r\n",
        "    # storing the attention weights to plot later on\r\n",
        "    attention_weights = tf.reshape(attention_weights, (-1, ))\r\n",
        "    attention_plot[t] = attention_weights.numpy()\r\n",
        "\r\n",
        "    predicted_id = tf.argmax(predictions[0]).numpy()\r\n",
        "\r\n",
        "    result += targ_lang.index_word[predicted_id] + ' '\r\n",
        "\r\n",
        "    if targ_lang.index_word[predicted_id] == '<end>':\r\n",
        "      return result, sentence, attention_plot\r\n",
        "\r\n",
        "    # the predicted ID is fed back into the model\r\n",
        "    dec_input = tf.expand_dims([predicted_id], 0)\r\n",
        "\r\n",
        "  return result, sentence, attention_plot"
      ],
      "execution_count": 25,
      "outputs": []
    },
    {
      "cell_type": "code",
      "metadata": {
        "id": "76a21wffHyET"
      },
      "source": [
        "# function for plotting the attention weights\r\n",
        "def plot_attention(attention, sentence, predicted_sentence):\r\n",
        "  fig = plt.figure(figsize=(10,10))\r\n",
        "  ax = fig.add_subplot(1, 1, 1)\r\n",
        "  ax.matshow(attention, cmap='viridis',clim=[0,1])\r\n",
        "\r\n",
        "  fontdict = {'fontsize': 14}\r\n",
        "\r\n",
        "  ax.set_xticklabels([''] + sentence, fontdict=fontdict, rotation=90)\r\n",
        "  ax.set_yticklabels([''] + predicted_sentence, fontdict=fontdict)\r\n",
        "\r\n",
        "  ax.xaxis.set_major_locator(ticker.MultipleLocator(1))\r\n",
        "  ax.yaxis.set_major_locator(ticker.MultipleLocator(1))\r\n",
        "\r\n",
        "  plt.show()"
      ],
      "execution_count": 27,
      "outputs": []
    },
    {
      "cell_type": "code",
      "metadata": {
        "id": "gqcW6KcUHykb"
      },
      "source": [
        "def translate(sentence):\r\n",
        "  result, sentence, attention_plot = evaluate(sentence)\r\n",
        "\r\n",
        "  print('Input: %s' % (sentence))\r\n",
        "  print('Predicted translation: {}'.format(result))\r\n",
        "\r\n",
        "  attention_plot = attention_plot[:len(result.split(' ')), :len(sentence.split(' '))]\r\n",
        "  plot_attention(attention_plot, sentence.split(' '), result.split(' '))"
      ],
      "execution_count": 28,
      "outputs": []
    },
    {
      "cell_type": "code",
      "metadata": {
        "colab": {
          "base_uri": "https://localhost:8080/"
        },
        "id": "6p9zmqCSH1Cr",
        "outputId": "b65b496f-7266-4023-b9f9-f6f8e1b37088"
      },
      "source": [
        "# restoring the latest checkpoint in checkpoint_dir\r\n",
        "checkpoint.restore(tf.train.latest_checkpoint(checkpoint_dir))"
      ],
      "execution_count": 29,
      "outputs": [
        {
          "output_type": "execute_result",
          "data": {
            "text/plain": [
              "<tensorflow.python.training.tracking.util.CheckpointLoadStatus at 0x7fb8aaa4c438>"
            ]
          },
          "metadata": {
            "tags": []
          },
          "execution_count": 29
        }
      ]
    },
    {
      "cell_type": "code",
      "metadata": {
        "colab": {
          "base_uri": "https://localhost:8080/",
          "height": 1000
        },
        "id": "ZV3onM5pH297",
        "outputId": "59348539-c85d-4618-9855-398ee38e1000"
      },
      "source": [
        "translate(u'बहुत बढ़िया!')"
      ],
      "execution_count": 30,
      "outputs": [
        {
          "output_type": "stream",
          "text": [
            "Input: <start> बहत बढिया ! <end>\n",
            "Predicted translation: jump . <end> \n"
          ],
          "name": "stdout"
        },
        {
          "output_type": "stream",
          "text": [
            "/usr/local/lib/python3.6/dist-packages/matplotlib/backends/backend_agg.py:214: RuntimeWarning: Glyph 2348 missing from current font.\n",
            "  font.set_text(s, 0.0, flags=flags)\n",
            "/usr/local/lib/python3.6/dist-packages/matplotlib/backends/backend_agg.py:214: RuntimeWarning: Glyph 2361 missing from current font.\n",
            "  font.set_text(s, 0.0, flags=flags)\n",
            "/usr/local/lib/python3.6/dist-packages/matplotlib/backends/backend_agg.py:214: RuntimeWarning: Glyph 2340 missing from current font.\n",
            "  font.set_text(s, 0.0, flags=flags)\n",
            "/usr/local/lib/python3.6/dist-packages/matplotlib/backends/backend_agg.py:214: RuntimeWarning: Glyph 2338 missing from current font.\n",
            "  font.set_text(s, 0.0, flags=flags)\n",
            "/usr/local/lib/python3.6/dist-packages/matplotlib/backends/backend_agg.py:214: RuntimeWarning: Glyph 2367 missing from current font.\n",
            "  font.set_text(s, 0.0, flags=flags)\n",
            "/usr/local/lib/python3.6/dist-packages/matplotlib/backends/backend_agg.py:214: RuntimeWarning: Glyph 2351 missing from current font.\n",
            "  font.set_text(s, 0.0, flags=flags)\n",
            "/usr/local/lib/python3.6/dist-packages/matplotlib/backends/backend_agg.py:214: RuntimeWarning: Glyph 2366 missing from current font.\n",
            "  font.set_text(s, 0.0, flags=flags)\n",
            "/usr/local/lib/python3.6/dist-packages/matplotlib/backends/backend_agg.py:183: RuntimeWarning: Glyph 2348 missing from current font.\n",
            "  font.set_text(s, 0, flags=flags)\n",
            "/usr/local/lib/python3.6/dist-packages/matplotlib/backends/backend_agg.py:183: RuntimeWarning: Glyph 2361 missing from current font.\n",
            "  font.set_text(s, 0, flags=flags)\n",
            "/usr/local/lib/python3.6/dist-packages/matplotlib/backends/backend_agg.py:183: RuntimeWarning: Glyph 2340 missing from current font.\n",
            "  font.set_text(s, 0, flags=flags)\n",
            "/usr/local/lib/python3.6/dist-packages/matplotlib/backends/backend_agg.py:183: RuntimeWarning: Glyph 2338 missing from current font.\n",
            "  font.set_text(s, 0, flags=flags)\n",
            "/usr/local/lib/python3.6/dist-packages/matplotlib/backends/backend_agg.py:183: RuntimeWarning: Glyph 2367 missing from current font.\n",
            "  font.set_text(s, 0, flags=flags)\n",
            "/usr/local/lib/python3.6/dist-packages/matplotlib/backends/backend_agg.py:183: RuntimeWarning: Glyph 2351 missing from current font.\n",
            "  font.set_text(s, 0, flags=flags)\n",
            "/usr/local/lib/python3.6/dist-packages/matplotlib/backends/backend_agg.py:183: RuntimeWarning: Glyph 2366 missing from current font.\n",
            "  font.set_text(s, 0, flags=flags)\n"
          ],
          "name": "stderr"
        },
        {
          "output_type": "display_data",
          "data": {
            "image/png": "[encoded data removed]",
            "text/plain": [
              "<Figure size 720x720 with 1 Axes>"
            ]
          },
          "metadata": {
            "tags": [],
            "needs_background": "light"
          }
        }
      ]
    },
    {
      "cell_type": "code",
      "metadata": {
        "colab": {
          "base_uri": "https://localhost:8080/",
          "height": 1000
        },
        "id": "89IHNlcMH5JM",
        "outputId": "f258b581-0fd3-494d-89aa-57732d4925d1"
      },
      "source": [
        "translate(u'कृपया जाईये।')"
      ],
      "execution_count": 31,
      "outputs": [
        {
          "output_type": "stream",
          "text": [
            "/usr/local/lib/python3.6/dist-packages/matplotlib/backends/backend_agg.py:214: RuntimeWarning: Glyph 2325 missing from current font.\n",
            "  font.set_text(s, 0.0, flags=flags)\n",
            "/usr/local/lib/python3.6/dist-packages/matplotlib/backends/backend_agg.py:214: RuntimeWarning: Glyph 2346 missing from current font.\n",
            "  font.set_text(s, 0.0, flags=flags)\n",
            "/usr/local/lib/python3.6/dist-packages/matplotlib/backends/backend_agg.py:214: RuntimeWarning: Glyph 2351 missing from current font.\n",
            "  font.set_text(s, 0.0, flags=flags)\n",
            "/usr/local/lib/python3.6/dist-packages/matplotlib/backends/backend_agg.py:214: RuntimeWarning: Glyph 2366 missing from current font.\n",
            "  font.set_text(s, 0.0, flags=flags)\n",
            "/usr/local/lib/python3.6/dist-packages/matplotlib/backends/backend_agg.py:214: RuntimeWarning: Glyph 2332 missing from current font.\n",
            "  font.set_text(s, 0.0, flags=flags)\n",
            "/usr/local/lib/python3.6/dist-packages/matplotlib/backends/backend_agg.py:214: RuntimeWarning: Glyph 2312 missing from current font.\n",
            "  font.set_text(s, 0.0, flags=flags)\n",
            "/usr/local/lib/python3.6/dist-packages/matplotlib/backends/backend_agg.py:214: RuntimeWarning: Glyph 2404 missing from current font.\n",
            "  font.set_text(s, 0.0, flags=flags)\n"
          ],
          "name": "stderr"
        },
        {
          "output_type": "stream",
          "text": [
            "Input: <start> कपया जाईय। <end>\n",
            "Predicted translation: please have to go home . <end> \n"
          ],
          "name": "stdout"
        },
        {
          "output_type": "stream",
          "text": [
            "/usr/local/lib/python3.6/dist-packages/matplotlib/backends/backend_agg.py:183: RuntimeWarning: Glyph 2325 missing from current font.\n",
            "  font.set_text(s, 0, flags=flags)\n",
            "/usr/local/lib/python3.6/dist-packages/matplotlib/backends/backend_agg.py:183: RuntimeWarning: Glyph 2346 missing from current font.\n",
            "  font.set_text(s, 0, flags=flags)\n",
            "/usr/local/lib/python3.6/dist-packages/matplotlib/backends/backend_agg.py:183: RuntimeWarning: Glyph 2351 missing from current font.\n",
            "  font.set_text(s, 0, flags=flags)\n",
            "/usr/local/lib/python3.6/dist-packages/matplotlib/backends/backend_agg.py:183: RuntimeWarning: Glyph 2366 missing from current font.\n",
            "  font.set_text(s, 0, flags=flags)\n",
            "/usr/local/lib/python3.6/dist-packages/matplotlib/backends/backend_agg.py:183: RuntimeWarning: Glyph 2332 missing from current font.\n",
            "  font.set_text(s, 0, flags=flags)\n",
            "/usr/local/lib/python3.6/dist-packages/matplotlib/backends/backend_agg.py:183: RuntimeWarning: Glyph 2312 missing from current font.\n",
            "  font.set_text(s, 0, flags=flags)\n",
            "/usr/local/lib/python3.6/dist-packages/matplotlib/backends/backend_agg.py:183: RuntimeWarning: Glyph 2404 missing from current font.\n",
            "  font.set_text(s, 0, flags=flags)\n"
          ],
          "name": "stderr"
        },
        {
          "output_type": "display_data",
          "data": {
            "image/png": "[encoded data removed]",
            "text/plain": [
              "<Figure size 720x720 with 1 Axes>"
            ]
          },
          "metadata": {
            "tags": [],
            "needs_background": "light"
          }
        }
      ]
    },
    {
      "cell_type": "code",
      "metadata": {
        "id": "qU6LBqWwOj_v",
        "colab": {
          "base_uri": "https://localhost:8080/"
        },
        "outputId": "f9b010d2-44e9-4555-d9b9-6155905eca7f"
      },
      "source": [
        "print(\"Done til here\")"
      ],
      "execution_count": 32,
      "outputs": [
        {
          "output_type": "stream",
          "text": [
            "Done til here\n"
          ],
          "name": "stdout"
        }
      ]
    },
    {
      "cell_type": "markdown",
      "metadata": {
        "id": "SU6y5q17-inX"
      },
      "source": [
        "Luong Attention"
      ]
    },
    {
      "cell_type": "code",
      "metadata": {
        "id": "XjW6AU7L-pvZ"
      },
      "source": [
        "class LuongAttention(tf.keras.layers.Layer):\r\n",
        "  def __init__(self,units, max_len_inp):\r\n",
        "    super(LuongAttention,self).__init__()\r\n",
        "    self.W = tf.keras.layers.Dense(units)\r\n",
        "    self.V = tf.keras.layers.Dense(max_length_inp)\r\n",
        "  \r\n",
        "  def call(self, query, values):\r\n",
        "    query_with_time_axis = tf.expand_dims(query, 1)\r\n",
        "\r\n",
        "    score = tf.matmul(self.W(query_with_time_axis), values, transpose_b=True)   \r\n",
        "    score = tf.transpose(score, [0, 2, 1])\r\n",
        " \r\n",
        "    attention_weights = tf.nn.softmax(score,axis = 1)\r\n",
        " \r\n",
        "    context = attention_weights*values\r\n",
        "  \r\n",
        "    context = tf.reduce_sum(context, axis=1)\r\n",
        "  \r\n",
        "    return context, attention_weights"
      ],
      "execution_count": 33,
      "outputs": []
    },
    {
      "cell_type": "code",
      "metadata": {
        "colab": {
          "base_uri": "https://localhost:8080/"
        },
        "id": "tTLdNFbZ_gWn",
        "outputId": "3f9e1459-2500-4b0c-dda1-eb68c811d1c8"
      },
      "source": [
        "attention_layer = LuongAttention(1024,max_length_inp)\r\n",
        "attention_result, attention_weights = attention_layer(sample_hidden, sample_output)\r\n",
        "\r\n",
        "print(\"Attention result shape: (batch size, units) {}\".format(attention_result.shape))\r\n",
        "print(\"Attention weights shape: (batch_size, sequence_length, 1) {}\".format(attention_weights.shape))"
      ],
      "execution_count": 34,
      "outputs": [
        {
          "output_type": "stream",
          "text": [
            "Attention result shape: (batch size, units) (64, 1024)\n",
            "Attention weights shape: (batch_size, sequence_length, 1) (64, 29, 1)\n"
          ],
          "name": "stdout"
        }
      ]
    },
    {
      "cell_type": "code",
      "metadata": {
        "id": "Ynn2IGQQ4uPy"
      },
      "source": [
        "class Decoder(tf.keras.Model):\r\n",
        "  def __init__(self, vocab_size, embedding_dim, dec_units, batch_sz):\r\n",
        "    super(Decoder, self).__init__()\r\n",
        "    self.batch_sz = batch_sz\r\n",
        "    self.dec_units = dec_units\r\n",
        "    self.embedding = tf.keras.layers.Embedding(vocab_size, embedding_dim)\r\n",
        "    self.gru = tf.keras.layers.GRU(self.dec_units,\r\n",
        "                                   return_sequences=True,\r\n",
        "                                   return_state=True,\r\n",
        "                                   recurrent_initializer='glorot_uniform')\r\n",
        "    \r\n",
        "    self.max_input_length = max_length_inp\r\n",
        "    self.fc = tf.keras.layers.Dense(vocab_size)\r\n",
        "\r\n",
        "    # used for attention\r\n",
        "    self.attention = LuongAttention(self.dec_units, self.max_input_length)\r\n",
        "\r\n",
        "  def call(self, x, hidden, enc_output):\r\n",
        "    # enc_output shape == (batch_size, max_length, hidden_size)\r\n",
        "    context_vector, attention_weights = self.attention(hidden, enc_output)\r\n",
        "\r\n",
        "    # x shape after passing through embedding == (batch_size, 1, embedding_dim)\r\n",
        "    x = self.embedding(x)\r\n",
        "\r\n",
        "    # x shape after concatenation == (batch_size, 1, embedding_dim + hidden_size)\r\n",
        "    x = tf.concat([tf.expand_dims(context_vector, 1), x], axis=-1)\r\n",
        "\r\n",
        "    # passing the concatenated vector to the GRU\r\n",
        "    output, state = self.gru(x)\r\n",
        "\r\n",
        "    # output shape == (batch_size * 1, hidden_size)\r\n",
        "    output = tf.reshape(output, (-1, output.shape[2]))\r\n",
        "\r\n",
        "    # output shape == (batch_size, vocab)\r\n",
        "    x = self.fc(output)\r\n",
        "\r\n",
        "    return x, state, attention_weights"
      ],
      "execution_count": 35,
      "outputs": []
    },
    {
      "cell_type": "code",
      "metadata": {
        "colab": {
          "base_uri": "https://localhost:8080/"
        },
        "id": "IUaLGfFp5NEK",
        "outputId": "8e5942ad-972e-4d17-c189-157e0ea4df7e"
      },
      "source": [
        "decoder = Decoder(vocab_tar_size, embedding_dim, units, BATCH_SIZE)\r\n",
        "\r\n",
        "sample_decoder_output, _, _ = decoder(tf.random.uniform((BATCH_SIZE, 1)),\r\n",
        "                                      sample_hidden, sample_output)\r\n",
        "\r\n",
        "print ('Decoder output shape: (batch_size, vocab size) {}'.format(sample_decoder_output.shape))"
      ],
      "execution_count": 36,
      "outputs": [
        {
          "output_type": "stream",
          "text": [
            "Decoder output shape: (batch_size, vocab size) (64, 2438)\n"
          ],
          "name": "stdout"
        }
      ]
    },
    {
      "cell_type": "code",
      "metadata": {
        "id": "ipBVh8P067xP"
      },
      "source": [
        "optimizer = tf.keras.optimizers.Adam()\r\n",
        "loss_object = tf.keras.losses.SparseCategoricalCrossentropy(\r\n",
        "    from_logits=True, reduction='none')\r\n",
        "\r\n",
        "def loss_function(real, pred):\r\n",
        "  mask = tf.math.logical_not(tf.math.equal(real, 0))\r\n",
        "  loss_ = loss_object(real, pred)\r\n",
        "\r\n",
        "  mask = tf.cast(mask, dtype=loss_.dtype)\r\n",
        "  loss_ *= mask\r\n",
        "\r\n",
        "  return tf.reduce_mean(loss_)"
      ],
      "execution_count": 37,
      "outputs": []
    },
    {
      "cell_type": "code",
      "metadata": {
        "id": "eF78G8eN69lT"
      },
      "source": [
        "checkpoint_dir = '/content/drive/MyDrive/chkpoint_folder/luong'\r\n",
        "checkpoint_prefix = os.path.join(checkpoint_dir, \"ckpt\")\r\n",
        "checkpoint = tf.train.Checkpoint(optimizer=optimizer,\r\n",
        "                                 encoder=encoder,\r\n",
        "                                 decoder=decoder)"
      ],
      "execution_count": 38,
      "outputs": []
    },
    {
      "cell_type": "code",
      "metadata": {
        "id": "lk7VfYP07GLQ"
      },
      "source": [
        "@tf.function\r\n",
        "def train_step(inp, targ, enc_hidden):\r\n",
        "  loss = 0\r\n",
        "\r\n",
        "  with tf.GradientTape() as tape:\r\n",
        "    enc_output, enc_hidden = encoder(inp, enc_hidden)\r\n",
        "\r\n",
        "    dec_hidden = enc_hidden\r\n",
        "\r\n",
        "    dec_input = tf.expand_dims([targ_lang.word_index['<start>']] * BATCH_SIZE, 1)\r\n",
        "\r\n",
        "    # Teacher forcing - feeding the target as the next input\r\n",
        "    for t in range(1, targ.shape[1]):\r\n",
        "      # passing enc_output to the decoder\r\n",
        "      predictions, dec_hidden, _ = decoder(dec_input, dec_hidden, enc_output)\r\n",
        "\r\n",
        "      loss += loss_function(targ[:, t], predictions)\r\n",
        "\r\n",
        "      # using teacher forcing\r\n",
        "      dec_input = tf.expand_dims(targ[:, t], 1)\r\n",
        "\r\n",
        "  batch_loss = (loss / int(targ.shape[1]))\r\n",
        "\r\n",
        "  variables = encoder.trainable_variables + decoder.trainable_variables\r\n",
        "\r\n",
        "  gradients = tape.gradient(loss, variables)\r\n",
        "\r\n",
        "  optimizer.apply_gradients(zip(gradients, variables))\r\n",
        "\r\n",
        "  return batch_loss"
      ],
      "execution_count": 39,
      "outputs": []
    },
    {
      "cell_type": "code",
      "metadata": {
        "colab": {
          "base_uri": "https://localhost:8080/"
        },
        "id": "g_KqKCTI7H2I",
        "outputId": "a1b3f1f5-a05f-488f-84eb-95375ed44f2f"
      },
      "source": [
        "EPOCHS = 10\r\n",
        "\r\n",
        "for epoch in range(EPOCHS):\r\n",
        "  start = time.time()\r\n",
        "\r\n",
        "  enc_hidden = encoder.initialize_hidden_state()\r\n",
        "  total_loss = 0\r\n",
        "\r\n",
        "  for (batch, (inp, targ)) in enumerate(dataset.take(steps_per_epoch)):\r\n",
        "    batch_loss = train_step(inp, targ, enc_hidden)\r\n",
        "    total_loss += batch_loss\r\n",
        "\r\n",
        "    if batch % 100 == 0:\r\n",
        "      print('Epoch {} Batch {} Loss {:.4f}'.format(epoch + 1,\r\n",
        "                                                   batch,\r\n",
        "                                                   batch_loss.numpy()))\r\n",
        "  # saving (checkpoint) the model every 2 epochs\r\n",
        "  if (epoch + 1) % 2 == 0:\r\n",
        "    checkpoint.save(file_prefix = checkpoint_prefix)\r\n",
        "\r\n",
        "  print('Epoch {} Loss {:.4f}'.format(epoch + 1,\r\n",
        "                                      total_loss / steps_per_epoch))\r\n",
        "  print('Time taken for 1 epoch {} sec\\n'.format(time.time() - start))"
      ],
      "execution_count": 40,
      "outputs": [
        {
          "output_type": "stream",
          "text": [
            "Epoch 1 Batch 0 Loss 2.4141\n",
            "Epoch 1 Loss 1.7210\n",
            "Time taken for 1 epoch 30.159037113189697 sec\n",
            "\n",
            "Epoch 2 Batch 0 Loss 1.4113\n",
            "Epoch 2 Loss 1.4212\n",
            "Time taken for 1 epoch 5.852864027023315 sec\n",
            "\n",
            "Epoch 3 Batch 0 Loss 1.2351\n",
            "Epoch 3 Loss 1.2759\n",
            "Time taken for 1 epoch 4.813340663909912 sec\n",
            "\n",
            "Epoch 4 Batch 0 Loss 1.2855\n",
            "Epoch 4 Loss 1.1707\n",
            "Time taken for 1 epoch 5.889228582382202 sec\n",
            "\n",
            "Epoch 5 Batch 0 Loss 1.0774\n",
            "Epoch 5 Loss 1.0794\n",
            "Time taken for 1 epoch 4.879671573638916 sec\n",
            "\n",
            "Epoch 6 Batch 0 Loss 1.0410\n",
            "Epoch 6 Loss 1.0134\n",
            "Time taken for 1 epoch 6.067532300949097 sec\n",
            "\n",
            "Epoch 7 Batch 0 Loss 0.9925\n",
            "Epoch 7 Loss 0.9566\n",
            "Time taken for 1 epoch 4.898154020309448 sec\n",
            "\n",
            "Epoch 8 Batch 0 Loss 0.9343\n",
            "Epoch 8 Loss 0.8864\n",
            "Time taken for 1 epoch 5.956777334213257 sec\n",
            "\n",
            "Epoch 9 Batch 0 Loss 0.7173\n",
            "Epoch 9 Loss 0.8313\n",
            "Time taken for 1 epoch 4.917116403579712 sec\n",
            "\n",
            "Epoch 10 Batch 0 Loss 0.9247\n",
            "Epoch 10 Loss 0.8310\n",
            "Time taken for 1 epoch 6.188989162445068 sec\n",
            "\n"
          ],
          "name": "stdout"
        }
      ]
    },
    {
      "cell_type": "code",
      "metadata": {
        "id": "0Mg8Frdi7KUH"
      },
      "source": [
        "def evaluate(sentence):\r\n",
        "  attention_plot = np.zeros((max_length_targ, max_length_inp))\r\n",
        "\r\n",
        "  sentence = preprocess_sentence(sentence)\r\n",
        "\r\n",
        "  inputs = [inp_lang.word_index[i] for i in sentence.split(' ')]\r\n",
        "  inputs = tf.keras.preprocessing.sequence.pad_sequences([inputs],\r\n",
        "                                                         maxlen=max_length_inp,\r\n",
        "                                                         padding='post')\r\n",
        "  inputs = tf.convert_to_tensor(inputs)\r\n",
        "\r\n",
        "  result = ''\r\n",
        "\r\n",
        "  hidden = [tf.zeros((1, units))]\r\n",
        "  enc_out, enc_hidden = encoder(inputs, hidden)\r\n",
        "\r\n",
        "  dec_hidden = enc_hidden\r\n",
        "  dec_input = tf.expand_dims([targ_lang.word_index['<start>']], 0)\r\n",
        "\r\n",
        "  for t in range(max_length_targ):\r\n",
        "    predictions, dec_hidden, attention_weights = decoder(dec_input,\r\n",
        "                                                         dec_hidden,\r\n",
        "                                                         enc_out)\r\n",
        "\r\n",
        "    # storing the attention weights to plot later on\r\n",
        "    attention_weights = tf.reshape(attention_weights, (-1, ))\r\n",
        "    attention_plot[t] = attention_weights.numpy()\r\n",
        "\r\n",
        "    predicted_id = tf.argmax(predictions[0]).numpy()\r\n",
        "\r\n",
        "    result += targ_lang.index_word[predicted_id] + ' '\r\n",
        "\r\n",
        "    if targ_lang.index_word[predicted_id] == '<end>':\r\n",
        "      return result, sentence, attention_plot\r\n",
        "\r\n",
        "    # the predicted ID is fed back into the model\r\n",
        "    dec_input = tf.expand_dims([predicted_id], 0)\r\n",
        "\r\n",
        "  return result, sentence, attention_plot"
      ],
      "execution_count": 41,
      "outputs": []
    },
    {
      "cell_type": "code",
      "metadata": {
        "id": "pkVLTNGG7fkO"
      },
      "source": [
        "# function for plotting the attention weights\r\n",
        "def plot_attention(attention, sentence, predicted_sentence):\r\n",
        "  fig = plt.figure(figsize=(10,10))\r\n",
        "  ax = fig.add_subplot(1, 1, 1)\r\n",
        "  ax.matshow(attention, cmap='viridis',clim=[0,1])\r\n",
        "\r\n",
        "  fontdict = {'fontsize': 14}\r\n",
        "\r\n",
        "  ax.set_xticklabels([''] + sentence, fontdict=fontdict, rotation=90)\r\n",
        "  ax.set_yticklabels([''] + predicted_sentence, fontdict=fontdict)\r\n",
        "\r\n",
        "  ax.xaxis.set_major_locator(ticker.MultipleLocator(1))\r\n",
        "  ax.yaxis.set_major_locator(ticker.MultipleLocator(1))\r\n",
        "\r\n",
        "  plt.show()"
      ],
      "execution_count": 42,
      "outputs": []
    },
    {
      "cell_type": "code",
      "metadata": {
        "id": "S8qbiA_n7hL_"
      },
      "source": [
        "def translate(sentence):\r\n",
        "  result, sentence, attention_plot = evaluate(sentence)\r\n",
        "\r\n",
        "  print('Input: %s' % (sentence))\r\n",
        "  print('Predicted translation: {}'.format(result))\r\n",
        "\r\n",
        "  attention_plot = attention_plot[:len(result.split(' ')), :len(sentence.split(' '))]\r\n",
        "  plot_attention(attention_plot, sentence.split(' '), result.split(' '))"
      ],
      "execution_count": 43,
      "outputs": []
    },
    {
      "cell_type": "code",
      "metadata": {
        "colab": {
          "base_uri": "https://localhost:8080/"
        },
        "id": "29Uex1eT7imn",
        "outputId": "cf3d3e97-d409-423d-c08e-346ca110fe33"
      },
      "source": [
        "# restoring the latest checkpoint in checkpoint_dir\r\n",
        "checkpoint.restore(tf.train.latest_checkpoint(checkpoint_dir))"
      ],
      "execution_count": 44,
      "outputs": [
        {
          "output_type": "execute_result",
          "data": {
            "text/plain": [
              "<tensorflow.python.training.tracking.util.CheckpointLoadStatus at 0x7fb8462529b0>"
            ]
          },
          "metadata": {
            "tags": []
          },
          "execution_count": 44
        }
      ]
    },
    {
      "cell_type": "code",
      "metadata": {
        "colab": {
          "base_uri": "https://localhost:8080/",
          "height": 1000
        },
        "id": "lLo1Qdaz7pKd",
        "outputId": "10393143-a54d-422a-e54a-241c3251660e"
      },
      "source": [
        "translate(u'बहुत बढ़िया!')"
      ],
      "execution_count": 45,
      "outputs": [
        {
          "output_type": "stream",
          "text": [
            "Input: <start> बहत बढिया ! <end>\n",
            "Predicted translation: please ! <end> \n"
          ],
          "name": "stdout"
        },
        {
          "output_type": "stream",
          "text": [
            "/usr/local/lib/python3.6/dist-packages/matplotlib/backends/backend_agg.py:214: RuntimeWarning: Glyph 2348 missing from current font.\n",
            "  font.set_text(s, 0.0, flags=flags)\n",
            "/usr/local/lib/python3.6/dist-packages/matplotlib/backends/backend_agg.py:214: RuntimeWarning: Glyph 2361 missing from current font.\n",
            "  font.set_text(s, 0.0, flags=flags)\n",
            "/usr/local/lib/python3.6/dist-packages/matplotlib/backends/backend_agg.py:214: RuntimeWarning: Glyph 2340 missing from current font.\n",
            "  font.set_text(s, 0.0, flags=flags)\n",
            "/usr/local/lib/python3.6/dist-packages/matplotlib/backends/backend_agg.py:214: RuntimeWarning: Glyph 2338 missing from current font.\n",
            "  font.set_text(s, 0.0, flags=flags)\n",
            "/usr/local/lib/python3.6/dist-packages/matplotlib/backends/backend_agg.py:214: RuntimeWarning: Glyph 2367 missing from current font.\n",
            "  font.set_text(s, 0.0, flags=flags)\n",
            "/usr/local/lib/python3.6/dist-packages/matplotlib/backends/backend_agg.py:214: RuntimeWarning: Glyph 2351 missing from current font.\n",
            "  font.set_text(s, 0.0, flags=flags)\n",
            "/usr/local/lib/python3.6/dist-packages/matplotlib/backends/backend_agg.py:214: RuntimeWarning: Glyph 2366 missing from current font.\n",
            "  font.set_text(s, 0.0, flags=flags)\n",
            "/usr/local/lib/python3.6/dist-packages/matplotlib/backends/backend_agg.py:183: RuntimeWarning: Glyph 2348 missing from current font.\n",
            "  font.set_text(s, 0, flags=flags)\n",
            "/usr/local/lib/python3.6/dist-packages/matplotlib/backends/backend_agg.py:183: RuntimeWarning: Glyph 2361 missing from current font.\n",
            "  font.set_text(s, 0, flags=flags)\n",
            "/usr/local/lib/python3.6/dist-packages/matplotlib/backends/backend_agg.py:183: RuntimeWarning: Glyph 2340 missing from current font.\n",
            "  font.set_text(s, 0, flags=flags)\n",
            "/usr/local/lib/python3.6/dist-packages/matplotlib/backends/backend_agg.py:183: RuntimeWarning: Glyph 2338 missing from current font.\n",
            "  font.set_text(s, 0, flags=flags)\n",
            "/usr/local/lib/python3.6/dist-packages/matplotlib/backends/backend_agg.py:183: RuntimeWarning: Glyph 2367 missing from current font.\n",
            "  font.set_text(s, 0, flags=flags)\n",
            "/usr/local/lib/python3.6/dist-packages/matplotlib/backends/backend_agg.py:183: RuntimeWarning: Glyph 2351 missing from current font.\n",
            "  font.set_text(s, 0, flags=flags)\n",
            "/usr/local/lib/python3.6/dist-packages/matplotlib/backends/backend_agg.py:183: RuntimeWarning: Glyph 2366 missing from current font.\n",
            "  font.set_text(s, 0, flags=flags)\n"
          ],
          "name": "stderr"
        },
        {
          "output_type": "display_data",
          "data": {
            "image/png": "[encoded data removed]",
            "text/plain": [
              "<Figure size 720x720 with 1 Axes>"
            ]
          },
          "metadata": {
            "tags": [],
            "needs_background": "light"
          }
        }
      ]
    },
    {
      "cell_type": "code",
      "metadata": {
        "colab": {
          "base_uri": "https://localhost:8080/",
          "height": 1000
        },
        "id": "vKJDCcgo7pKe",
        "outputId": "8defdc17-ccb3-49a0-ffd6-06594fd6e5a9"
      },
      "source": [
        "translate(u'कृपया जाईये।')"
      ],
      "execution_count": 46,
      "outputs": [
        {
          "output_type": "stream",
          "text": [
            "Input: <start> कपया जाईय। <end>\n",
            "Predicted translation: please get us . <end> \n"
          ],
          "name": "stdout"
        },
        {
          "output_type": "stream",
          "text": [
            "/usr/local/lib/python3.6/dist-packages/matplotlib/backends/backend_agg.py:214: RuntimeWarning: Glyph 2325 missing from current font.\n",
            "  font.set_text(s, 0.0, flags=flags)\n",
            "/usr/local/lib/python3.6/dist-packages/matplotlib/backends/backend_agg.py:214: RuntimeWarning: Glyph 2346 missing from current font.\n",
            "  font.set_text(s, 0.0, flags=flags)\n",
            "/usr/local/lib/python3.6/dist-packages/matplotlib/backends/backend_agg.py:214: RuntimeWarning: Glyph 2351 missing from current font.\n",
            "  font.set_text(s, 0.0, flags=flags)\n",
            "/usr/local/lib/python3.6/dist-packages/matplotlib/backends/backend_agg.py:214: RuntimeWarning: Glyph 2366 missing from current font.\n",
            "  font.set_text(s, 0.0, flags=flags)\n",
            "/usr/local/lib/python3.6/dist-packages/matplotlib/backends/backend_agg.py:214: RuntimeWarning: Glyph 2332 missing from current font.\n",
            "  font.set_text(s, 0.0, flags=flags)\n",
            "/usr/local/lib/python3.6/dist-packages/matplotlib/backends/backend_agg.py:214: RuntimeWarning: Glyph 2312 missing from current font.\n",
            "  font.set_text(s, 0.0, flags=flags)\n",
            "/usr/local/lib/python3.6/dist-packages/matplotlib/backends/backend_agg.py:214: RuntimeWarning: Glyph 2404 missing from current font.\n",
            "  font.set_text(s, 0.0, flags=flags)\n",
            "/usr/local/lib/python3.6/dist-packages/matplotlib/backends/backend_agg.py:183: RuntimeWarning: Glyph 2325 missing from current font.\n",
            "  font.set_text(s, 0, flags=flags)\n",
            "/usr/local/lib/python3.6/dist-packages/matplotlib/backends/backend_agg.py:183: RuntimeWarning: Glyph 2346 missing from current font.\n",
            "  font.set_text(s, 0, flags=flags)\n",
            "/usr/local/lib/python3.6/dist-packages/matplotlib/backends/backend_agg.py:183: RuntimeWarning: Glyph 2351 missing from current font.\n",
            "  font.set_text(s, 0, flags=flags)\n",
            "/usr/local/lib/python3.6/dist-packages/matplotlib/backends/backend_agg.py:183: RuntimeWarning: Glyph 2366 missing from current font.\n",
            "  font.set_text(s, 0, flags=flags)\n",
            "/usr/local/lib/python3.6/dist-packages/matplotlib/backends/backend_agg.py:183: RuntimeWarning: Glyph 2332 missing from current font.\n",
            "  font.set_text(s, 0, flags=flags)\n",
            "/usr/local/lib/python3.6/dist-packages/matplotlib/backends/backend_agg.py:183: RuntimeWarning: Glyph 2312 missing from current font.\n",
            "  font.set_text(s, 0, flags=flags)\n",
            "/usr/local/lib/python3.6/dist-packages/matplotlib/backends/backend_agg.py:183: RuntimeWarning: Glyph 2404 missing from current font.\n",
            "  font.set_text(s, 0, flags=flags)\n"
          ],
          "name": "stderr"
        },
        {
          "output_type": "display_data",
          "data": {
            "image/png": "[encoded data removed]",
            "text/plain": [
              "<Figure size 720x720 with 1 Axes>"
            ]
          },
          "metadata": {
            "tags": [],
            "needs_background": "light"
          }
        }
      ]
    },
    {
      "cell_type": "markdown",
      "metadata": {
        "id": "jw6_lBsX_ff5"
      },
      "source": [
        "Dot Product"
      ]
    },
    {
      "cell_type": "code",
      "metadata": {
        "id": "rBQJb5FQ_e1M"
      },
      "source": [
        "class DotProduct(tf.keras.layers.Layer):\r\n",
        "  def __init__(self,units):\r\n",
        "    super(DotProduct,self).__init__()\r\n",
        "  \r\n",
        "  def call(self, query, values):\r\n",
        "\r\n",
        "    query_with_time_axis = tf.expand_dims(query, 1)\r\n",
        "    \r\n",
        "    score  = tf.expand_dims((tf.reduce_sum( tf.multiply(values,query_with_time_axis), 2)),2)\r\n",
        "\r\n",
        "    attention_weights  = tf.nn.softmax(score,axis = 1)\r\n",
        "    \r\n",
        "    context_vector  = attention_weights*values\r\n",
        "    context_vector  = tf.reduce_sum(context_vector , axis=1)\r\n",
        "    \r\n",
        "    return context_vector, attention_weights"
      ],
      "execution_count": 47,
      "outputs": []
    },
    {
      "cell_type": "code",
      "metadata": {
        "colab": {
          "base_uri": "https://localhost:8080/"
        },
        "id": "qV95EjiFb8vF",
        "outputId": "c80544a7-416d-4c3f-a79d-72a02ca44939"
      },
      "source": [
        "attention_layer = DotProduct(10)\r\n",
        "attention_result, attention_weights = attention_layer(sample_hidden, sample_output)\r\n",
        "\r\n",
        "print(\"Attention result shape: (batch size, units) {}\".format(attention_result.shape))\r\n",
        "print(\"Attention weights shape: (batch_size, sequence_length, 1) {}\".format(attention_weights.shape))"
      ],
      "execution_count": 48,
      "outputs": [
        {
          "output_type": "stream",
          "text": [
            "Attention result shape: (batch size, units) (64, 1024)\n",
            "Attention weights shape: (batch_size, sequence_length, 1) (64, 29, 1)\n"
          ],
          "name": "stdout"
        }
      ]
    },
    {
      "cell_type": "code",
      "metadata": {
        "id": "p_os_8-rcHFe"
      },
      "source": [
        "\r\n",
        "class Decoder(tf.keras.Model):\r\n",
        "  def __init__(self, vocab_size, embedding_dim, dec_units, batch_sz):\r\n",
        "    super(Decoder, self).__init__()\r\n",
        "    self.batch_sz = batch_sz\r\n",
        "    self.dec_units = dec_units\r\n",
        "    self.embedding = tf.keras.layers.Embedding(vocab_size, embedding_dim)\r\n",
        "    self.gru = tf.keras.layers.GRU(self.dec_units,\r\n",
        "                                   return_sequences=True,\r\n",
        "                                   return_state=True,\r\n",
        "                                   recurrent_initializer='glorot_uniform')\r\n",
        "    self.fc = tf.keras.layers.Dense(vocab_size)\r\n",
        "\r\n",
        "    # used for attention\r\n",
        "    self.attention = DotProduct(self.dec_units)\r\n",
        "\r\n",
        "  def call(self, x, hidden, enc_output):\r\n",
        "    # enc_output shape == (batch_size, max_length, hidden_size)\r\n",
        "    context_vector, attention_weights = self.attention(hidden, enc_output)\r\n",
        "\r\n",
        "    # x shape after passing through embedding == (batch_size, 1, embedding_dim)\r\n",
        "    x = self.embedding(x)\r\n",
        "\r\n",
        "    # x shape after concatenation == (batch_size, 1, embedding_dim + hidden_size)\r\n",
        "    x = tf.concat([tf.expand_dims(context_vector, 1), x], axis=-1)\r\n",
        "\r\n",
        "    # passing the concatenated vector to the GRU\r\n",
        "    output, state = self.gru(x)\r\n",
        "\r\n",
        "    # output shape == (batch_size * 1, hidden_size)\r\n",
        "    output = tf.reshape(output, (-1, output.shape[2]))\r\n",
        "\r\n",
        "    # output shape == (batch_size, vocab)\r\n",
        "    x = self.fc(output)\r\n",
        "\r\n",
        "    return x, state, attention_weights"
      ],
      "execution_count": 49,
      "outputs": []
    },
    {
      "cell_type": "code",
      "metadata": {
        "colab": {
          "base_uri": "https://localhost:8080/"
        },
        "id": "wu2BwKVVcVce",
        "outputId": "37885588-71d2-40ab-e695-4733254479b6"
      },
      "source": [
        "decoder = Decoder(vocab_tar_size, embedding_dim, units, BATCH_SIZE)\r\n",
        "\r\n",
        "sample_decoder_output, _, _ = decoder(tf.random.uniform((BATCH_SIZE, 1)),\r\n",
        "                                      sample_hidden, sample_output)\r\n",
        "\r\n",
        "print ('Decoder output shape: (batch_size, vocab size) {}'.format(sample_decoder_output.shape))"
      ],
      "execution_count": 50,
      "outputs": [
        {
          "output_type": "stream",
          "text": [
            "Decoder output shape: (batch_size, vocab size) (64, 2438)\n"
          ],
          "name": "stdout"
        }
      ]
    },
    {
      "cell_type": "code",
      "metadata": {
        "id": "d_pP5TlCdGuV"
      },
      "source": [
        "optimizer = tf.keras.optimizers.Adam()\r\n",
        "loss_object = tf.keras.losses.SparseCategoricalCrossentropy(\r\n",
        "    from_logits=True, reduction='none')\r\n",
        "\r\n",
        "def loss_function(real, pred):\r\n",
        "  mask = tf.math.logical_not(tf.math.equal(real, 0))\r\n",
        "  loss_ = loss_object(real, pred)\r\n",
        "\r\n",
        "  mask = tf.cast(mask, dtype=loss_.dtype)\r\n",
        "  loss_ *= mask\r\n",
        "\r\n",
        "  return tf.reduce_mean(loss_)"
      ],
      "execution_count": 51,
      "outputs": []
    },
    {
      "cell_type": "code",
      "metadata": {
        "id": "vxGTJYuQdGuW"
      },
      "source": [
        "checkpoint_dir = '/content/drive/MyDrive/chkpoint_folder/dotproduct'\r\n",
        "checkpoint_prefix = os.path.join(checkpoint_dir, \"ckpt\")\r\n",
        "checkpoint = tf.train.Checkpoint(optimizer=optimizer,\r\n",
        "                                 encoder=encoder,\r\n",
        "                                 decoder=decoder)"
      ],
      "execution_count": 53,
      "outputs": []
    },
    {
      "cell_type": "code",
      "metadata": {
        "id": "HggA_tlmdGuW"
      },
      "source": [
        "@tf.function\r\n",
        "def train_step(inp, targ, enc_hidden):\r\n",
        "  loss = 0\r\n",
        "\r\n",
        "  with tf.GradientTape() as tape:\r\n",
        "    enc_output, enc_hidden = encoder(inp, enc_hidden)\r\n",
        "\r\n",
        "    dec_hidden = enc_hidden\r\n",
        "\r\n",
        "    dec_input = tf.expand_dims([targ_lang.word_index['<start>']] * BATCH_SIZE, 1)\r\n",
        "\r\n",
        "    # Teacher forcing - feeding the target as the next input\r\n",
        "    for t in range(1, targ.shape[1]):\r\n",
        "      # passing enc_output to the decoder\r\n",
        "      predictions, dec_hidden, _ = decoder(dec_input, dec_hidden, enc_output)\r\n",
        "\r\n",
        "      loss += loss_function(targ[:, t], predictions)\r\n",
        "\r\n",
        "      # using teacher forcing\r\n",
        "      dec_input = tf.expand_dims(targ[:, t], 1)\r\n",
        "\r\n",
        "  batch_loss = (loss / int(targ.shape[1]))\r\n",
        "\r\n",
        "  variables = encoder.trainable_variables + decoder.trainable_variables\r\n",
        "\r\n",
        "  gradients = tape.gradient(loss, variables)\r\n",
        "\r\n",
        "  optimizer.apply_gradients(zip(gradients, variables))\r\n",
        "\r\n",
        "  return batch_loss"
      ],
      "execution_count": 54,
      "outputs": []
    },
    {
      "cell_type": "code",
      "metadata": {
        "colab": {
          "base_uri": "https://localhost:8080/"
        },
        "id": "U_PSfpB3dGuW",
        "outputId": "6db2de73-ebcf-4df9-fe58-d42bfe991415"
      },
      "source": [
        "EPOCHS = 10\r\n",
        "\r\n",
        "for epoch in range(EPOCHS):\r\n",
        "  start = time.time()\r\n",
        "\r\n",
        "  enc_hidden = encoder.initialize_hidden_state()\r\n",
        "  total_loss = 0\r\n",
        "\r\n",
        "  for (batch, (inp, targ)) in enumerate(dataset.take(steps_per_epoch)):\r\n",
        "    batch_loss = train_step(inp, targ, enc_hidden)\r\n",
        "    total_loss += batch_loss\r\n",
        "\r\n",
        "    if batch % 100 == 0:\r\n",
        "      print('Epoch {} Batch {} Loss {:.4f}'.format(epoch + 1,\r\n",
        "                                                   batch,\r\n",
        "                                                   batch_loss.numpy()))\r\n",
        "  # saving (checkpoint) the model every 2 epochs\r\n",
        "  if (epoch + 1) % 2 == 0:\r\n",
        "    checkpoint.save(file_prefix = checkpoint_prefix)\r\n",
        "\r\n",
        "  print('Epoch {} Loss {:.4f}'.format(epoch + 1,\r\n",
        "                                      total_loss / steps_per_epoch))\r\n",
        "  print('Time taken for 1 epoch {} sec\\n'.format(time.time() - start))"
      ],
      "execution_count": 55,
      "outputs": [
        {
          "output_type": "stream",
          "text": [
            "Epoch 1 Batch 0 Loss 2.5136\n",
            "Epoch 1 Loss 1.6961\n",
            "Time taken for 1 epoch 29.96594786643982 sec\n",
            "\n",
            "Epoch 2 Batch 0 Loss 1.4663\n",
            "Epoch 2 Loss 1.3426\n",
            "Time taken for 1 epoch 5.500558376312256 sec\n",
            "\n",
            "Epoch 3 Batch 0 Loss 1.1532\n",
            "Epoch 3 Loss 1.1719\n",
            "Time taken for 1 epoch 4.922057628631592 sec\n",
            "\n",
            "Epoch 4 Batch 0 Loss 1.0815\n",
            "Epoch 4 Loss 1.0355\n",
            "Time taken for 1 epoch 5.574345350265503 sec\n",
            "\n",
            "Epoch 5 Batch 0 Loss 0.8548\n",
            "Epoch 5 Loss 0.9274\n",
            "Time taken for 1 epoch 4.945054769515991 sec\n",
            "\n",
            "Epoch 6 Batch 0 Loss 0.8435\n",
            "Epoch 6 Loss 0.8233\n",
            "Time taken for 1 epoch 5.623546600341797 sec\n",
            "\n",
            "Epoch 7 Batch 0 Loss 0.7538\n",
            "Epoch 7 Loss 0.7268\n",
            "Time taken for 1 epoch 4.987224340438843 sec\n",
            "\n",
            "Epoch 8 Batch 0 Loss 0.5646\n",
            "Epoch 8 Loss 0.6417\n",
            "Time taken for 1 epoch 5.722176551818848 sec\n",
            "\n",
            "Epoch 9 Batch 0 Loss 0.5325\n",
            "Epoch 9 Loss 0.5762\n",
            "Time taken for 1 epoch 4.960331201553345 sec\n",
            "\n",
            "Epoch 10 Batch 0 Loss 0.4626\n",
            "Epoch 10 Loss 0.4863\n",
            "Time taken for 1 epoch 5.816943645477295 sec\n",
            "\n"
          ],
          "name": "stdout"
        }
      ]
    },
    {
      "cell_type": "code",
      "metadata": {
        "id": "fYNHL2F2dGuW"
      },
      "source": [
        "def evaluate(sentence):\r\n",
        "  attention_plot = np.zeros((max_length_targ, max_length_inp))\r\n",
        "\r\n",
        "  sentence = preprocess_sentence(sentence)\r\n",
        "\r\n",
        "  inputs = [inp_lang.word_index[i] for i in sentence.split(' ')]\r\n",
        "  inputs = tf.keras.preprocessing.sequence.pad_sequences([inputs],\r\n",
        "                                                         maxlen=max_length_inp,\r\n",
        "                                                         padding='post')\r\n",
        "  inputs = tf.convert_to_tensor(inputs)\r\n",
        "\r\n",
        "  result = ''\r\n",
        "\r\n",
        "  hidden = [tf.zeros((1, units))]\r\n",
        "  enc_out, enc_hidden = encoder(inputs, hidden)\r\n",
        "\r\n",
        "  dec_hidden = enc_hidden\r\n",
        "  dec_input = tf.expand_dims([targ_lang.word_index['<start>']], 0)\r\n",
        "\r\n",
        "  for t in range(max_length_targ):\r\n",
        "    predictions, dec_hidden, attention_weights = decoder(dec_input,\r\n",
        "                                                         dec_hidden,\r\n",
        "                                                         enc_out)\r\n",
        "\r\n",
        "    # storing the attention weights to plot later on\r\n",
        "    attention_weights = tf.reshape(attention_weights, (-1, ))\r\n",
        "    attention_plot[t] = attention_weights.numpy()\r\n",
        "\r\n",
        "    predicted_id = tf.argmax(predictions[0]).numpy()\r\n",
        "\r\n",
        "    result += targ_lang.index_word[predicted_id] + ' '\r\n",
        "\r\n",
        "    if targ_lang.index_word[predicted_id] == '<end>':\r\n",
        "      return result, sentence, attention_plot\r\n",
        "\r\n",
        "    # the predicted ID is fed back into the model\r\n",
        "    dec_input = tf.expand_dims([predicted_id], 0)\r\n",
        "\r\n",
        "  return result, sentence, attention_plot"
      ],
      "execution_count": 56,
      "outputs": []
    },
    {
      "cell_type": "code",
      "metadata": {
        "id": "Rjecx2sUdGuX"
      },
      "source": [
        "# function for plotting the attention weights\r\n",
        "def plot_attention(attention, sentence, predicted_sentence):\r\n",
        "  fig = plt.figure(figsize=(10,10))\r\n",
        "  ax = fig.add_subplot(1, 1, 1)\r\n",
        "  ax.matshow(attention, cmap='viridis',clim=[0,1])\r\n",
        "\r\n",
        "  fontdict = {'fontsize': 14}\r\n",
        "\r\n",
        "  ax.set_xticklabels([''] + sentence, fontdict=fontdict, rotation=90)\r\n",
        "  ax.set_yticklabels([''] + predicted_sentence, fontdict=fontdict)\r\n",
        "\r\n",
        "  ax.xaxis.set_major_locator(ticker.MultipleLocator(1))\r\n",
        "  ax.yaxis.set_major_locator(ticker.MultipleLocator(1))\r\n",
        "\r\n",
        "  plt.show()"
      ],
      "execution_count": 57,
      "outputs": []
    },
    {
      "cell_type": "code",
      "metadata": {
        "id": "szJJiPH9dGuX"
      },
      "source": [
        "def translate(sentence):\r\n",
        "  result, sentence, attention_plot = evaluate(sentence)\r\n",
        "\r\n",
        "  print('Input: %s' % (sentence))\r\n",
        "  print('Predicted translation: {}'.format(result))\r\n",
        "\r\n",
        "  attention_plot = attention_plot[:len(result.split(' ')), :len(sentence.split(' '))]\r\n",
        "  plot_attention(attention_plot, sentence.split(' '), result.split(' '))"
      ],
      "execution_count": 58,
      "outputs": []
    },
    {
      "cell_type": "code",
      "metadata": {
        "colab": {
          "base_uri": "https://localhost:8080/"
        },
        "id": "qH73jBjkdGuX",
        "outputId": "b63bdcf4-10e5-4a53-e85a-6b0d29afc2aa"
      },
      "source": [
        "# restoring the latest checkpoint in checkpoint_dir\r\n",
        "checkpoint.restore(tf.train.latest_checkpoint(checkpoint_dir))"
      ],
      "execution_count": 59,
      "outputs": [
        {
          "output_type": "execute_result",
          "data": {
            "text/plain": [
              "<tensorflow.python.training.tracking.util.CheckpointLoadStatus at 0x7fb847991470>"
            ]
          },
          "metadata": {
            "tags": []
          },
          "execution_count": 59
        }
      ]
    },
    {
      "cell_type": "code",
      "metadata": {
        "colab": {
          "base_uri": "https://localhost:8080/",
          "height": 1000
        },
        "id": "9a6sZMpBdGuX",
        "outputId": "d9e91759-5417-4b84-d355-5405e3d15b55"
      },
      "source": [
        "translate(u'बहुत बढ़िया!')"
      ],
      "execution_count": 60,
      "outputs": [
        {
          "output_type": "stream",
          "text": [
            "Input: <start> बहत बढिया ! <end>\n",
            "Predicted translation: happy ! <end> \n"
          ],
          "name": "stdout"
        },
        {
          "output_type": "stream",
          "text": [
            "/usr/local/lib/python3.6/dist-packages/matplotlib/backends/backend_agg.py:214: RuntimeWarning: Glyph 2348 missing from current font.\n",
            "  font.set_text(s, 0.0, flags=flags)\n",
            "/usr/local/lib/python3.6/dist-packages/matplotlib/backends/backend_agg.py:214: RuntimeWarning: Glyph 2361 missing from current font.\n",
            "  font.set_text(s, 0.0, flags=flags)\n",
            "/usr/local/lib/python3.6/dist-packages/matplotlib/backends/backend_agg.py:214: RuntimeWarning: Glyph 2340 missing from current font.\n",
            "  font.set_text(s, 0.0, flags=flags)\n",
            "/usr/local/lib/python3.6/dist-packages/matplotlib/backends/backend_agg.py:214: RuntimeWarning: Glyph 2338 missing from current font.\n",
            "  font.set_text(s, 0.0, flags=flags)\n",
            "/usr/local/lib/python3.6/dist-packages/matplotlib/backends/backend_agg.py:214: RuntimeWarning: Glyph 2367 missing from current font.\n",
            "  font.set_text(s, 0.0, flags=flags)\n",
            "/usr/local/lib/python3.6/dist-packages/matplotlib/backends/backend_agg.py:214: RuntimeWarning: Glyph 2351 missing from current font.\n",
            "  font.set_text(s, 0.0, flags=flags)\n",
            "/usr/local/lib/python3.6/dist-packages/matplotlib/backends/backend_agg.py:214: RuntimeWarning: Glyph 2366 missing from current font.\n",
            "  font.set_text(s, 0.0, flags=flags)\n",
            "/usr/local/lib/python3.6/dist-packages/matplotlib/backends/backend_agg.py:183: RuntimeWarning: Glyph 2348 missing from current font.\n",
            "  font.set_text(s, 0, flags=flags)\n",
            "/usr/local/lib/python3.6/dist-packages/matplotlib/backends/backend_agg.py:183: RuntimeWarning: Glyph 2361 missing from current font.\n",
            "  font.set_text(s, 0, flags=flags)\n",
            "/usr/local/lib/python3.6/dist-packages/matplotlib/backends/backend_agg.py:183: RuntimeWarning: Glyph 2340 missing from current font.\n",
            "  font.set_text(s, 0, flags=flags)\n",
            "/usr/local/lib/python3.6/dist-packages/matplotlib/backends/backend_agg.py:183: RuntimeWarning: Glyph 2338 missing from current font.\n",
            "  font.set_text(s, 0, flags=flags)\n",
            "/usr/local/lib/python3.6/dist-packages/matplotlib/backends/backend_agg.py:183: RuntimeWarning: Glyph 2367 missing from current font.\n",
            "  font.set_text(s, 0, flags=flags)\n",
            "/usr/local/lib/python3.6/dist-packages/matplotlib/backends/backend_agg.py:183: RuntimeWarning: Glyph 2351 missing from current font.\n",
            "  font.set_text(s, 0, flags=flags)\n",
            "/usr/local/lib/python3.6/dist-packages/matplotlib/backends/backend_agg.py:183: RuntimeWarning: Glyph 2366 missing from current font.\n",
            "  font.set_text(s, 0, flags=flags)\n"
          ],
          "name": "stderr"
        },
        {
          "output_type": "display_data",
          "data": {
            "image/png": "[encoded data removed]",
            "text/plain": [
              "<Figure size 720x720 with 1 Axes>"
            ]
          },
          "metadata": {
            "tags": [],
            "needs_background": "light"
          }
        }
      ]
    },
    {
      "cell_type": "code",
      "metadata": {
        "colab": {
          "base_uri": "https://localhost:8080/",
          "height": 1000
        },
        "id": "lpb82HCSdGuY",
        "outputId": "71dbb929-b677-4882-e17b-99b6e2d7451f"
      },
      "source": [
        "translate(u'कृपया जाईये।')"
      ],
      "execution_count": 61,
      "outputs": [
        {
          "output_type": "stream",
          "text": [
            "/usr/local/lib/python3.6/dist-packages/matplotlib/backends/backend_agg.py:214: RuntimeWarning: Glyph 2325 missing from current font.\n",
            "  font.set_text(s, 0.0, flags=flags)\n",
            "/usr/local/lib/python3.6/dist-packages/matplotlib/backends/backend_agg.py:214: RuntimeWarning: Glyph 2346 missing from current font.\n",
            "  font.set_text(s, 0.0, flags=flags)\n",
            "/usr/local/lib/python3.6/dist-packages/matplotlib/backends/backend_agg.py:214: RuntimeWarning: Glyph 2351 missing from current font.\n",
            "  font.set_text(s, 0.0, flags=flags)\n",
            "/usr/local/lib/python3.6/dist-packages/matplotlib/backends/backend_agg.py:214: RuntimeWarning: Glyph 2366 missing from current font.\n",
            "  font.set_text(s, 0.0, flags=flags)\n",
            "/usr/local/lib/python3.6/dist-packages/matplotlib/backends/backend_agg.py:214: RuntimeWarning: Glyph 2332 missing from current font.\n",
            "  font.set_text(s, 0.0, flags=flags)\n",
            "/usr/local/lib/python3.6/dist-packages/matplotlib/backends/backend_agg.py:214: RuntimeWarning: Glyph 2312 missing from current font.\n",
            "  font.set_text(s, 0.0, flags=flags)\n",
            "/usr/local/lib/python3.6/dist-packages/matplotlib/backends/backend_agg.py:214: RuntimeWarning: Glyph 2404 missing from current font.\n",
            "  font.set_text(s, 0.0, flags=flags)\n"
          ],
          "name": "stderr"
        },
        {
          "output_type": "stream",
          "text": [
            "Input: <start> कपया जाईय। <end>\n",
            "Predicted translation: please sit . <end> \n"
          ],
          "name": "stdout"
        },
        {
          "output_type": "stream",
          "text": [
            "/usr/local/lib/python3.6/dist-packages/matplotlib/backends/backend_agg.py:183: RuntimeWarning: Glyph 2325 missing from current font.\n",
            "  font.set_text(s, 0, flags=flags)\n",
            "/usr/local/lib/python3.6/dist-packages/matplotlib/backends/backend_agg.py:183: RuntimeWarning: Glyph 2346 missing from current font.\n",
            "  font.set_text(s, 0, flags=flags)\n",
            "/usr/local/lib/python3.6/dist-packages/matplotlib/backends/backend_agg.py:183: RuntimeWarning: Glyph 2351 missing from current font.\n",
            "  font.set_text(s, 0, flags=flags)\n",
            "/usr/local/lib/python3.6/dist-packages/matplotlib/backends/backend_agg.py:183: RuntimeWarning: Glyph 2366 missing from current font.\n",
            "  font.set_text(s, 0, flags=flags)\n",
            "/usr/local/lib/python3.6/dist-packages/matplotlib/backends/backend_agg.py:183: RuntimeWarning: Glyph 2332 missing from current font.\n",
            "  font.set_text(s, 0, flags=flags)\n",
            "/usr/local/lib/python3.6/dist-packages/matplotlib/backends/backend_agg.py:183: RuntimeWarning: Glyph 2312 missing from current font.\n",
            "  font.set_text(s, 0, flags=flags)\n",
            "/usr/local/lib/python3.6/dist-packages/matplotlib/backends/backend_agg.py:183: RuntimeWarning: Glyph 2404 missing from current font.\n",
            "  font.set_text(s, 0, flags=flags)\n"
          ],
          "name": "stderr"
        },
        {
          "output_type": "display_data",
          "data": {
            "image/png": "[encoded data removed]",
            "text/plain": [
              "<Figure size 720x720 with 1 Axes>"
            ]
          },
          "metadata": {
            "tags": [],
            "needs_background": "light"
          }
        }
      ]
    },
    {
      "cell_type": "markdown",
      "metadata": {
        "id": "72xxkA9fdcIe"
      },
      "source": [
        "Do you think that the model attends to the correct tokens in the input language (if you understand both languages)?\r\n",
        "\r\n",
        "For few of them\r\n",
        "\r\n",
        "Do you see qualitative differences in the attention weights between different attention mechanisms?\r\n",
        "\r\n"
      ]
    },
    {
      "cell_type": "markdown",
      "metadata": {
        "id": "LG4Ze5_Adrrt"
      },
      "source": [
        ""
      ]
    },
    {
      "cell_type": "markdown",
      "metadata": {
        "id": "aPamtqp5M8Vi"
      },
      "source": [
        "Questions-\r\n",
        "\r\n",
        "Which parts of the sentence are used as a token? Each character, each word, or are some words split up?\r\n",
        "Answer - - Each word\r\n",
        "\r\n",
        "Do the same tokens in different language have the same ID?\r\n",
        "e.g. Would the same token index map to the German word die and to the English word die?\r\n",
        "Answer - No\r\n",
        "\r\n",
        "What is the relation between the encoder output and the encoder hidden state which is used to initialize the decoder hidden state (for the architecture used in the tutorial)?\r\n",
        "Hidden states along with encoder output are used to calculate scores \r\n",
        "\r\n",
        "Is the decoder attending to all previous positions, including the previous decoder predictions?\r\n",
        "Yep\r\n",
        "\r\n",
        "Does the Encoder output change in different decoding steps?\r\n",
        "No\r\n",
        "\r\n",
        "Does the context vector change in different decoding steps?\r\n",
        "yes based on query\r\n",
        "\r\n",
        "The decoder uses teacher forcing. Does this mean the time steps can be computed in parallel?\r\n",
        "Answer - Can be, but predcition word depends on the previous word so might not be a good way\r\n",
        "\r\n",
        "Why is a mask applied to the loss function?\r\n",
        "Answer - because its padded sequence and we don't want loss over padded sequence"
      ]
    },
    {
      "cell_type": "code",
      "metadata": {
        "id": "qQsNQhe1drQg"
      },
      "source": [
        ""
      ],
      "execution_count": null,
      "outputs": []
    }
  ]
}