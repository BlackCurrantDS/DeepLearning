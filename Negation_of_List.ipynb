{
  "nbformat": 4,
  "nbformat_minor": 0,
  "metadata": {
    "colab": {
      "name": "Negation_of_List.ipynb",
      "provenance": [],
      "authorship_tag": "ABX9TyNIhW0pxAXonny9AQL9aSd/",
      "include_colab_link": true
    },
    "kernelspec": {
      "name": "python3",
      "display_name": "Python 3"
    }
  },
  "cells": [
    {
      "cell_type": "markdown",
      "metadata": {
        "id": "view-in-github",
        "colab_type": "text"
      },
      "source": [
        "<a href=\"https://colab.research.google.com/github/BlackCurrantDS/DeepLearning/blob/main/Negation_of_List.ipynb\" target=\"_parent\"><img src=\"https://colab.research.google.com/assets/colab-badge.svg\" alt=\"Open In Colab\"/></a>"
      ]
    },
    {
      "cell_type": "code",
      "metadata": {
        "id": "Inz1Fkkft3Nh"
      },
      "source": [
        "ls = [1,2,3,4,5]"
      ],
      "execution_count": null,
      "outputs": []
    },
    {
      "cell_type": "code",
      "metadata": {
        "id": "DkGkF-mpuaK2"
      },
      "source": [
        "a = [2,3]\r\n"
      ],
      "execution_count": null,
      "outputs": []
    },
    {
      "cell_type": "code",
      "metadata": {
        "id": "BisUe6IgvO4A"
      },
      "source": [
        "L = [1,2,3,4,5]"
      ],
      "execution_count": null,
      "outputs": []
    },
    {
      "cell_type": "code",
      "metadata": {
        "colab": {
          "base_uri": "https://localhost:8080/"
        },
        "id": "MSqCw9ZGviIM",
        "outputId": "7bb10b9c-3fb6-4e78-b611-cbd454935687"
      },
      "source": [
        "list(set(L) - set(a))"
      ],
      "execution_count": null,
      "outputs": [
        {
          "output_type": "execute_result",
          "data": {
            "text/plain": [
              "[1, 4, 5]"
            ]
          },
          "metadata": {
            "tags": []
          },
          "execution_count": 12
        }
      ]
    },
    {
      "cell_type": "markdown",
      "metadata": {
        "id": "WgdbzmAIvYf2"
      },
      "source": [
        "#Load the training data"
      ]
    },
    {
      "cell_type": "code",
      "metadata": {
        "id": "UqPFumu8va1E"
      },
      "source": [
        "import pandas as pd\r\n",
        "df = pd.read_csv('/content/breast_train_transactions.txt', header = None, sep=\",\" , names=['a','b','c', 'd', 'e', 'f','g', 'h', 'i', 'k'])"
      ],
      "execution_count": 35,
      "outputs": []
    },
    {
      "cell_type": "code",
      "metadata": {
        "colab": {
          "base_uri": "https://localhost:8080/",
          "height": 195
        },
        "id": "h2bpjUt4vzdf",
        "outputId": "7c3770c8-171f-4646-94e3-73cb01ad004c"
      },
      "source": [
        "df.head(5)"
      ],
      "execution_count": 36,
      "outputs": [
        {
          "output_type": "execute_result",
          "data": {
            "text/html": [
              "<div>\n",
              "<style scoped>\n",
              "    .dataframe tbody tr th:only-of-type {\n",
              "        vertical-align: middle;\n",
              "    }\n",
              "\n",
              "    .dataframe tbody tr th {\n",
              "        vertical-align: top;\n",
              "    }\n",
              "\n",
              "    .dataframe thead th {\n",
              "        text-align: right;\n",
              "    }\n",
              "</style>\n",
              "<table border=\"1\" class=\"dataframe\">\n",
              "  <thead>\n",
              "    <tr style=\"text-align: right;\">\n",
              "      <th></th>\n",
              "      <th>a</th>\n",
              "      <th>b</th>\n",
              "      <th>c</th>\n",
              "      <th>d</th>\n",
              "      <th>e</th>\n",
              "      <th>f</th>\n",
              "      <th>g</th>\n",
              "      <th>h</th>\n",
              "      <th>i</th>\n",
              "      <th>k</th>\n",
              "    </tr>\n",
              "  </thead>\n",
              "  <tbody>\n",
              "    <tr>\n",
              "      <th>0</th>\n",
              "      <td>class@no</td>\n",
              "      <td>a1@30-39</td>\n",
              "      <td>a2@premeno</td>\n",
              "      <td>a3@30-34</td>\n",
              "      <td>a4@0-2</td>\n",
              "      <td>a5@no</td>\n",
              "      <td>a6@3</td>\n",
              "      <td>a7@left</td>\n",
              "      <td>a8@left_low</td>\n",
              "      <td>a9@no</td>\n",
              "    </tr>\n",
              "    <tr>\n",
              "      <th>1</th>\n",
              "      <td>class@no</td>\n",
              "      <td>a1@40-49</td>\n",
              "      <td>a2@premeno</td>\n",
              "      <td>a3@20-24</td>\n",
              "      <td>a4@0-2</td>\n",
              "      <td>a5@no</td>\n",
              "      <td>a6@2</td>\n",
              "      <td>a7@right</td>\n",
              "      <td>a8@right_up</td>\n",
              "      <td>a9@no</td>\n",
              "    </tr>\n",
              "    <tr>\n",
              "      <th>2</th>\n",
              "      <td>class@no</td>\n",
              "      <td>a1@40-49</td>\n",
              "      <td>a2@premeno</td>\n",
              "      <td>a3@20-24</td>\n",
              "      <td>a4@0-2</td>\n",
              "      <td>a5@no</td>\n",
              "      <td>a6@2</td>\n",
              "      <td>a7@left</td>\n",
              "      <td>a8@left_low</td>\n",
              "      <td>a9@no</td>\n",
              "    </tr>\n",
              "    <tr>\n",
              "      <th>3</th>\n",
              "      <td>class@no</td>\n",
              "      <td>a1@60-69</td>\n",
              "      <td>a2@ge40</td>\n",
              "      <td>a3@15-19</td>\n",
              "      <td>a4@0-2</td>\n",
              "      <td>a5@no</td>\n",
              "      <td>a6@2</td>\n",
              "      <td>a7@right</td>\n",
              "      <td>a8@left_up</td>\n",
              "      <td>a9@no</td>\n",
              "    </tr>\n",
              "    <tr>\n",
              "      <th>4</th>\n",
              "      <td>class@no</td>\n",
              "      <td>a1@40-49</td>\n",
              "      <td>a2@premeno</td>\n",
              "      <td>a3@0-4</td>\n",
              "      <td>a4@0-2</td>\n",
              "      <td>a5@no</td>\n",
              "      <td>a6@2</td>\n",
              "      <td>a7@right</td>\n",
              "      <td>a8@right_low</td>\n",
              "      <td>a9@no</td>\n",
              "    </tr>\n",
              "  </tbody>\n",
              "</table>\n",
              "</div>"
            ],
            "text/plain": [
              "          a         b           c  ...         h             i      k\n",
              "0  class@no  a1@30-39  a2@premeno  ...   a7@left   a8@left_low  a9@no\n",
              "1  class@no  a1@40-49  a2@premeno  ...  a7@right   a8@right_up  a9@no\n",
              "2  class@no  a1@40-49  a2@premeno  ...   a7@left   a8@left_low  a9@no\n",
              "3  class@no  a1@60-69     a2@ge40  ...  a7@right    a8@left_up  a9@no\n",
              "4  class@no  a1@40-49  a2@premeno  ...  a7@right  a8@right_low  a9@no\n",
              "\n",
              "[5 rows x 10 columns]"
            ]
          },
          "metadata": {
            "tags": []
          },
          "execution_count": 36
        }
      ]
    },
    {
      "cell_type": "code",
      "metadata": {
        "colab": {
          "base_uri": "https://localhost:8080/"
        },
        "id": "uI6seqjRwlE9",
        "outputId": "0506b218-0960-44e0-e384-c5ca078c741f"
      },
      "source": [
        "#get all unique values in a list\r\n",
        "big_list = []\r\n",
        "big_list = (df['a'].append(df['b'])).unique()\r\n",
        "big_list"
      ],
      "execution_count": 37,
      "outputs": [
        {
          "output_type": "execute_result",
          "data": {
            "text/plain": [
              "array(['class@no', 'class@yes', 'a1@30-39', 'a1@40-49', 'a1@60-69',\n",
              "       'a1@50-59', 'a1@70-79'], dtype=object)"
            ]
          },
          "metadata": {
            "tags": []
          },
          "execution_count": 37
        }
      ]
    },
    {
      "cell_type": "code",
      "metadata": {
        "id": "DCOrREhGypxX"
      },
      "source": [
        "big_list =[]\r\n",
        "for column in df:\r\n",
        "  big_list.append(df[column].unique())"
      ],
      "execution_count": 38,
      "outputs": []
    },
    {
      "cell_type": "code",
      "metadata": {
        "colab": {
          "base_uri": "https://localhost:8080/"
        },
        "id": "NrzYNd5wy0cn",
        "outputId": "33e39d3e-f612-4194-b8b2-29890db48f09"
      },
      "source": [
        "big_list"
      ],
      "execution_count": 39,
      "outputs": [
        {
          "output_type": "execute_result",
          "data": {
            "text/plain": [
              "[array(['class@no', 'class@yes'], dtype=object),\n",
              " array(['a1@30-39', 'a1@40-49', 'a1@60-69', 'a1@50-59', 'a1@70-79'],\n",
              "       dtype=object),\n",
              " array(['a2@premeno', 'a2@ge40', 'a2@lt40'], dtype=object),\n",
              " array(['a3@30-34', 'a3@20-24', 'a3@15-19', 'a3@0-4', 'a3@25-29',\n",
              "        'a3@50-54', 'a3@10-14', 'a3@40-44', 'a3@35-39', 'a3@5-9',\n",
              "        'a3@45-49'], dtype=object),\n",
              " array(['a4@0-2', 'a4@6-8', 'a4@9-11', 'a4@3-5', 'a4@15-17', 'a4@12-14',\n",
              "        'a4@24-26'], dtype=object),\n",
              " array(['a5@no', 'a5@yes', 'a5@?'], dtype=object),\n",
              " array(['a6@3', 'a6@2', 'a6@1'], dtype=object),\n",
              " array(['a7@left', 'a7@right'], dtype=object),\n",
              " array(['a8@left_low', 'a8@right_up', 'a8@left_up', 'a8@right_low',\n",
              "        'a8@central', 'a8@?'], dtype=object),\n",
              " array(['a9@no', 'a9@yes'], dtype=object)]"
            ]
          },
          "metadata": {
            "tags": []
          },
          "execution_count": 39
        }
      ]
    },
    {
      "cell_type": "code",
      "metadata": {
        "colab": {
          "base_uri": "https://localhost:8080/"
        },
        "id": "suXXkctMzgGu",
        "outputId": "dd33b9c3-9b6f-4438-b426-ee52166d2c8a"
      },
      "source": [
        "len(big_list)"
      ],
      "execution_count": 40,
      "outputs": [
        {
          "output_type": "execute_result",
          "data": {
            "text/plain": [
              "10"
            ]
          },
          "metadata": {
            "tags": []
          },
          "execution_count": 40
        }
      ]
    },
    {
      "cell_type": "code",
      "metadata": {
        "id": "mKWuZUcV0ABW"
      },
      "source": [
        "new_list = list(map(list,big_list))"
      ],
      "execution_count": 41,
      "outputs": []
    },
    {
      "cell_type": "code",
      "metadata": {
        "colab": {
          "base_uri": "https://localhost:8080/"
        },
        "id": "E9bfINGd0CpQ",
        "outputId": "fee63784-ce71-4e15-e58c-b6954f967a82"
      },
      "source": [
        "new_list"
      ],
      "execution_count": 42,
      "outputs": [
        {
          "output_type": "execute_result",
          "data": {
            "text/plain": [
              "[['class@no', 'class@yes'],\n",
              " ['a1@30-39', 'a1@40-49', 'a1@60-69', 'a1@50-59', 'a1@70-79'],\n",
              " ['a2@premeno', 'a2@ge40', 'a2@lt40'],\n",
              " ['a3@30-34',\n",
              "  'a3@20-24',\n",
              "  'a3@15-19',\n",
              "  'a3@0-4',\n",
              "  'a3@25-29',\n",
              "  'a3@50-54',\n",
              "  'a3@10-14',\n",
              "  'a3@40-44',\n",
              "  'a3@35-39',\n",
              "  'a3@5-9',\n",
              "  'a3@45-49'],\n",
              " ['a4@0-2', 'a4@6-8', 'a4@9-11', 'a4@3-5', 'a4@15-17', 'a4@12-14', 'a4@24-26'],\n",
              " ['a5@no', 'a5@yes', 'a5@?'],\n",
              " ['a6@3', 'a6@2', 'a6@1'],\n",
              " ['a7@left', 'a7@right'],\n",
              " ['a8@left_low',\n",
              "  'a8@right_up',\n",
              "  'a8@left_up',\n",
              "  'a8@right_low',\n",
              "  'a8@central',\n",
              "  'a8@?'],\n",
              " ['a9@no', 'a9@yes']]"
            ]
          },
          "metadata": {
            "tags": []
          },
          "execution_count": 42
        }
      ]
    },
    {
      "cell_type": "code",
      "metadata": {
        "id": "_BEPTjUr0V12"
      },
      "source": [
        "from pandas.core.common import flatten\r\n"
      ],
      "execution_count": 43,
      "outputs": []
    },
    {
      "cell_type": "code",
      "metadata": {
        "colab": {
          "base_uri": "https://localhost:8080/"
        },
        "id": "uwTc9y8n0Z7u",
        "outputId": "b410540c-ea38-4b32-ec0b-dced2bf72c13"
      },
      "source": [
        "u_list = list(flatten(new_list))"
      ],
      "execution_count": 45,
      "outputs": [
        {
          "output_type": "execute_result",
          "data": {
            "text/plain": [
              "['class@no',\n",
              " 'class@yes',\n",
              " 'a1@30-39',\n",
              " 'a1@40-49',\n",
              " 'a1@60-69',\n",
              " 'a1@50-59',\n",
              " 'a1@70-79',\n",
              " 'a2@premeno',\n",
              " 'a2@ge40',\n",
              " 'a2@lt40',\n",
              " 'a3@30-34',\n",
              " 'a3@20-24',\n",
              " 'a3@15-19',\n",
              " 'a3@0-4',\n",
              " 'a3@25-29',\n",
              " 'a3@50-54',\n",
              " 'a3@10-14',\n",
              " 'a3@40-44',\n",
              " 'a3@35-39',\n",
              " 'a3@5-9',\n",
              " 'a3@45-49',\n",
              " 'a4@0-2',\n",
              " 'a4@6-8',\n",
              " 'a4@9-11',\n",
              " 'a4@3-5',\n",
              " 'a4@15-17',\n",
              " 'a4@12-14',\n",
              " 'a4@24-26',\n",
              " 'a5@no',\n",
              " 'a5@yes',\n",
              " 'a5@?',\n",
              " 'a6@3',\n",
              " 'a6@2',\n",
              " 'a6@1',\n",
              " 'a7@left',\n",
              " 'a7@right',\n",
              " 'a8@left_low',\n",
              " 'a8@right_up',\n",
              " 'a8@left_up',\n",
              " 'a8@right_low',\n",
              " 'a8@central',\n",
              " 'a8@?',\n",
              " 'a9@no',\n",
              " 'a9@yes']"
            ]
          },
          "metadata": {
            "tags": []
          },
          "execution_count": 45
        }
      ]
    },
    {
      "cell_type": "code",
      "metadata": {
        "id": "3L6qUdkbKEPJ"
      },
      "source": [
        "u_list = list(flatten(new_list))"
      ],
      "execution_count": 46,
      "outputs": []
    },
    {
      "cell_type": "code",
      "metadata": {
        "id": "zn6O0U3zJPGJ"
      },
      "source": [
        "#now creat negative item set"
      ],
      "execution_count": null,
      "outputs": []
    },
    {
      "cell_type": "code",
      "metadata": {
        "id": "Cc1Ll5fvJTMB"
      },
      "source": [
        "neg_df = df.apply(lambda x: (set(u_list) - set(x)), axis=1)"
      ],
      "execution_count": 60,
      "outputs": []
    },
    {
      "cell_type": "code",
      "metadata": {
        "id": "Iw4DEtJXKqvy"
      },
      "source": [
        "neg_df.to_csv(\"neg_data.txt\")"
      ],
      "execution_count": 56,
      "outputs": []
    },
    {
      "cell_type": "code",
      "metadata": {
        "colab": {
          "base_uri": "https://localhost:8080/"
        },
        "id": "hHOY2XBgKV5Z",
        "outputId": "3600590a-452f-4fcd-9ccf-4efcaac6732d"
      },
      "source": [
        "type(neg_df)"
      ],
      "execution_count": 53,
      "outputs": [
        {
          "output_type": "execute_result",
          "data": {
            "text/plain": [
              "pandas.core.series.Series"
            ]
          },
          "metadata": {
            "tags": []
          },
          "execution_count": 53
        }
      ]
    },
    {
      "cell_type": "code",
      "metadata": {
        "colab": {
          "base_uri": "https://localhost:8080/",
          "height": 402
        },
        "id": "8dbr3WzOKZM6",
        "outputId": "41d8a134-0433-4b6b-c0d8-bdd350c5072c"
      },
      "source": [
        "neg_df.to_frame()"
      ],
      "execution_count": 61,
      "outputs": [
        {
          "output_type": "execute_result",
          "data": {
            "text/html": [
              "<div>\n",
              "<style scoped>\n",
              "    .dataframe tbody tr th:only-of-type {\n",
              "        vertical-align: middle;\n",
              "    }\n",
              "\n",
              "    .dataframe tbody tr th {\n",
              "        vertical-align: top;\n",
              "    }\n",
              "\n",
              "    .dataframe thead th {\n",
              "        text-align: right;\n",
              "    }\n",
              "</style>\n",
              "<table border=\"1\" class=\"dataframe\">\n",
              "  <thead>\n",
              "    <tr style=\"text-align: right;\">\n",
              "      <th></th>\n",
              "      <th>0</th>\n",
              "    </tr>\n",
              "  </thead>\n",
              "  <tbody>\n",
              "    <tr>\n",
              "      <th>0</th>\n",
              "      <td>{a8@central, a8@?, a1@40-49, class@yes, a3@5-9...</td>\n",
              "    </tr>\n",
              "    <tr>\n",
              "      <th>1</th>\n",
              "      <td>{a8@central, a8@?, class@yes, a3@5-9, a3@15-19...</td>\n",
              "    </tr>\n",
              "    <tr>\n",
              "      <th>2</th>\n",
              "      <td>{a8@central, a8@?, class@yes, a3@5-9, a3@15-19...</td>\n",
              "    </tr>\n",
              "    <tr>\n",
              "      <th>3</th>\n",
              "      <td>{a8@central, a8@?, a2@premeno, a1@40-49, class...</td>\n",
              "    </tr>\n",
              "    <tr>\n",
              "      <th>4</th>\n",
              "      <td>{a8@central, a8@?, class@yes, a3@5-9, a3@15-19...</td>\n",
              "    </tr>\n",
              "    <tr>\n",
              "      <th>...</th>\n",
              "      <td>...</td>\n",
              "    </tr>\n",
              "    <tr>\n",
              "      <th>235</th>\n",
              "      <td>{a8@central, a8@?, a1@40-49, a3@5-9, a3@15-19,...</td>\n",
              "    </tr>\n",
              "    <tr>\n",
              "      <th>236</th>\n",
              "      <td>{a8@central, a8@?, a1@40-49, a3@5-9, a3@15-19,...</td>\n",
              "    </tr>\n",
              "    <tr>\n",
              "      <th>237</th>\n",
              "      <td>{a8@central, a8@?, a1@40-49, a3@5-9, a3@15-19,...</td>\n",
              "    </tr>\n",
              "    <tr>\n",
              "      <th>238</th>\n",
              "      <td>{a8@central, a8@?, a2@premeno, a3@5-9, a3@15-1...</td>\n",
              "    </tr>\n",
              "    <tr>\n",
              "      <th>239</th>\n",
              "      <td>{a8@central, a8@?, a2@premeno, a1@40-49, a3@5-...</td>\n",
              "    </tr>\n",
              "  </tbody>\n",
              "</table>\n",
              "<p>240 rows × 1 columns</p>\n",
              "</div>"
            ],
            "text/plain": [
              "                                                     0\n",
              "0    {a8@central, a8@?, a1@40-49, class@yes, a3@5-9...\n",
              "1    {a8@central, a8@?, class@yes, a3@5-9, a3@15-19...\n",
              "2    {a8@central, a8@?, class@yes, a3@5-9, a3@15-19...\n",
              "3    {a8@central, a8@?, a2@premeno, a1@40-49, class...\n",
              "4    {a8@central, a8@?, class@yes, a3@5-9, a3@15-19...\n",
              "..                                                 ...\n",
              "235  {a8@central, a8@?, a1@40-49, a3@5-9, a3@15-19,...\n",
              "236  {a8@central, a8@?, a1@40-49, a3@5-9, a3@15-19,...\n",
              "237  {a8@central, a8@?, a1@40-49, a3@5-9, a3@15-19,...\n",
              "238  {a8@central, a8@?, a2@premeno, a3@5-9, a3@15-1...\n",
              "239  {a8@central, a8@?, a2@premeno, a1@40-49, a3@5-...\n",
              "\n",
              "[240 rows x 1 columns]"
            ]
          },
          "metadata": {
            "tags": []
          },
          "execution_count": 61
        }
      ]
    },
    {
      "cell_type": "code",
      "metadata": {
        "colab": {
          "base_uri": "https://localhost:8080/"
        },
        "id": "A4SjgHGMKHkB",
        "outputId": "c3ed8066-b2f2-46df-849e-fbfcb970e97f"
      },
      "source": [
        "neg_df.head(4)"
      ],
      "execution_count": 62,
      "outputs": [
        {
          "output_type": "execute_result",
          "data": {
            "text/plain": [
              "0    {a8@central, a8@?, a1@40-49, class@yes, a3@5-9...\n",
              "1    {a8@central, a8@?, class@yes, a3@5-9, a3@15-19...\n",
              "2    {a8@central, a8@?, class@yes, a3@5-9, a3@15-19...\n",
              "3    {a8@central, a8@?, a2@premeno, a1@40-49, class...\n",
              "dtype: object"
            ]
          },
          "metadata": {
            "tags": []
          },
          "execution_count": 62
        }
      ]
    },
    {
      "cell_type": "code",
      "metadata": {
        "id": "ZQb46DUWLcX6"
      },
      "source": [
        "neg_df.to_csv(\"neg_data.txt\")"
      ],
      "execution_count": 64,
      "outputs": []
    }
  ]
}