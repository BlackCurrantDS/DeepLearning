{
  "nbformat": 4,
  "nbformat_minor": 0,
  "metadata": {
    "colab": {
      "name": "IDL_Assignment9.ipynb",
      "provenance": [],
      "authorship_tag": "ABX9TyP8fMSFTDHmmpr6KqGW18xc",
      "include_colab_link": true
    },
    "kernelspec": {
      "name": "python3",
      "display_name": "Python 3"
    }
  },
  "cells": [
    {
      "cell_type": "markdown",
      "metadata": {
        "id": "view-in-github",
        "colab_type": "text"
      },
      "source": [
        "<a href=\"https://colab.research.google.com/github/BlackCurrantDS/DeepLearning/blob/main/IDL_Assignment9.ipynb\" target=\"_parent\"><img src=\"https://colab.research.google.com/assets/colab-badge.svg\" alt=\"Open In Colab\"/></a>"
      ]
    },
    {
      "cell_type": "markdown",
      "metadata": {
        "id": "1EHEfjFZaNTE"
      },
      "source": [
        "References- \r\n",
        "\r\n",
        "https://medium.com/@ml.at.berkeley/tricking-neural-networks-create-your-own-adversarial-examples-a61eb7620fd8\r\n",
        "\r\n",
        "https://adversarial-ml-tutorial.org/adversarial_examples/\r\n",
        "\r\n",
        "https://harvard-iacs.github.io/2019-CS109B/lecture/lab21/AdversarialNN/\r\n",
        "\r\n",
        "https://adversarial-ml-tutorial.org/adversarial_examples/\r\n",
        "\r\n",
        "https://medium.com/analytics-vidhya/implementing-adversarial-attacks-and-defenses-in-keras-tensorflow-2-0-cab6120c5715"
      ]
    },
    {
      "cell_type": "markdown",
      "metadata": {
        "id": "nm-fioNIaaZX"
      },
      "source": [
        "Targeted - adding carefully nosie despite looking same to human\r\n",
        "non-targated- find any input which tricks model"
      ]
    },
    {
      "cell_type": "code",
      "metadata": {
        "colab": {
          "base_uri": "https://localhost:8080/"
        },
        "id": "_u2IzZkrXaNa",
        "outputId": "fe6af850-faa3-4abf-d29c-55a492e749ab"
      },
      "source": [
        "# TensorFlow and tf.keras\r\n",
        "import tensorflow as tf\r\n",
        "\r\n",
        "# Helper libraries\r\n",
        "import numpy as np\r\n",
        "import matplotlib.pyplot as plt\r\n",
        "\r\n",
        "print(tf.__version__)"
      ],
      "execution_count": 190,
      "outputs": [
        {
          "output_type": "stream",
          "text": [
            "2.4.0\n"
          ],
          "name": "stdout"
        }
      ]
    },
    {
      "cell_type": "code",
      "metadata": {
        "id": "OJFb9pqIXcyq"
      },
      "source": [
        "fashion_mnist = tf.keras.datasets.fashion_mnist\r\n",
        "\r\n",
        "(train_images, train_labels), (test_images, test_labels) = fashion_mnist.load_data()"
      ],
      "execution_count": 191,
      "outputs": []
    },
    {
      "cell_type": "code",
      "metadata": {
        "id": "_yD8QOmOXfV5"
      },
      "source": [
        "class_names = ['T-shirt/top', 'Trouser', 'Pullover', 'Dress', 'Coat',\r\n",
        "               'Sandal', 'Shirt', 'Sneaker', 'Bag', 'Ankle boot']"
      ],
      "execution_count": 192,
      "outputs": []
    },
    {
      "cell_type": "code",
      "metadata": {
        "colab": {
          "base_uri": "https://localhost:8080/"
        },
        "id": "MeeAfyKqXhYh",
        "outputId": "64380de6-751e-410f-8f35-fd25f0f3a6f7"
      },
      "source": [
        "train_images.shape"
      ],
      "execution_count": 193,
      "outputs": [
        {
          "output_type": "execute_result",
          "data": {
            "text/plain": [
              "(60000, 28, 28)"
            ]
          },
          "metadata": {
            "tags": []
          },
          "execution_count": 193
        }
      ]
    },
    {
      "cell_type": "code",
      "metadata": {
        "colab": {
          "base_uri": "https://localhost:8080/"
        },
        "id": "-L4X_k0bXigz",
        "outputId": "bb23f640-6de4-4d82-8a25-cb8cf576a747"
      },
      "source": [
        "len(train_labels)"
      ],
      "execution_count": 194,
      "outputs": [
        {
          "output_type": "execute_result",
          "data": {
            "text/plain": [
              "60000"
            ]
          },
          "metadata": {
            "tags": []
          },
          "execution_count": 194
        }
      ]
    },
    {
      "cell_type": "code",
      "metadata": {
        "colab": {
          "base_uri": "https://localhost:8080/"
        },
        "id": "qZn5LF1lXkLp",
        "outputId": "51988274-5329-48a0-f203-a5494524bb7b"
      },
      "source": [
        "train_labels"
      ],
      "execution_count": 195,
      "outputs": [
        {
          "output_type": "execute_result",
          "data": {
            "text/plain": [
              "array([9, 0, 0, ..., 3, 0, 5], dtype=uint8)"
            ]
          },
          "metadata": {
            "tags": []
          },
          "execution_count": 195
        }
      ]
    },
    {
      "cell_type": "code",
      "metadata": {
        "colab": {
          "base_uri": "https://localhost:8080/"
        },
        "id": "YC76-RIvXmOJ",
        "outputId": "fc67bb8a-7846-4124-c00f-ddcdf65aa2c5"
      },
      "source": [
        "test_images.shape"
      ],
      "execution_count": 196,
      "outputs": [
        {
          "output_type": "execute_result",
          "data": {
            "text/plain": [
              "(10000, 28, 28)"
            ]
          },
          "metadata": {
            "tags": []
          },
          "execution_count": 196
        }
      ]
    },
    {
      "cell_type": "code",
      "metadata": {
        "colab": {
          "base_uri": "https://localhost:8080/"
        },
        "id": "zTGvztbYXncJ",
        "outputId": "d37c38cf-bfab-4d36-dc76-d97665d64e47"
      },
      "source": [
        "len(test_labels)"
      ],
      "execution_count": 197,
      "outputs": [
        {
          "output_type": "execute_result",
          "data": {
            "text/plain": [
              "10000"
            ]
          },
          "metadata": {
            "tags": []
          },
          "execution_count": 197
        }
      ]
    },
    {
      "cell_type": "code",
      "metadata": {
        "colab": {
          "base_uri": "https://localhost:8080/",
          "height": 265
        },
        "id": "UbMyw3BCXpN5",
        "outputId": "c414fc48-bc77-4fc0-c330-32d44744b40b"
      },
      "source": [
        "plt.figure()\r\n",
        "plt.imshow(train_images[0])\r\n",
        "plt.colorbar()\r\n",
        "plt.grid(False)\r\n",
        "plt.show()"
      ],
      "execution_count": 198,
      "outputs": [
        {
          "output_type": "display_data",
          "data": {
            "image/png": "[encoded data removed]",
            "text/plain": [
              "<Figure size 432x288 with 2 Axes>"
            ]
          },
          "metadata": {
            "tags": [],
            "needs_background": "light"
          }
        }
      ]
    },
    {
      "cell_type": "code",
      "metadata": {
        "id": "2Y4bTJGbXqzQ"
      },
      "source": [
        "train_images = train_images / 255.0\r\n",
        "\r\n",
        "test_images = test_images / 255.0"
      ],
      "execution_count": 199,
      "outputs": []
    },
    {
      "cell_type": "code",
      "metadata": {
        "colab": {
          "base_uri": "https://localhost:8080/",
          "height": 589
        },
        "id": "kOVCNXQEXsXZ",
        "outputId": "d1399a6e-bbf1-44f0-b24b-d6ed373045f2"
      },
      "source": [
        "plt.figure(figsize=(10,10))\r\n",
        "for i in range(25):\r\n",
        "    plt.subplot(5,5,i+1)\r\n",
        "    plt.xticks([])\r\n",
        "    plt.yticks([])\r\n",
        "    plt.grid(False)\r\n",
        "    plt.imshow(train_images[i], cmap=plt.cm.binary)\r\n",
        "    plt.xlabel(class_names[train_labels[i]])\r\n",
        "plt.show()"
      ],
      "execution_count": 200,
      "outputs": [
        {
          "output_type": "display_data",
          "data": {
            "image/png": "[encoded data removed]",
            "text/plain": [
              "<Figure size 720x720 with 25 Axes>"
            ]
          },
          "metadata": {
            "tags": []
          }
        }
      ]
    },
    {
      "cell_type": "code",
      "metadata": {
        "id": "QEUnQucfXuFx"
      },
      "source": [
        "model = tf.keras.Sequential([\r\n",
        "    tf.keras.layers.Flatten(input_shape=(28, 28)),\r\n",
        "    tf.keras.layers.Dense(128, activation='relu'),\r\n",
        "    tf.keras.layers.Dense(10)\r\n",
        "])"
      ],
      "execution_count": 201,
      "outputs": []
    },
    {
      "cell_type": "code",
      "metadata": {
        "id": "zovCYYJGXvo5"
      },
      "source": [
        "model.compile(optimizer='adam',\r\n",
        "              loss=tf.keras.losses.SparseCategoricalCrossentropy(from_logits=True),\r\n",
        "              metrics=['accuracy'])"
      ],
      "execution_count": 202,
      "outputs": []
    },
    {
      "cell_type": "code",
      "metadata": {
        "colab": {
          "base_uri": "https://localhost:8080/"
        },
        "id": "cq1zj1jWXxJp",
        "outputId": "5b392e2c-d9c1-4fff-a237-c30738c632c5"
      },
      "source": [
        "model.fit(train_images, train_labels, epochs=10)"
      ],
      "execution_count": 203,
      "outputs": [
        {
          "output_type": "stream",
          "text": [
            "Epoch 1/10\n",
            "1875/1875 [==============================] - 4s 2ms/step - loss: 0.6223 - accuracy: 0.7860\n",
            "Epoch 2/10\n",
            "1875/1875 [==============================] - 3s 2ms/step - loss: 0.3794 - accuracy: 0.8621\n",
            "Epoch 3/10\n",
            "1875/1875 [==============================] - 3s 2ms/step - loss: 0.3414 - accuracy: 0.8768\n",
            "Epoch 4/10\n",
            "1875/1875 [==============================] - 3s 2ms/step - loss: 0.3157 - accuracy: 0.8850\n",
            "Epoch 5/10\n",
            "1875/1875 [==============================] - 3s 2ms/step - loss: 0.2921 - accuracy: 0.8928\n",
            "Epoch 6/10\n",
            "1875/1875 [==============================] - 3s 2ms/step - loss: 0.2775 - accuracy: 0.8982\n",
            "Epoch 7/10\n",
            "1875/1875 [==============================] - 3s 2ms/step - loss: 0.2649 - accuracy: 0.9019\n",
            "Epoch 8/10\n",
            "1875/1875 [==============================] - 3s 2ms/step - loss: 0.2516 - accuracy: 0.9061\n",
            "Epoch 9/10\n",
            "1875/1875 [==============================] - 4s 2ms/step - loss: 0.2460 - accuracy: 0.9093\n",
            "Epoch 10/10\n",
            "1875/1875 [==============================] - 3s 2ms/step - loss: 0.2314 - accuracy: 0.9131\n"
          ],
          "name": "stdout"
        },
        {
          "output_type": "execute_result",
          "data": {
            "text/plain": [
              "<tensorflow.python.keras.callbacks.History at 0x7f3d79cf0b00>"
            ]
          },
          "metadata": {
            "tags": []
          },
          "execution_count": 203
        }
      ]
    },
    {
      "cell_type": "code",
      "metadata": {
        "colab": {
          "base_uri": "https://localhost:8080/"
        },
        "id": "URLetI5PXzPI",
        "outputId": "ff02e3f1-ceb5-4905-a4ee-ca42845fc5d0"
      },
      "source": [
        "test_loss, test_acc = model.evaluate(test_images,  test_labels, verbose=2)\r\n",
        "\r\n",
        "print('\\nTest accuracy:', test_acc)"
      ],
      "execution_count": 204,
      "outputs": [
        {
          "output_type": "stream",
          "text": [
            "313/313 - 0s - loss: 0.3357 - accuracy: 0.8821\n",
            "\n",
            "Test accuracy: 0.882099986076355\n"
          ],
          "name": "stdout"
        }
      ]
    },
    {
      "cell_type": "markdown",
      "metadata": {
        "id": "qmu2O0JvYDAg"
      },
      "source": [
        "Ref - https://www.tensorflow.org/tutorials/generative/adversarial_fgsm"
      ]
    },
    {
      "cell_type": "code",
      "metadata": {
        "id": "jh8B_LIZYjoh"
      },
      "source": [
        "first_image = test_images[0]\r\n",
        "label=class_names[test_labels[0]]\r\n",
        "predictions= model.predict(test_images)\r\n",
        "image_probs = np.argmax(predictions[0])"
      ],
      "execution_count": 205,
      "outputs": []
    },
    {
      "cell_type": "code",
      "metadata": {
        "colab": {
          "base_uri": "https://localhost:8080/",
          "height": 265
        },
        "id": "vg8C_6eQZq8L",
        "outputId": "ffd5f2fa-e86a-4848-a025-c3d3af711377"
      },
      "source": [
        "plt.figure()\r\n",
        "plt.imshow(first_image) # To change [-1, 1] to [0,1]\r\n",
        "plt.show()"
      ],
      "execution_count": 206,
      "outputs": [
        {
          "output_type": "display_data",
          "data": {
            "image/png": "[encoded data removed]",
            "text/plain": [
              "<Figure size 432x288 with 1 Axes>"
            ]
          },
          "metadata": {
            "tags": [],
            "needs_background": "light"
          }
        }
      ]
    },
    {
      "cell_type": "code",
      "metadata": {
        "colab": {
          "base_uri": "https://localhost:8080/",
          "height": 35
        },
        "id": "5p8WeZNYaguU",
        "outputId": "998608b6-d6b3-4c31-b5f6-d2bac55ad918"
      },
      "source": [
        "label"
      ],
      "execution_count": 207,
      "outputs": [
        {
          "output_type": "execute_result",
          "data": {
            "application/vnd.google.colaboratory.intrinsic+json": {
              "type": "string"
            },
            "text/plain": [
              "'Ankle boot'"
            ]
          },
          "metadata": {
            "tags": []
          },
          "execution_count": 207
        }
      ]
    },
    {
      "cell_type": "code",
      "metadata": {
        "colab": {
          "base_uri": "https://localhost:8080/"
        },
        "id": "zQQ5vaKLaPKa",
        "outputId": "170be0b4-36c3-4d16-c12f-d2a1033899d9"
      },
      "source": [
        "image_probs"
      ],
      "execution_count": 208,
      "outputs": [
        {
          "output_type": "execute_result",
          "data": {
            "text/plain": [
              "9"
            ]
          },
          "metadata": {
            "tags": []
          },
          "execution_count": 208
        }
      ]
    },
    {
      "cell_type": "code",
      "metadata": {
        "id": "-Jp-mbtfYEBA"
      },
      "source": [
        "loss_object = tf.keras.losses.SparseCategoricalCrossentropy(from_logits=True)\r\n",
        "\r\n",
        "def create_adversarial_pattern(input_image, input_label):\r\n",
        "  with tf.GradientTape() as tape:\r\n",
        "    tape.watch(input_image)\r\n",
        "    prediction = model(input_image)\r\n",
        "    print(\"prediction is\", prediction)\r\n",
        "    loss = loss_object(input_label, prediction)\r\n",
        "\r\n",
        "  # Get the gradients of the loss w.r.t to the input image.\r\n",
        "  gradient = tape.gradient(loss, input_image)\r\n",
        "  # Get the sign of the gradients to create the perturbation\r\n",
        "  signed_grad = tf.sign(gradient)\r\n",
        "  return signed_grad"
      ],
      "execution_count": 209,
      "outputs": []
    },
    {
      "cell_type": "code",
      "metadata": {
        "id": "T6VKE9tWdXb0"
      },
      "source": [
        "in_image = tf.Variable(first_image.reshape((1, 28, 28)).astype(np.float32) /255.0)"
      ],
      "execution_count": 210,
      "outputs": []
    },
    {
      "cell_type": "code",
      "metadata": {
        "colab": {
          "base_uri": "https://localhost:8080/"
        },
        "id": "IjyU53hgyBcf",
        "outputId": "b0c47701-1ae0-44aa-a992-e28ab1e3bdb1"
      },
      "source": [
        "print(test_labels[0])"
      ],
      "execution_count": 211,
      "outputs": [
        {
          "output_type": "stream",
          "text": [
            "9\n"
          ],
          "name": "stdout"
        }
      ]
    },
    {
      "cell_type": "code",
      "metadata": {
        "colab": {
          "base_uri": "https://localhost:8080/",
          "height": 1000
        },
        "id": "lqbqZ837Yb_B",
        "outputId": "bf5e1583-b5fb-44d5-ccd0-4f1b6d8642b6"
      },
      "source": [
        "perturbations = create_adversarial_pattern(in_image, test_labels[0])\r\n",
        "print(\"perturbations is\",perturbations)\r\n",
        "plt.imshow(perturbations[0]*0.5+0.5) # To change [-1, 1] to [0,1]"
      ],
      "execution_count": 212,
      "outputs": [
        {
          "output_type": "stream",
          "text": [
            "prediction is tf.Tensor(\n",
            "[[-2.431198  -8.885595  -4.7011523 -3.049007  -5.177651   0.9513685\n",
            "  -2.8293722 -4.2670865 -4.814791  -7.4604135]], shape=(1, 10), dtype=float32)\n",
            "perturbations is tf.Tensor(\n",
            "[[[-1. -1. -1. -1. -1. -1. -1. -1. -1. -1. -1. -1. -1. -1. -1. -1. -1.\n",
            "   -1. -1. -1. -1. -1. -1. -1.  1.  1. -1.  1.]\n",
            "  [ 1.  1. -1. -1. -1. -1. -1. -1. -1. -1. -1. -1. -1. -1. -1. -1. -1.\n",
            "   -1. -1. -1. -1. -1. -1. -1. -1.  1. -1. -1.]\n",
            "  [ 1. -1. -1. -1. -1. -1. -1.  1. -1.  1.  1. -1.  1.  1.  1. -1. -1.\n",
            "   -1.  1. -1.  1.  1.  1.  1. -1. -1. -1. -1.]\n",
            "  [-1. -1.  1. -1. -1. -1.  1. -1. -1.  1.  1. -1. -1.  1. -1. -1. -1.\n",
            "   -1.  1.  1. -1.  1.  1.  1.  1. -1. -1.  1.]\n",
            "  [-1. -1. -1.  1. -1. -1. -1. -1. -1.  1. -1. -1. -1. -1. -1. -1. -1.\n",
            "   -1.  1. -1. -1. -1.  1.  1. -1. -1.  1. -1.]\n",
            "  [ 1. -1. -1. -1.  1. -1.  1. -1. -1. -1. -1. -1. -1. -1. -1. -1. -1.\n",
            "   -1. -1. -1. -1. -1.  1. -1. -1.  1.  1. -1.]\n",
            "  [-1. -1. -1. -1. -1. -1. -1. -1. -1. -1. -1. -1. -1. -1. -1. -1. -1.\n",
            "   -1. -1. -1. -1. -1.  1.  1.  1.  1. -1. -1.]\n",
            "  [-1. -1.  1. -1. -1. -1. -1. -1. -1. -1. -1. -1. -1. -1.  1.  1. -1.\n",
            "   -1. -1. -1. -1. -1. -1.  1.  1.  1.  1. -1.]\n",
            "  [ 1. -1. -1. -1. -1. -1. -1. -1. -1. -1. -1. -1. -1.  1.  1. -1. -1.\n",
            "   -1.  1.  1. -1.  1. -1.  1.  1.  1.  1.  1.]\n",
            "  [-1. -1. -1. -1. -1. -1. -1. -1. -1. -1. -1. -1.  1.  1. -1. -1. -1.\n",
            "   -1. -1.  1.  1.  1.  1.  1.  1. -1.  1.  1.]\n",
            "  [-1. -1. -1. -1. -1. -1. -1. -1.  1.  1.  1. -1. -1.  1. -1. -1. -1.\n",
            "   -1. -1. -1.  1.  1. -1.  1.  1. -1. -1.  1.]\n",
            "  [-1. -1. -1. -1. -1. -1.  1.  1.  1.  1.  1. -1. -1. -1. -1. -1. -1.\n",
            "   -1.  1.  1. -1.  1. -1.  1.  1. -1. -1.  1.]\n",
            "  [-1. -1. -1. -1. -1. -1.  1.  1.  1.  1. -1. -1. -1. -1. -1. -1. -1.\n",
            "   -1. -1. -1. -1. -1. -1.  1. -1. -1. -1. -1.]\n",
            "  [-1. -1. -1. -1. -1.  1.  1.  1.  1.  1. -1. -1. -1. -1. -1. -1. -1.\n",
            "   -1. -1.  1. -1.  1. -1.  1. -1. -1. -1. -1.]\n",
            "  [ 1. -1. -1. -1. -1.  1.  1.  1.  1.  1. -1. -1.  1. -1. -1. -1. -1.\n",
            "   -1. -1.  1. -1.  1.  1.  1.  1. -1. -1. -1.]\n",
            "  [-1. -1. -1. -1. -1.  1.  1.  1.  1.  1. -1. -1. -1. -1. -1. -1.  1.\n",
            "    1. -1.  1.  1.  1. -1.  1.  1. -1. -1. -1.]\n",
            "  [-1. -1. -1. -1.  1.  1.  1.  1.  1.  1. -1. -1. -1. -1. -1. -1.  1.\n",
            "   -1. -1.  1.  1. -1.  1.  1. -1. -1. -1. -1.]\n",
            "  [ 1.  1. -1. -1.  1.  1.  1.  1.  1.  1.  1. -1. -1. -1.  1. -1. -1.\n",
            "   -1. -1. -1.  1.  1.  1.  1.  1.  1. -1. -1.]\n",
            "  [ 1. -1. -1. -1.  1.  1.  1.  1.  1.  1. -1.  1. -1. -1. -1. -1. -1.\n",
            "   -1. -1. -1. -1.  1.  1. -1. -1.  1. -1. -1.]\n",
            "  [ 1. -1. -1. -1. -1.  1.  1.  1. -1.  1. -1. -1. -1. -1. -1. -1. -1.\n",
            "   -1.  1. -1. -1. -1. -1. -1. -1.  1. -1. -1.]\n",
            "  [-1. -1. -1. -1. -1.  1.  1.  1. -1.  1. -1. -1. -1. -1. -1. -1. -1.\n",
            "   -1. -1. -1. -1. -1. -1. -1. -1.  1.  1. -1.]\n",
            "  [-1. -1. -1. -1. -1.  1.  1.  1.  1.  1. -1. -1. -1. -1.  1.  1. -1.\n",
            "   -1. -1. -1. -1.  1. -1. -1. -1. -1. -1. -1.]\n",
            "  [-1. -1. -1. -1.  1.  1.  1.  1.  1.  1. -1. -1. -1.  1. -1. -1. -1.\n",
            "   -1. -1. -1. -1.  1. -1. -1. -1.  1. -1. -1.]\n",
            "  [ 1.  1. -1. -1. -1. -1. -1. -1.  1.  1.  1.  1. -1. -1. -1. -1. -1.\n",
            "   -1.  1. -1. -1. -1. -1. -1. -1. -1.  1. -1.]\n",
            "  [-1. -1.  1. -1. -1. -1. -1.  1.  1.  1. -1.  1.  1. -1. -1. -1. -1.\n",
            "   -1.  1.  1. -1.  1.  1. -1. -1. -1.  1. -1.]\n",
            "  [ 1.  1. -1. -1. -1. -1. -1. -1.  1.  1.  1.  1.  1. -1. -1. -1. -1.\n",
            "   -1.  1. -1. -1. -1. -1. -1. -1.  1.  1. -1.]\n",
            "  [ 1.  1. -1. -1.  1.  1. -1. -1.  1.  1.  1.  1.  1.  1. -1. -1. -1.\n",
            "    1.  1. -1. -1. -1. -1. -1. -1.  1. -1. -1.]\n",
            "  [ 1.  1.  1. -1.  1.  1. -1. -1. -1. -1. -1. -1. -1. -1. -1. -1. -1.\n",
            "   -1. -1. -1. -1.  1.  1. -1. -1.  1. -1. -1.]]], shape=(1, 28, 28), dtype=float32)\n"
          ],
          "name": "stdout"
        },
        {
          "output_type": "execute_result",
          "data": {
            "text/plain": [
              "<matplotlib.image.AxesImage at 0x7f3d79f144e0>"
            ]
          },
          "metadata": {
            "tags": []
          },
          "execution_count": 212
        },
        {
          "output_type": "display_data",
          "data": {
            "image/png": "[encoded data removed]",
            "text/plain": [
              "<Figure size 432x288 with 1 Axes>"
            ]
          },
          "metadata": {
            "tags": [],
            "needs_background": "light"
          }
        }
      ]
    },
    {
      "cell_type": "code",
      "metadata": {
        "id": "IvQH3xh_grN1"
      },
      "source": [
        "def display_images(i):\r\n",
        "  predictions= model.predict(i)\r\n",
        "  label = np.argmax(predictions[0])\r\n",
        "  plt.figure()\r\n",
        "  plt.imshow(i[0]*0.5+0.5)\r\n",
        "  plt.title('{}'.format(label))\r\n",
        "  plt.show()"
      ],
      "execution_count": 213,
      "outputs": []
    },
    {
      "cell_type": "code",
      "metadata": {
        "id": "w_Ute6_KgZ_V"
      },
      "source": [
        "adv_x = first_image + 0.1*perturbations\r\n",
        "adv_x = tf.clip_by_value(adv_x, -1, 1)"
      ],
      "execution_count": 214,
      "outputs": []
    },
    {
      "cell_type": "code",
      "metadata": {
        "colab": {
          "base_uri": "https://localhost:8080/",
          "height": 281
        },
        "id": "ZdtBhfCWg05m",
        "outputId": "4a347131-d115-4d97-f473-cf8a6af444b3"
      },
      "source": [
        "display_images(adv_x)"
      ],
      "execution_count": 215,
      "outputs": [
        {
          "output_type": "display_data",
          "data": {
            "image/png": "[encoded data removed]",
            "text/plain": [
              "<Figure size 432x288 with 1 Axes>"
            ]
          },
          "metadata": {
            "tags": [],
            "needs_background": "light"
          }
        }
      ]
    },
    {
      "cell_type": "markdown",
      "metadata": {
        "id": "s7_Z8hCKh07e"
      },
      "source": [
        "Its difficult to tell if its show or a sandle"
      ]
    },
    {
      "cell_type": "markdown",
      "metadata": {
        "id": "HxVVxltpjqhG"
      },
      "source": [
        "ToDO-- Do it for the entire batch"
      ]
    },
    {
      "cell_type": "markdown",
      "metadata": {
        "id": "AFtDwmdmj4Zf"
      },
      "source": [
        "Targated Atatck"
      ]
    },
    {
      "cell_type": "code",
      "metadata": {
        "id": "gV9y5m1ah5md"
      },
      "source": [
        "#every image prediction is same"
      ],
      "execution_count": 216,
      "outputs": []
    },
    {
      "cell_type": "code",
      "metadata": {
        "id": "2R3TMvoIlBiq"
      },
      "source": [
        "p = model(adv_x, training=False)"
      ],
      "execution_count": 217,
      "outputs": []
    },
    {
      "cell_type": "code",
      "metadata": {
        "id": "wnPsFrboleoJ"
      },
      "source": [
        "originalLoss = -loss_object(tf.convert_to_tensor([9]),p)"
      ],
      "execution_count": 218,
      "outputs": []
    },
    {
      "cell_type": "code",
      "metadata": {
        "id": "pNh4aw9DmNjp"
      },
      "source": [
        "targetLoss = loss_object(tf.convert_to_tensor([2]),p)"
      ],
      "execution_count": 219,
      "outputs": []
    },
    {
      "cell_type": "code",
      "metadata": {
        "id": "JrcOBpe_pOdy"
      },
      "source": [
        "totalLoss = originalLoss + targetLoss"
      ],
      "execution_count": 220,
      "outputs": []
    },
    {
      "cell_type": "code",
      "metadata": {
        "colab": {
          "base_uri": "https://localhost:8080/",
          "height": 128
        },
        "id": "BDXBIqnXqoYc",
        "outputId": "e8487e3c-8fc8-450b-9cf4-8f72404fa5db"
      },
      "source": [
        "#instead of maximizing the loss of the true label, we maximize the loss of the loss of the true label and also minimize the loss for the alternative label."
      ],
      "execution_count": 221,
      "outputs": [
        {
          "output_type": "error",
          "ename": "SyntaxError",
          "evalue": "ignored",
          "traceback": [
            "\u001b[0;36m  File \u001b[0;32m\"<ipython-input-221-be140fb51cb6>\"\u001b[0;36m, line \u001b[0;32m1\u001b[0m\n\u001b[0;31m    instead of maximizing the loss of the true label, we maximize the loss of the loss of the true label and also minimize the loss for the alternative label.\u001b[0m\n\u001b[0m             ^\u001b[0m\n\u001b[0;31mSyntaxError\u001b[0m\u001b[0;31m:\u001b[0m invalid syntax\n"
          ]
        }
      ]
    },
    {
      "cell_type": "code",
      "metadata": {
        "id": "BLHFDlkhkFNG"
      },
      "source": [
        "loss_object = tf.keras.losses.SparseCategoricalCrossentropy(from_logits=True)\r\n",
        "\r\n",
        "def create_adversarial_pattern_targated(input_image, input_label,my_label):\r\n",
        "  with tf.GradientTape() as tape:\r\n",
        "    tape.watch(input_image)\r\n",
        "    prediction = model(input_image)\r\n",
        "    loss = loss_object(input_label, prediction)\r\n",
        "    alt_loss = -loss_object(my_label,prediction)\r\n",
        "    total_los = loss+alt_loss\r\n",
        "\r\n",
        "  # Get the gradients of the loss w.r.t to the input image.\r\n",
        "  gradient = tape.gradient(total_los, input_image)\r\n",
        "  # Get the sign of the gradients to create the perturbation\r\n",
        "  signed_grad = tf.sign(gradient)\r\n",
        "  return signed_grad"
      ],
      "execution_count": 222,
      "outputs": []
    },
    {
      "cell_type": "code",
      "metadata": {
        "colab": {
          "base_uri": "https://localhost:8080/"
        },
        "id": "wxCOf2Kj0MKw",
        "outputId": "813fb5a5-f5bc-417b-8723-479c0258bfc4"
      },
      "source": [
        "test_labels[1]"
      ],
      "execution_count": 223,
      "outputs": [
        {
          "output_type": "execute_result",
          "data": {
            "text/plain": [
              "2"
            ]
          },
          "metadata": {
            "tags": []
          },
          "execution_count": 223
        }
      ]
    },
    {
      "cell_type": "code",
      "metadata": {
        "id": "KHnRIqdlprUj"
      },
      "source": [
        "perturbations_targated = create_adversarial_pattern_targated(in_image, test_labels[0],test_labels[1])\r\n"
      ],
      "execution_count": 224,
      "outputs": []
    },
    {
      "cell_type": "code",
      "metadata": {
        "colab": {
          "base_uri": "https://localhost:8080/",
          "height": 282
        },
        "id": "hnPgcD2S1MsH",
        "outputId": "529f48c9-972d-4b90-8f0e-730dbcf1c1c3"
      },
      "source": [
        "plt.imshow(perturbations_targated[0]*0.5+0.5) # To change [-1, 1] to [0,1]"
      ],
      "execution_count": 225,
      "outputs": [
        {
          "output_type": "execute_result",
          "data": {
            "text/plain": [
              "<matplotlib.image.AxesImage at 0x7f3d7a27dac8>"
            ]
          },
          "metadata": {
            "tags": []
          },
          "execution_count": 225
        },
        {
          "output_type": "display_data",
          "data": {
            "image/png": "[encoded data removed]",
            "text/plain": [
              "<Figure size 432x288 with 1 Axes>"
            ]
          },
          "metadata": {
            "tags": [],
            "needs_background": "light"
          }
        }
      ]
    },
    {
      "cell_type": "code",
      "metadata": {
        "id": "T9gZHmfy1Up1"
      },
      "source": [
        "def display_images(i):\r\n",
        "  predictions= model.predict(i)\r\n",
        "  label = np.argmax(predictions[0])\r\n",
        "  plt.figure()\r\n",
        "  plt.imshow(i[0]*0.5+0.5)\r\n",
        "  plt.title('{}'.format(class_names[label]))\r\n",
        "  plt.show()"
      ],
      "execution_count": 226,
      "outputs": []
    },
    {
      "cell_type": "code",
      "metadata": {
        "id": "4bkLFxjq1Up2"
      },
      "source": [
        "adv_x_targated = first_image + 0.15*perturbations_targated\r\n",
        "adv_x_targated = tf.clip_by_value(adv_x_targated, -1, 1)"
      ],
      "execution_count": 227,
      "outputs": []
    },
    {
      "cell_type": "code",
      "metadata": {
        "colab": {
          "base_uri": "https://localhost:8080/",
          "height": 281
        },
        "id": "cM9zc-wH1Up2",
        "outputId": "d8b3ffe6-7e17-46d3-df85-327d714c2adc"
      },
      "source": [
        "display_images(adv_x_targated)"
      ],
      "execution_count": 228,
      "outputs": [
        {
          "output_type": "display_data",
          "data": {
            "image/png": "[encoded data removed]",
            "text/plain": [
              "<Figure size 432x288 with 1 Axes>"
            ]
          },
          "metadata": {
            "tags": [],
            "needs_background": "light"
          }
        }
      ]
    },
    {
      "cell_type": "markdown",
      "metadata": {
        "id": "Wp4o4xhx2gxR"
      },
      "source": [
        "It is predicting 2. But will it predict anoter image also 2?"
      ]
    },
    {
      "cell_type": "code",
      "metadata": {
        "colab": {
          "base_uri": "https://localhost:8080/",
          "height": 282
        },
        "id": "dJb5QJh32mJm",
        "outputId": "b7466721-0da6-4d67-cb4a-1777559017eb"
      },
      "source": [
        "plt.imshow(test_images[5])"
      ],
      "execution_count": 229,
      "outputs": [
        {
          "output_type": "execute_result",
          "data": {
            "text/plain": [
              "<matplotlib.image.AxesImage at 0x7f3d798f4b00>"
            ]
          },
          "metadata": {
            "tags": []
          },
          "execution_count": 229
        },
        {
          "output_type": "display_data",
          "data": {
            "image/png": "[encoded data removed]",
            "text/plain": [
              "<Figure size 432x288 with 1 Axes>"
            ]
          },
          "metadata": {
            "tags": [],
            "needs_background": "light"
          }
        }
      ]
    },
    {
      "cell_type": "code",
      "metadata": {
        "id": "xaSaA1V92mbl"
      },
      "source": [
        "adv_x_targated = test_images[5] + 0.12*perturbations_targated #but it wroked for .12 and above value\r\n",
        "adv_x_targated = tf.clip_by_value(adv_x_targated, -1, 1)"
      ],
      "execution_count": 230,
      "outputs": []
    },
    {
      "cell_type": "code",
      "metadata": {
        "colab": {
          "base_uri": "https://localhost:8080/",
          "height": 281
        },
        "id": "VSGN6Kjc2mbm",
        "outputId": "1a745980-9d99-4873-c3d6-5bbf888821b8"
      },
      "source": [
        "display_images(adv_x_targated)"
      ],
      "execution_count": 231,
      "outputs": [
        {
          "output_type": "display_data",
          "data": {
            "image/png": "[encoded data removed]",
            "text/plain": [
              "<Figure size 432x288 with 1 Axes>"
            ]
          },
          "metadata": {
            "tags": [],
            "needs_background": "light"
          }
        }
      ]
    },
    {
      "cell_type": "markdown",
      "metadata": {
        "id": "4bRa0hIx4pu5"
      },
      "source": [
        "Adversarial Training"
      ]
    },
    {
      "cell_type": "code",
      "metadata": {
        "id": "UWUrvdFt4qUY"
      },
      "source": [
        "adverserial_training_images = tf.add(train_images, 0.5*perturbations)\r\n",
        "adverserial_training_images = tf.clip_by_value(adverserial_training_images, -1, 1)"
      ],
      "execution_count": 248,
      "outputs": []
    },
    {
      "cell_type": "code",
      "metadata": {
        "id": "ieqEze5HD38B"
      },
      "source": [
        "adverserial_training_images=adverserial_training_images.numpy()"
      ],
      "execution_count": 249,
      "outputs": []
    },
    {
      "cell_type": "code",
      "metadata": {
        "colab": {
          "base_uri": "https://localhost:8080/"
        },
        "id": "JX4hRGGhDEiV",
        "outputId": "afa46714-49d9-42f2-e754-c507a3678e88"
      },
      "source": [
        "adverserial_training_images.shape"
      ],
      "execution_count": 250,
      "outputs": [
        {
          "output_type": "execute_result",
          "data": {
            "text/plain": [
              "(60000, 28, 28)"
            ]
          },
          "metadata": {
            "tags": []
          },
          "execution_count": 250
        }
      ]
    },
    {
      "cell_type": "code",
      "metadata": {
        "id": "0qxaMVKHCe-V"
      },
      "source": [
        "adverserial_test_images = tf.add(test_images, 0.5*perturbations)\r\n",
        "adverserial_test_images = tf.clip_by_value(adverserial_test_images, -1, 1)"
      ],
      "execution_count": 251,
      "outputs": []
    },
    {
      "cell_type": "code",
      "metadata": {
        "id": "tg8-vzEaDQys"
      },
      "source": [
        "adverserial_test_images=adverserial_test_images.numpy()"
      ],
      "execution_count": 252,
      "outputs": []
    },
    {
      "cell_type": "code",
      "metadata": {
        "colab": {
          "base_uri": "https://localhost:8080/"
        },
        "id": "o0xkmNTuE5gG",
        "outputId": "ee648e36-f7fa-488f-d482-af24abc89a07"
      },
      "source": [
        "adverserial_test_images.shape"
      ],
      "execution_count": 253,
      "outputs": [
        {
          "output_type": "execute_result",
          "data": {
            "text/plain": [
              "(10000, 28, 28)"
            ]
          },
          "metadata": {
            "tags": []
          },
          "execution_count": 253
        }
      ]
    },
    {
      "cell_type": "code",
      "metadata": {
        "id": "W1e4MjbO_rLz"
      },
      "source": [
        "#now try to predict"
      ],
      "execution_count": 254,
      "outputs": []
    },
    {
      "cell_type": "code",
      "metadata": {
        "colab": {
          "base_uri": "https://localhost:8080/",
          "height": 282
        },
        "id": "vYYc4yns_4Bb",
        "outputId": "02708f84-5529-4774-b9f2-a4e851c19cca"
      },
      "source": [
        "plt.imshow(train_images[5])"
      ],
      "execution_count": 255,
      "outputs": [
        {
          "output_type": "execute_result",
          "data": {
            "text/plain": [
              "<matplotlib.image.AxesImage at 0x7f3d79b0bac8>"
            ]
          },
          "metadata": {
            "tags": []
          },
          "execution_count": 255
        },
        {
          "output_type": "display_data",
          "data": {
            "image/png": "[encoded data removed]",
            "text/plain": [
              "<Figure size 432x288 with 1 Axes>"
            ]
          },
          "metadata": {
            "tags": [],
            "needs_background": "light"
          }
        }
      ]
    },
    {
      "cell_type": "code",
      "metadata": {
        "colab": {
          "base_uri": "https://localhost:8080/",
          "height": 265
        },
        "id": "g63Swb6x_udM",
        "outputId": "5de78212-e65b-49c7-8d29-1c84210e4325"
      },
      "source": [
        "plt.imshow(adverserial_training_images[5])\r\n",
        "i = adverserial_training_images[5]"
      ],
      "execution_count": 256,
      "outputs": [
        {
          "output_type": "display_data",
          "data": {
            "image/png": "[encoded data removed]",
            "text/plain": [
              "<Figure size 432x288 with 1 Axes>"
            ]
          },
          "metadata": {
            "tags": [],
            "needs_background": "light"
          }
        }
      ]
    },
    {
      "cell_type": "code",
      "metadata": {
        "colab": {
          "base_uri": "https://localhost:8080/",
          "height": 35
        },
        "id": "O80smqUoBr0d",
        "outputId": "d9befbdd-23c8-49ec-d88b-995c586a7fc0"
      },
      "source": [
        "class_names[train_labels[5]]"
      ],
      "execution_count": 257,
      "outputs": [
        {
          "output_type": "execute_result",
          "data": {
            "application/vnd.google.colaboratory.intrinsic+json": {
              "type": "string"
            },
            "text/plain": [
              "'Pullover'"
            ]
          },
          "metadata": {
            "tags": []
          },
          "execution_count": 257
        }
      ]
    },
    {
      "cell_type": "code",
      "metadata": {
        "id": "WLfVNBbvEVRm"
      },
      "source": [
        "in_image = tf.Variable(adverserial_training_images[5].reshape((1, 28, 28)).astype(np.float32))"
      ],
      "execution_count": 258,
      "outputs": []
    },
    {
      "cell_type": "code",
      "metadata": {
        "id": "rREVLgVAB9g8"
      },
      "source": [
        "predictions= model.predict(np.expand_dims(adverserial_training_images[5],0)) #np.expand_dims(test_images[0],0)"
      ],
      "execution_count": 259,
      "outputs": []
    },
    {
      "cell_type": "code",
      "metadata": {
        "colab": {
          "base_uri": "https://localhost:8080/",
          "height": 35
        },
        "id": "WiL4KntVHmCw",
        "outputId": "c61422bf-69e8-48d4-c1ff-366d687b708c"
      },
      "source": [
        "label = np.argmax(predictions[0])\r\n",
        "class_names[label]"
      ],
      "execution_count": 260,
      "outputs": [
        {
          "output_type": "execute_result",
          "data": {
            "application/vnd.google.colaboratory.intrinsic+json": {
              "type": "string"
            },
            "text/plain": [
              "'Sandal'"
            ]
          },
          "metadata": {
            "tags": []
          },
          "execution_count": 260
        }
      ]
    }
  ]
}