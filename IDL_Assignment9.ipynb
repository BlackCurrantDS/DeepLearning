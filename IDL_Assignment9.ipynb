{
  "nbformat": 4,
  "nbformat_minor": 0,
  "metadata": {
    "colab": {
      "name": "IDL_Assignment9.ipynb",
      "provenance": [],
      "authorship_tag": "ABX9TyM5rnXe7YnICFygCIg5qkuW",
      "include_colab_link": true
    },
    "kernelspec": {
      "name": "python3",
      "display_name": "Python 3"
    }
  },
  "cells": [
    {
      "cell_type": "markdown",
      "metadata": {
        "id": "view-in-github",
        "colab_type": "text"
      },
      "source": [
        "<a href=\"https://colab.research.google.com/github/BlackCurrantDS/DeepLearning/blob/main/IDL_Assignment9.ipynb\" target=\"_parent\"><img src=\"https://colab.research.google.com/assets/colab-badge.svg\" alt=\"Open In Colab\"/></a>"
      ]
    },
    {
      "cell_type": "markdown",
      "metadata": {
        "id": "1EHEfjFZaNTE"
      },
      "source": [
        "References- \r\n",
        "\r\n",
        "https://medium.com/@ml.at.berkeley/tricking-neural-networks-create-your-own-adversarial-examples-a61eb7620fd8\r\n",
        "\r\n",
        "https://adversarial-ml-tutorial.org/adversarial_examples/\r\n",
        "\r\n",
        "https://harvard-iacs.github.io/2019-CS109B/lecture/lab21/AdversarialNN/\r\n",
        "\r\n",
        "https://adversarial-ml-tutorial.org/adversarial_examples/\r\n",
        "\r\n",
        "https://medium.com/analytics-vidhya/implementing-adversarial-attacks-and-defenses-in-keras-tensorflow-2-0-cab6120c5715"
      ]
    },
    {
      "cell_type": "markdown",
      "metadata": {
        "id": "nm-fioNIaaZX"
      },
      "source": [
        "Targeted - adding carefully nosie despite looking same to human\r\n",
        "non-targated- find any input which tricks model"
      ]
    },
    {
      "cell_type": "code",
      "metadata": {
        "colab": {
          "base_uri": "https://localhost:8080/"
        },
        "id": "_u2IzZkrXaNa",
        "outputId": "6412eb43-69c2-4dd0-9d63-b0ec7dea662f"
      },
      "source": [
        "# TensorFlow and tf.keras\r\n",
        "import tensorflow as tf\r\n",
        "\r\n",
        "# Helper libraries\r\n",
        "import numpy as np\r\n",
        "import matplotlib.pyplot as plt\r\n",
        "\r\n",
        "print(tf.__version__)"
      ],
      "execution_count": 261,
      "outputs": [
        {
          "output_type": "stream",
          "text": [
            "2.4.0\n"
          ],
          "name": "stdout"
        }
      ]
    },
    {
      "cell_type": "code",
      "metadata": {
        "id": "OJFb9pqIXcyq"
      },
      "source": [
        "fashion_mnist = tf.keras.datasets.fashion_mnist\r\n",
        "\r\n",
        "(train_images, train_labels), (test_images, test_labels) = fashion_mnist.load_data()"
      ],
      "execution_count": 262,
      "outputs": []
    },
    {
      "cell_type": "code",
      "metadata": {
        "id": "_yD8QOmOXfV5"
      },
      "source": [
        "class_names = ['T-shirt/top', 'Trouser', 'Pullover', 'Dress', 'Coat',\r\n",
        "               'Sandal', 'Shirt', 'Sneaker', 'Bag', 'Ankle boot']"
      ],
      "execution_count": 263,
      "outputs": []
    },
    {
      "cell_type": "code",
      "metadata": {
        "colab": {
          "base_uri": "https://localhost:8080/"
        },
        "id": "MeeAfyKqXhYh",
        "outputId": "c48c2ef6-17c6-4cfe-ac72-bd16bf449eab"
      },
      "source": [
        "train_images.shape"
      ],
      "execution_count": 264,
      "outputs": [
        {
          "output_type": "execute_result",
          "data": {
            "text/plain": [
              "(60000, 28, 28)"
            ]
          },
          "metadata": {
            "tags": []
          },
          "execution_count": 264
        }
      ]
    },
    {
      "cell_type": "code",
      "metadata": {
        "colab": {
          "base_uri": "https://localhost:8080/"
        },
        "id": "-L4X_k0bXigz",
        "outputId": "e921ab58-e37e-4039-b304-6c9a44251fb5"
      },
      "source": [
        "len(train_labels)"
      ],
      "execution_count": 265,
      "outputs": [
        {
          "output_type": "execute_result",
          "data": {
            "text/plain": [
              "60000"
            ]
          },
          "metadata": {
            "tags": []
          },
          "execution_count": 265
        }
      ]
    },
    {
      "cell_type": "code",
      "metadata": {
        "colab": {
          "base_uri": "https://localhost:8080/"
        },
        "id": "qZn5LF1lXkLp",
        "outputId": "7e4d138a-e062-490d-a40c-6fa2fd2f92b2"
      },
      "source": [
        "train_labels"
      ],
      "execution_count": 266,
      "outputs": [
        {
          "output_type": "execute_result",
          "data": {
            "text/plain": [
              "array([9, 0, 0, ..., 3, 0, 5], dtype=uint8)"
            ]
          },
          "metadata": {
            "tags": []
          },
          "execution_count": 266
        }
      ]
    },
    {
      "cell_type": "code",
      "metadata": {
        "colab": {
          "base_uri": "https://localhost:8080/"
        },
        "id": "YC76-RIvXmOJ",
        "outputId": "41012733-7bc5-4b78-e053-37a006473211"
      },
      "source": [
        "test_images.shape"
      ],
      "execution_count": 267,
      "outputs": [
        {
          "output_type": "execute_result",
          "data": {
            "text/plain": [
              "(10000, 28, 28)"
            ]
          },
          "metadata": {
            "tags": []
          },
          "execution_count": 267
        }
      ]
    },
    {
      "cell_type": "code",
      "metadata": {
        "colab": {
          "base_uri": "https://localhost:8080/"
        },
        "id": "zTGvztbYXncJ",
        "outputId": "3b2a6174-c226-402e-eeda-185f16410831"
      },
      "source": [
        "len(test_labels)"
      ],
      "execution_count": 268,
      "outputs": [
        {
          "output_type": "execute_result",
          "data": {
            "text/plain": [
              "10000"
            ]
          },
          "metadata": {
            "tags": []
          },
          "execution_count": 268
        }
      ]
    },
    {
      "cell_type": "code",
      "metadata": {
        "colab": {
          "base_uri": "https://localhost:8080/",
          "height": 265
        },
        "id": "UbMyw3BCXpN5",
        "outputId": "f0c5fab1-b8da-4fa4-b082-5b263d10fe7d"
      },
      "source": [
        "plt.figure()\r\n",
        "plt.imshow(train_images[0])\r\n",
        "plt.colorbar()\r\n",
        "plt.grid(False)\r\n",
        "plt.show()"
      ],
      "execution_count": 269,
      "outputs": [
        {
          "output_type": "display_data",
          "data": {
            "image/png": "[encoded data removed]",
            "text/plain": [
              "<Figure size 432x288 with 2 Axes>"
            ]
          },
          "metadata": {
            "tags": [],
            "needs_background": "light"
          }
        }
      ]
    },
    {
      "cell_type": "code",
      "metadata": {
        "id": "2Y4bTJGbXqzQ"
      },
      "source": [
        "train_images = train_images / 255.0\r\n",
        "\r\n",
        "test_images = test_images / 255.0"
      ],
      "execution_count": 270,
      "outputs": []
    },
    {
      "cell_type": "code",
      "metadata": {
        "colab": {
          "base_uri": "https://localhost:8080/",
          "height": 589
        },
        "id": "kOVCNXQEXsXZ",
        "outputId": "f155c460-b299-4637-8515-985581a688c0"
      },
      "source": [
        "plt.figure(figsize=(10,10))\r\n",
        "for i in range(25):\r\n",
        "    plt.subplot(5,5,i+1)\r\n",
        "    plt.xticks([])\r\n",
        "    plt.yticks([])\r\n",
        "    plt.grid(False)\r\n",
        "    plt.imshow(train_images[i], cmap=plt.cm.binary)\r\n",
        "    plt.xlabel(class_names[train_labels[i]])\r\n",
        "plt.show()"
      ],
      "execution_count": 271,
      "outputs": [
        {
          "output_type": "display_data",
          "data": {
            "image/png": "[encoded data removed]",
            "text/plain": [
              "<Figure size 720x720 with 25 Axes>"
            ]
          },
          "metadata": {
            "tags": []
          }
        }
      ]
    },
    {
      "cell_type": "code",
      "metadata": {
        "id": "QEUnQucfXuFx"
      },
      "source": [
        "model = tf.keras.Sequential([\r\n",
        "    tf.keras.layers.Flatten(input_shape=(28, 28)),\r\n",
        "    tf.keras.layers.Dense(128, activation='relu'),\r\n",
        "    tf.keras.layers.Dense(10)\r\n",
        "])"
      ],
      "execution_count": 272,
      "outputs": []
    },
    {
      "cell_type": "code",
      "metadata": {
        "id": "zovCYYJGXvo5"
      },
      "source": [
        "model.compile(optimizer='adam',\r\n",
        "              loss=tf.keras.losses.SparseCategoricalCrossentropy(from_logits=True),\r\n",
        "              metrics=['accuracy'])"
      ],
      "execution_count": 273,
      "outputs": []
    },
    {
      "cell_type": "code",
      "metadata": {
        "colab": {
          "base_uri": "https://localhost:8080/"
        },
        "id": "cq1zj1jWXxJp",
        "outputId": "f7196662-ebdd-45d8-9cc5-39059e4c2da7"
      },
      "source": [
        "model.fit(train_images, train_labels, epochs=10)"
      ],
      "execution_count": 274,
      "outputs": [
        {
          "output_type": "stream",
          "text": [
            "Epoch 1/10\n",
            "1875/1875 [==============================] - 3s 2ms/step - loss: 0.6347 - accuracy: 0.7757\n",
            "Epoch 2/10\n",
            "1875/1875 [==============================] - 3s 2ms/step - loss: 0.3852 - accuracy: 0.8619\n",
            "Epoch 3/10\n",
            "1875/1875 [==============================] - 3s 2ms/step - loss: 0.3430 - accuracy: 0.8745\n",
            "Epoch 4/10\n",
            "1875/1875 [==============================] - 3s 2ms/step - loss: 0.3133 - accuracy: 0.8838\n",
            "Epoch 5/10\n",
            "1875/1875 [==============================] - 3s 2ms/step - loss: 0.2988 - accuracy: 0.8881\n",
            "Epoch 6/10\n",
            "1875/1875 [==============================] - 3s 2ms/step - loss: 0.2804 - accuracy: 0.8966\n",
            "Epoch 7/10\n",
            "1875/1875 [==============================] - 3s 2ms/step - loss: 0.2660 - accuracy: 0.9015\n",
            "Epoch 8/10\n",
            "1875/1875 [==============================] - 3s 2ms/step - loss: 0.2580 - accuracy: 0.9025\n",
            "Epoch 9/10\n",
            "1875/1875 [==============================] - 3s 2ms/step - loss: 0.2436 - accuracy: 0.9072\n",
            "Epoch 10/10\n",
            "1875/1875 [==============================] - 3s 2ms/step - loss: 0.2389 - accuracy: 0.9099\n"
          ],
          "name": "stdout"
        },
        {
          "output_type": "execute_result",
          "data": {
            "text/plain": [
              "<tensorflow.python.keras.callbacks.History at 0x7f3d88d9b8d0>"
            ]
          },
          "metadata": {
            "tags": []
          },
          "execution_count": 274
        }
      ]
    },
    {
      "cell_type": "code",
      "metadata": {
        "colab": {
          "base_uri": "https://localhost:8080/"
        },
        "id": "URLetI5PXzPI",
        "outputId": "4b18cddb-9da9-43e6-f495-69369189d7fe"
      },
      "source": [
        "test_loss, test_acc = model.evaluate(test_images,  test_labels, verbose=2)\r\n",
        "\r\n",
        "print('\\nTest accuracy:', test_acc)"
      ],
      "execution_count": 275,
      "outputs": [
        {
          "output_type": "stream",
          "text": [
            "313/313 - 0s - loss: 0.3373 - accuracy: 0.8809\n",
            "\n",
            "Test accuracy: 0.8809000253677368\n"
          ],
          "name": "stdout"
        }
      ]
    },
    {
      "cell_type": "markdown",
      "metadata": {
        "id": "qmu2O0JvYDAg"
      },
      "source": [
        "Ref - https://www.tensorflow.org/tutorials/generative/adversarial_fgsm"
      ]
    },
    {
      "cell_type": "code",
      "metadata": {
        "id": "jh8B_LIZYjoh"
      },
      "source": [
        "first_image = test_images[0]\r\n",
        "label=class_names[test_labels[0]]\r\n",
        "predictions= model.predict(test_images)\r\n",
        "image_probs = np.argmax(predictions[0])"
      ],
      "execution_count": 276,
      "outputs": []
    },
    {
      "cell_type": "code",
      "metadata": {
        "colab": {
          "base_uri": "https://localhost:8080/",
          "height": 265
        },
        "id": "vg8C_6eQZq8L",
        "outputId": "a6bace18-6751-4f46-86aa-218fce1679de"
      },
      "source": [
        "plt.figure()\r\n",
        "plt.imshow(first_image) # To change [-1, 1] to [0,1]\r\n",
        "plt.show()"
      ],
      "execution_count": 277,
      "outputs": [
        {
          "output_type": "display_data",
          "data": {
            "image/png": "[encoded data removed]",
            "text/plain": [
              "<Figure size 432x288 with 1 Axes>"
            ]
          },
          "metadata": {
            "tags": [],
            "needs_background": "light"
          }
        }
      ]
    },
    {
      "cell_type": "code",
      "metadata": {
        "colab": {
          "base_uri": "https://localhost:8080/",
          "height": 35
        },
        "id": "5p8WeZNYaguU",
        "outputId": "358e9cb5-7257-455a-8a62-bc5385c479ff"
      },
      "source": [
        "label"
      ],
      "execution_count": 278,
      "outputs": [
        {
          "output_type": "execute_result",
          "data": {
            "application/vnd.google.colaboratory.intrinsic+json": {
              "type": "string"
            },
            "text/plain": [
              "'Ankle boot'"
            ]
          },
          "metadata": {
            "tags": []
          },
          "execution_count": 278
        }
      ]
    },
    {
      "cell_type": "code",
      "metadata": {
        "colab": {
          "base_uri": "https://localhost:8080/"
        },
        "id": "zQQ5vaKLaPKa",
        "outputId": "0bff7ec2-d383-4203-f255-9e722855dd0e"
      },
      "source": [
        "image_probs"
      ],
      "execution_count": 279,
      "outputs": [
        {
          "output_type": "execute_result",
          "data": {
            "text/plain": [
              "9"
            ]
          },
          "metadata": {
            "tags": []
          },
          "execution_count": 279
        }
      ]
    },
    {
      "cell_type": "code",
      "metadata": {
        "id": "-Jp-mbtfYEBA"
      },
      "source": [
        "loss_object = tf.keras.losses.SparseCategoricalCrossentropy(from_logits=True)\r\n",
        "\r\n",
        "def create_adversarial_pattern(input_image, input_label):\r\n",
        "  with tf.GradientTape() as tape:\r\n",
        "    tape.watch(input_image)\r\n",
        "    prediction = model(input_image)\r\n",
        "    print(\"prediction is\", prediction)\r\n",
        "    loss = loss_object(input_label, prediction)\r\n",
        "\r\n",
        "  # Get the gradients of the loss w.r.t to the input image.\r\n",
        "  gradient = tape.gradient(loss, input_image)\r\n",
        "  # Get the sign of the gradients to create the perturbation\r\n",
        "  signed_grad = tf.sign(gradient)\r\n",
        "  return signed_grad"
      ],
      "execution_count": 280,
      "outputs": []
    },
    {
      "cell_type": "code",
      "metadata": {
        "id": "T6VKE9tWdXb0"
      },
      "source": [
        "in_image = tf.Variable(first_image.reshape((1, 28, 28)).astype(np.float32) /255.0)"
      ],
      "execution_count": 281,
      "outputs": []
    },
    {
      "cell_type": "code",
      "metadata": {
        "colab": {
          "base_uri": "https://localhost:8080/"
        },
        "id": "IjyU53hgyBcf",
        "outputId": "50e628e1-18e9-4f47-eabc-9dd3adcf8998"
      },
      "source": [
        "print(test_labels[0])"
      ],
      "execution_count": 282,
      "outputs": [
        {
          "output_type": "stream",
          "text": [
            "9\n"
          ],
          "name": "stdout"
        }
      ]
    },
    {
      "cell_type": "code",
      "metadata": {
        "colab": {
          "base_uri": "https://localhost:8080/",
          "height": 1000
        },
        "id": "lqbqZ837Yb_B",
        "outputId": "3f8766ec-402f-4d79-9df1-9ac2545f8120"
      },
      "source": [
        "perturbations = create_adversarial_pattern(in_image, test_labels[0])\r\n",
        "print(\"perturbations is\",perturbations)\r\n",
        "plt.imshow(perturbations[0]*0.5+0.5) # To change [-1, 1] to [0,1]"
      ],
      "execution_count": 283,
      "outputs": [
        {
          "output_type": "stream",
          "text": [
            "prediction is tf.Tensor(\n",
            "[[-1.7237881 -6.5243692 -3.0570188 -2.6303833 -4.7693458  0.550617\n",
            "  -1.5066524 -5.3867044 -4.2699604 -7.8914857]], shape=(1, 10), dtype=float32)\n",
            "perturbations is tf.Tensor(\n",
            "[[[-1. -1. -1. -1. -1. -1. -1. -1. -1.  1. -1. -1. -1. -1. -1. -1.  1.\n",
            "    1. -1. -1. -1. -1. -1. -1.  1.  1. -1.  1.]\n",
            "  [ 1.  1. -1. -1. -1. -1. -1. -1. -1. -1. -1. -1. -1.  1.  1.  1.  1.\n",
            "   -1. -1. -1. -1. -1. -1. -1. -1.  1. -1. -1.]\n",
            "  [ 1. -1. -1. -1. -1. -1. -1. -1. -1. -1.  1. -1. -1.  1.  1.  1. -1.\n",
            "   -1. -1. -1.  1. -1.  1.  1. -1. -1. -1. -1.]\n",
            "  [-1. -1.  1. -1.  1.  1. -1. -1.  1.  1. -1. -1.  1.  1. -1.  1.  1.\n",
            "    1.  1.  1.  1.  1.  1.  1.  1. -1. -1.  1.]\n",
            "  [ 1.  1.  1.  1.  1.  1.  1.  1. -1.  1. -1. -1. -1. -1. -1.  1. -1.\n",
            "   -1.  1. -1. -1.  1.  1.  1.  1. -1. -1. -1.]\n",
            "  [ 1.  1.  1. -1.  1.  1.  1. -1. -1. -1. -1. -1. -1. -1. -1.  1. -1.\n",
            "   -1. -1. -1. -1.  1.  1.  1.  1.  1. -1. -1.]\n",
            "  [ 1.  1. -1. -1. -1.  1.  1. -1. -1.  1. -1. -1. -1. -1. -1. -1. -1.\n",
            "   -1. -1. -1. -1.  1.  1.  1.  1.  1. -1. -1.]\n",
            "  [ 1.  1.  1. -1. -1. -1.  1. -1. -1. -1. -1. -1. -1. -1.  1. -1. -1.\n",
            "   -1. -1. -1. -1.  1.  1.  1.  1. -1. -1. -1.]\n",
            "  [ 1. -1. -1. -1.  1. -1. -1.  1. -1. -1. -1. -1.  1. -1. -1. -1. -1.\n",
            "   -1. -1. -1. -1.  1.  1.  1.  1.  1.  1.  1.]\n",
            "  [ 1. -1. -1. -1. -1. -1. -1. -1.  1.  1.  1. -1.  1. -1. -1. -1. -1.\n",
            "   -1. -1.  1. -1. -1.  1.  1.  1. -1.  1.  1.]\n",
            "  [-1. -1. -1. -1.  1. -1. -1. -1.  1.  1.  1.  1.  1. -1. -1. -1. -1.\n",
            "   -1. -1. -1.  1.  1.  1.  1.  1. -1. -1.  1.]\n",
            "  [-1. -1. -1.  1.  1.  1.  1.  1.  1.  1.  1. -1. -1. -1. -1. -1. -1.\n",
            "   -1. -1.  1. -1.  1.  1.  1.  1. -1. -1.  1.]\n",
            "  [ 1.  1. -1. -1. -1. -1.  1.  1.  1.  1. -1.  1. -1. -1. -1. -1.  1.\n",
            "   -1. -1. -1. -1. -1. -1.  1. -1. -1. -1.  1.]\n",
            "  [ 1.  1. -1. -1. -1.  1.  1.  1.  1.  1. -1. -1. -1. -1. -1. -1. -1.\n",
            "    1. -1. -1. -1. -1. -1. -1. -1. -1. -1. -1.]\n",
            "  [ 1. -1. -1. -1. -1.  1.  1.  1.  1.  1.  1. -1.  1. -1. -1. -1. -1.\n",
            "   -1. -1. -1. -1. -1.  1.  1. -1. -1. -1.  1.]\n",
            "  [-1. -1. -1. -1. -1.  1.  1.  1.  1.  1. -1. -1. -1. -1. -1. -1.  1.\n",
            "    1. -1.  1.  1.  1. -1.  1. -1. -1. -1.  1.]\n",
            "  [ 1.  1. -1. -1. -1.  1.  1.  1.  1.  1. -1.  1. -1. -1. -1. -1.  1.\n",
            "    1. -1. -1. -1. -1.  1.  1. -1. -1.  1. -1.]\n",
            "  [ 1.  1. -1. -1. -1.  1.  1.  1.  1.  1. -1. -1.  1. -1.  1. -1. -1.\n",
            "   -1. -1. -1. -1. -1.  1.  1.  1.  1. -1. -1.]\n",
            "  [ 1.  1. -1. -1. -1.  1.  1.  1.  1. -1. -1.  1. -1. -1. -1. -1. -1.\n",
            "    1. -1. -1. -1. -1. -1. -1. -1.  1.  1.  1.]\n",
            "  [ 1. -1. -1. -1. -1.  1.  1.  1. -1. -1. -1. -1. -1. -1. -1. -1. -1.\n",
            "   -1. -1. -1. -1. -1. -1. -1. -1.  1. -1.  1.]\n",
            "  [ 1. -1. -1. -1. -1.  1.  1.  1.  1.  1. -1. -1. -1. -1. -1.  1.  1.\n",
            "   -1. -1. -1. -1. -1. -1. -1. -1. -1. -1. -1.]\n",
            "  [ 1.  1. -1. -1.  1.  1.  1.  1.  1. -1. -1. -1. -1. -1.  1.  1. -1.\n",
            "    1.  1. -1. -1. -1. -1. -1. -1. -1. -1. -1.]\n",
            "  [-1. -1. -1. -1.  1.  1.  1.  1. -1. -1. -1. -1. -1.  1.  1. -1.  1.\n",
            "   -1.  1. -1. -1. -1. -1. -1. -1. -1. -1. -1.]\n",
            "  [-1. -1. -1. -1. -1. -1. -1. -1.  1.  1.  1. -1. -1. -1.  1.  1.  1.\n",
            "    1.  1. -1. -1. -1. -1. -1. -1. -1. -1. -1.]\n",
            "  [-1. -1.  1. -1. -1. -1. -1. -1.  1.  1.  1.  1. -1.  1.  1. -1. -1.\n",
            "   -1.  1. -1. -1. -1. -1. -1. -1. -1.  1. -1.]\n",
            "  [ 1.  1.  1. -1. -1. -1. -1. -1.  1.  1.  1.  1.  1. -1. -1. -1. -1.\n",
            "   -1.  1. -1. -1. -1. -1. -1. -1. -1.  1. -1.]\n",
            "  [ 1.  1.  1.  1.  1.  1. -1. -1.  1.  1.  1.  1.  1.  1. -1. -1.  1.\n",
            "    1.  1.  1. -1. -1. -1. -1. -1. -1. -1. -1.]\n",
            "  [ 1. -1.  1.  1.  1.  1. -1. -1. -1. -1.  1. -1. -1. -1.  1. -1. -1.\n",
            "   -1. -1.  1. -1.  1.  1. -1.  1.  1. -1.  1.]]], shape=(1, 28, 28), dtype=float32)\n"
          ],
          "name": "stdout"
        },
        {
          "output_type": "execute_result",
          "data": {
            "text/plain": [
              "<matplotlib.image.AxesImage at 0x7f3d88c5a6d8>"
            ]
          },
          "metadata": {
            "tags": []
          },
          "execution_count": 283
        },
        {
          "output_type": "display_data",
          "data": {
            "image/png": "[encoded data removed]",
            "text/plain": [
              "<Figure size 432x288 with 1 Axes>"
            ]
          },
          "metadata": {
            "tags": [],
            "needs_background": "light"
          }
        }
      ]
    },
    {
      "cell_type": "code",
      "metadata": {
        "id": "IvQH3xh_grN1"
      },
      "source": [
        "def display_images(i):\r\n",
        "  predictions= model.predict(i)\r\n",
        "  label = np.argmax(predictions[0])\r\n",
        "  plt.figure()\r\n",
        "  plt.imshow(i[0]*0.5+0.5)\r\n",
        "  plt.title('{}'.format(label))\r\n",
        "  plt.show()"
      ],
      "execution_count": 284,
      "outputs": []
    },
    {
      "cell_type": "code",
      "metadata": {
        "id": "w_Ute6_KgZ_V"
      },
      "source": [
        "adv_x = first_image + 0.1*perturbations\r\n",
        "adv_x = tf.clip_by_value(adv_x, -1, 1)"
      ],
      "execution_count": 285,
      "outputs": []
    },
    {
      "cell_type": "code",
      "metadata": {
        "colab": {
          "base_uri": "https://localhost:8080/",
          "height": 281
        },
        "id": "ZdtBhfCWg05m",
        "outputId": "0834b957-761b-48ad-9cb5-46a72cfdc6c6"
      },
      "source": [
        "display_images(adv_x)"
      ],
      "execution_count": 286,
      "outputs": [
        {
          "output_type": "display_data",
          "data": {
            "image/png": "[encoded data removed]",
            "text/plain": [
              "<Figure size 432x288 with 1 Axes>"
            ]
          },
          "metadata": {
            "tags": [],
            "needs_background": "light"
          }
        }
      ]
    },
    {
      "cell_type": "markdown",
      "metadata": {
        "id": "s7_Z8hCKh07e"
      },
      "source": [
        "Its difficult to tell if its show or a sandle"
      ]
    },
    {
      "cell_type": "markdown",
      "metadata": {
        "id": "HxVVxltpjqhG"
      },
      "source": [
        "ToDO-- Do it for the entire batch"
      ]
    },
    {
      "cell_type": "markdown",
      "metadata": {
        "id": "AFtDwmdmj4Zf"
      },
      "source": [
        "Targated Atatck"
      ]
    },
    {
      "cell_type": "code",
      "metadata": {
        "id": "gV9y5m1ah5md"
      },
      "source": [
        "#every image prediction is same"
      ],
      "execution_count": 287,
      "outputs": []
    },
    {
      "cell_type": "code",
      "metadata": {
        "id": "2R3TMvoIlBiq"
      },
      "source": [
        "p = model(adv_x, training=False)"
      ],
      "execution_count": 288,
      "outputs": []
    },
    {
      "cell_type": "code",
      "metadata": {
        "id": "wnPsFrboleoJ"
      },
      "source": [
        "originalLoss = -loss_object(tf.convert_to_tensor([9]),p)"
      ],
      "execution_count": 289,
      "outputs": []
    },
    {
      "cell_type": "code",
      "metadata": {
        "id": "pNh4aw9DmNjp"
      },
      "source": [
        "targetLoss = loss_object(tf.convert_to_tensor([2]),p)"
      ],
      "execution_count": 290,
      "outputs": []
    },
    {
      "cell_type": "code",
      "metadata": {
        "id": "JrcOBpe_pOdy"
      },
      "source": [
        "totalLoss = originalLoss + targetLoss"
      ],
      "execution_count": 291,
      "outputs": []
    },
    {
      "cell_type": "code",
      "metadata": {
        "id": "BDXBIqnXqoYc"
      },
      "source": [
        "#instead of maximizing the loss of the true label, we maximize the loss of the loss of the true label and also minimize the loss for the alternative label."
      ],
      "execution_count": 292,
      "outputs": []
    },
    {
      "cell_type": "code",
      "metadata": {
        "id": "BLHFDlkhkFNG"
      },
      "source": [
        "loss_object = tf.keras.losses.SparseCategoricalCrossentropy(from_logits=True)\r\n",
        "\r\n",
        "def create_adversarial_pattern_targated(input_image, input_label,my_label):\r\n",
        "  with tf.GradientTape() as tape:\r\n",
        "    tape.watch(input_image)\r\n",
        "    prediction = model(input_image)\r\n",
        "    loss = loss_object(input_label, prediction)\r\n",
        "    alt_loss = -loss_object(my_label,prediction)\r\n",
        "    total_los = loss+alt_loss\r\n",
        "\r\n",
        "  # Get the gradients of the loss w.r.t to the input image.\r\n",
        "  gradient = tape.gradient(total_los, input_image)\r\n",
        "  # Get the sign of the gradients to create the perturbation\r\n",
        "  signed_grad = tf.sign(gradient)\r\n",
        "  return signed_grad"
      ],
      "execution_count": 293,
      "outputs": []
    },
    {
      "cell_type": "code",
      "metadata": {
        "colab": {
          "base_uri": "https://localhost:8080/"
        },
        "id": "wxCOf2Kj0MKw",
        "outputId": "8650ce42-1c08-42b5-f46a-e154461633aa"
      },
      "source": [
        "test_labels[1]"
      ],
      "execution_count": 294,
      "outputs": [
        {
          "output_type": "execute_result",
          "data": {
            "text/plain": [
              "2"
            ]
          },
          "metadata": {
            "tags": []
          },
          "execution_count": 294
        }
      ]
    },
    {
      "cell_type": "code",
      "metadata": {
        "id": "KHnRIqdlprUj"
      },
      "source": [
        "perturbations_targated = create_adversarial_pattern_targated(in_image, test_labels[0],test_labels[1])\r\n"
      ],
      "execution_count": 295,
      "outputs": []
    },
    {
      "cell_type": "code",
      "metadata": {
        "colab": {
          "base_uri": "https://localhost:8080/",
          "height": 282
        },
        "id": "hnPgcD2S1MsH",
        "outputId": "5652827e-c50c-4df8-8f74-8d87dea78f08"
      },
      "source": [
        "plt.imshow(perturbations_targated[0]*0.5+0.5) # To change [-1, 1] to [0,1]"
      ],
      "execution_count": 296,
      "outputs": [
        {
          "output_type": "execute_result",
          "data": {
            "text/plain": [
              "<matplotlib.image.AxesImage at 0x7f3d79cf08d0>"
            ]
          },
          "metadata": {
            "tags": []
          },
          "execution_count": 296
        },
        {
          "output_type": "display_data",
          "data": {
            "image/png": "[encoded data removed]",
            "text/plain": [
              "<Figure size 432x288 with 1 Axes>"
            ]
          },
          "metadata": {
            "tags": [],
            "needs_background": "light"
          }
        }
      ]
    },
    {
      "cell_type": "code",
      "metadata": {
        "id": "T9gZHmfy1Up1"
      },
      "source": [
        "def display_images(i):\r\n",
        "  predictions= model.predict(i)\r\n",
        "  label = np.argmax(predictions[0])\r\n",
        "  plt.figure()\r\n",
        "  plt.imshow(i[0]*0.5+0.5)\r\n",
        "  plt.title('{}'.format(class_names[label]))\r\n",
        "  plt.show()"
      ],
      "execution_count": 297,
      "outputs": []
    },
    {
      "cell_type": "code",
      "metadata": {
        "id": "4bkLFxjq1Up2"
      },
      "source": [
        "adv_x_targated = first_image + 0.15*perturbations_targated\r\n",
        "adv_x_targated = tf.clip_by_value(adv_x_targated, -1, 1)"
      ],
      "execution_count": 373,
      "outputs": []
    },
    {
      "cell_type": "code",
      "metadata": {
        "colab": {
          "base_uri": "https://localhost:8080/",
          "height": 281
        },
        "id": "cM9zc-wH1Up2",
        "outputId": "9594de6e-f408-4d55-8fe2-88ff1495e764"
      },
      "source": [
        "display_images(adv_x_targated)"
      ],
      "execution_count": 299,
      "outputs": [
        {
          "output_type": "display_data",
          "data": {
            "image/png": "[encoded data removed]",
            "text/plain": [
              "<Figure size 432x288 with 1 Axes>"
            ]
          },
          "metadata": {
            "tags": [],
            "needs_background": "light"
          }
        }
      ]
    },
    {
      "cell_type": "markdown",
      "metadata": {
        "id": "Wp4o4xhx2gxR"
      },
      "source": [
        "It is predicting 2. But will it predict anoter image also 2?"
      ]
    },
    {
      "cell_type": "code",
      "metadata": {
        "colab": {
          "base_uri": "https://localhost:8080/",
          "height": 282
        },
        "id": "dJb5QJh32mJm",
        "outputId": "d3993af1-2a1e-422e-dba2-28bce7fbb231"
      },
      "source": [
        "plt.imshow(test_images[5])"
      ],
      "execution_count": 300,
      "outputs": [
        {
          "output_type": "execute_result",
          "data": {
            "text/plain": [
              "<matplotlib.image.AxesImage at 0x7f3d88d082b0>"
            ]
          },
          "metadata": {
            "tags": []
          },
          "execution_count": 300
        },
        {
          "output_type": "display_data",
          "data": {
            "image/png": "[encoded data removed]",
            "text/plain": [
              "<Figure size 432x288 with 1 Axes>"
            ]
          },
          "metadata": {
            "tags": [],
            "needs_background": "light"
          }
        }
      ]
    },
    {
      "cell_type": "code",
      "metadata": {
        "id": "xaSaA1V92mbl"
      },
      "source": [
        "adv_x_targated = test_images[5] + 0.15*perturbations_targated #but it wroked for .12 and above value\r\n",
        "adv_x_targated = tf.clip_by_value(adv_x_targated, -1, 1)"
      ],
      "execution_count": 338,
      "outputs": []
    },
    {
      "cell_type": "code",
      "metadata": {
        "colab": {
          "base_uri": "https://localhost:8080/",
          "height": 281
        },
        "id": "VSGN6Kjc2mbm",
        "outputId": "1eb806ae-29a7-4fd8-c55a-c2bb59cc3028"
      },
      "source": [
        "display_images(adv_x_targated)"
      ],
      "execution_count": 339,
      "outputs": [
        {
          "output_type": "display_data",
          "data": {
            "image/png": "[encoded data removed]",
            "text/plain": [
              "<Figure size 432x288 with 1 Axes>"
            ]
          },
          "metadata": {
            "tags": [],
            "needs_background": "light"
          }
        }
      ]
    },
    {
      "cell_type": "markdown",
      "metadata": {
        "id": "4bRa0hIx4pu5"
      },
      "source": [
        "Adversarial Training"
      ]
    },
    {
      "cell_type": "code",
      "metadata": {
        "id": "UWUrvdFt4qUY"
      },
      "source": [
        "adverserial_training_images = tf.add(train_images, 0.5*perturbations_targated)\r\n",
        "adverserial_training_images = tf.clip_by_value(adverserial_training_images, -1, 1)"
      ],
      "execution_count": 355,
      "outputs": []
    },
    {
      "cell_type": "code",
      "metadata": {
        "id": "ieqEze5HD38B"
      },
      "source": [
        "adverserial_training_images=adverserial_training_images.numpy()"
      ],
      "execution_count": 356,
      "outputs": []
    },
    {
      "cell_type": "code",
      "metadata": {
        "colab": {
          "base_uri": "https://localhost:8080/"
        },
        "id": "JX4hRGGhDEiV",
        "outputId": "997aa81b-ac02-4777-f6fb-a1fa091c5cee"
      },
      "source": [
        "adverserial_training_images.shape"
      ],
      "execution_count": 357,
      "outputs": [
        {
          "output_type": "execute_result",
          "data": {
            "text/plain": [
              "(60000, 28, 28)"
            ]
          },
          "metadata": {
            "tags": []
          },
          "execution_count": 357
        }
      ]
    },
    {
      "cell_type": "code",
      "metadata": {
        "id": "0qxaMVKHCe-V"
      },
      "source": [
        "adverserial_test_images = tf.add(test_images, 0.5*perturbations_targated)\r\n",
        "adverserial_test_images = tf.clip_by_value(adverserial_test_images, -1, 1)"
      ],
      "execution_count": 358,
      "outputs": []
    },
    {
      "cell_type": "code",
      "metadata": {
        "id": "tg8-vzEaDQys"
      },
      "source": [
        "adverserial_test_images=adverserial_test_images.numpy()"
      ],
      "execution_count": 359,
      "outputs": []
    },
    {
      "cell_type": "code",
      "metadata": {
        "colab": {
          "base_uri": "https://localhost:8080/"
        },
        "id": "o0xkmNTuE5gG",
        "outputId": "0b57a95b-5150-438e-e955-33bb7bfa8b0e"
      },
      "source": [
        "adverserial_test_images.shape"
      ],
      "execution_count": 360,
      "outputs": [
        {
          "output_type": "execute_result",
          "data": {
            "text/plain": [
              "(10000, 28, 28)"
            ]
          },
          "metadata": {
            "tags": []
          },
          "execution_count": 360
        }
      ]
    },
    {
      "cell_type": "code",
      "metadata": {
        "id": "W1e4MjbO_rLz"
      },
      "source": [
        "#now try to predict"
      ],
      "execution_count": 361,
      "outputs": []
    },
    {
      "cell_type": "code",
      "metadata": {
        "colab": {
          "base_uri": "https://localhost:8080/",
          "height": 282
        },
        "id": "vYYc4yns_4Bb",
        "outputId": "cc2f2f7c-cdc7-4321-efd2-bd353a2ab609"
      },
      "source": [
        "plt.imshow(train_images[5])"
      ],
      "execution_count": 362,
      "outputs": [
        {
          "output_type": "execute_result",
          "data": {
            "text/plain": [
              "<matplotlib.image.AxesImage at 0x7f3d77b49c18>"
            ]
          },
          "metadata": {
            "tags": []
          },
          "execution_count": 362
        },
        {
          "output_type": "display_data",
          "data": {
            "image/png": "[encoded data removed]",
            "text/plain": [
              "<Figure size 432x288 with 1 Axes>"
            ]
          },
          "metadata": {
            "tags": [],
            "needs_background": "light"
          }
        }
      ]
    },
    {
      "cell_type": "code",
      "metadata": {
        "colab": {
          "base_uri": "https://localhost:8080/",
          "height": 265
        },
        "id": "g63Swb6x_udM",
        "outputId": "61b53039-8968-4de4-bfa5-a0ce370507dc"
      },
      "source": [
        "plt.imshow(adverserial_training_images[5])\r\n",
        "i = adverserial_training_images[5]"
      ],
      "execution_count": 363,
      "outputs": [
        {
          "output_type": "display_data",
          "data": {
            "image/png": "[encoded data removed]",
            "text/plain": [
              "<Figure size 432x288 with 1 Axes>"
            ]
          },
          "metadata": {
            "tags": [],
            "needs_background": "light"
          }
        }
      ]
    },
    {
      "cell_type": "code",
      "metadata": {
        "colab": {
          "base_uri": "https://localhost:8080/",
          "height": 35
        },
        "id": "O80smqUoBr0d",
        "outputId": "3985050a-d484-4394-dc0d-b3ec175885ca"
      },
      "source": [
        "class_names[train_labels[5]]"
      ],
      "execution_count": 364,
      "outputs": [
        {
          "output_type": "execute_result",
          "data": {
            "application/vnd.google.colaboratory.intrinsic+json": {
              "type": "string"
            },
            "text/plain": [
              "'Pullover'"
            ]
          },
          "metadata": {
            "tags": []
          },
          "execution_count": 364
        }
      ]
    },
    {
      "cell_type": "code",
      "metadata": {
        "id": "WLfVNBbvEVRm"
      },
      "source": [
        "in_image = tf.Variable(adverserial_training_images[5].reshape((1, 28, 28)).astype(np.float32))"
      ],
      "execution_count": 365,
      "outputs": []
    },
    {
      "cell_type": "code",
      "metadata": {
        "id": "rREVLgVAB9g8"
      },
      "source": [
        "predictions= model.predict(np.expand_dims(adverserial_training_images[5],0)) #np.expand_dims(test_images[0],0)"
      ],
      "execution_count": 366,
      "outputs": []
    },
    {
      "cell_type": "code",
      "metadata": {
        "colab": {
          "base_uri": "https://localhost:8080/",
          "height": 35
        },
        "id": "WiL4KntVHmCw",
        "outputId": "5174b295-d65b-4c7a-becb-289da2e87321"
      },
      "source": [
        "label = np.argmax(predictions[0])\r\n",
        "class_names[label]"
      ],
      "execution_count": 367,
      "outputs": [
        {
          "output_type": "execute_result",
          "data": {
            "application/vnd.google.colaboratory.intrinsic+json": {
              "type": "string"
            },
            "text/plain": [
              "'Pullover'"
            ]
          },
          "metadata": {
            "tags": []
          },
          "execution_count": 367
        }
      ]
    },
    {
      "cell_type": "code",
      "metadata": {
        "id": "sCVkSOzjQ9Pv"
      },
      "source": [
        "#training on adversial images"
      ],
      "execution_count": 368,
      "outputs": []
    },
    {
      "cell_type": "code",
      "metadata": {
        "colab": {
          "base_uri": "https://localhost:8080/"
        },
        "id": "SrbMFNIJQ9fw",
        "outputId": "a9756940-a516-4f53-bf5f-a570815983ef"
      },
      "source": [
        "model.fit(adverserial_training_images, train_labels, epochs=10)"
      ],
      "execution_count": 371,
      "outputs": [
        {
          "output_type": "stream",
          "text": [
            "Epoch 1/10\n",
            "1875/1875 [==============================] - 3s 2ms/step - loss: 0.6107 - accuracy: 0.8703\n",
            "Epoch 2/10\n",
            "1875/1875 [==============================] - 3s 2ms/step - loss: 0.2798 - accuracy: 0.8944\n",
            "Epoch 3/10\n",
            "1875/1875 [==============================] - 3s 2ms/step - loss: 0.2628 - accuracy: 0.9013\n",
            "Epoch 4/10\n",
            "1875/1875 [==============================] - 3s 2ms/step - loss: 0.2534 - accuracy: 0.9021\n",
            "Epoch 5/10\n",
            "1875/1875 [==============================] - 3s 2ms/step - loss: 0.2502 - accuracy: 0.9039\n",
            "Epoch 6/10\n",
            "1875/1875 [==============================] - 3s 2ms/step - loss: 0.2408 - accuracy: 0.9079\n",
            "Epoch 7/10\n",
            "1875/1875 [==============================] - 3s 2ms/step - loss: 0.2387 - accuracy: 0.9085\n",
            "Epoch 8/10\n",
            "1875/1875 [==============================] - 3s 2ms/step - loss: 0.2363 - accuracy: 0.9092\n",
            "Epoch 9/10\n",
            "1875/1875 [==============================] - 3s 2ms/step - loss: 0.2298 - accuracy: 0.9125\n",
            "Epoch 10/10\n",
            "1875/1875 [==============================] - 3s 2ms/step - loss: 0.2286 - accuracy: 0.9123\n"
          ],
          "name": "stdout"
        },
        {
          "output_type": "execute_result",
          "data": {
            "text/plain": [
              "<tensorflow.python.keras.callbacks.History at 0x7f3d72b76128>"
            ]
          },
          "metadata": {
            "tags": []
          },
          "execution_count": 371
        }
      ]
    },
    {
      "cell_type": "code",
      "metadata": {
        "colab": {
          "base_uri": "https://localhost:8080/"
        },
        "id": "VU1dLVC6Q9f1",
        "outputId": "15c4b1d3-32b1-4aa2-d2ad-d468f6da6317"
      },
      "source": [
        "test_loss, test_acc = model.evaluate(adverserial_test_images,  test_labels, verbose=2)\r\n",
        "\r\n",
        "print('\\nTest accuracy:', test_acc)"
      ],
      "execution_count": 372,
      "outputs": [
        {
          "output_type": "stream",
          "text": [
            "313/313 - 0s - loss: 0.3898 - accuracy: 0.8740\n",
            "\n",
            "Test accuracy: 0.8740000128746033\n"
          ],
          "name": "stdout"
        }
      ]
    },
    {
      "cell_type": "code",
      "metadata": {
        "colab": {
          "base_uri": "https://localhost:8080/",
          "height": 281
        },
        "id": "_1K33SNpTD1o",
        "outputId": "8c9c099a-bd67-4e35-8e48-fa1c0a5e1317"
      },
      "source": [
        "display_images(adv_x_targated)"
      ],
      "execution_count": 374,
      "outputs": [
        {
          "output_type": "display_data",
          "data": {
            "image/png": "[encoded data removed]",
            "text/plain": [
              "<Figure size 432x288 with 1 Axes>"
            ]
          },
          "metadata": {
            "tags": [],
            "needs_background": "light"
          }
        }
      ]
    }
  ]
}