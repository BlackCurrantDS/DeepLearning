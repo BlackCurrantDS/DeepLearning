{
  "nbformat": 4,
  "nbformat_minor": 0,
  "metadata": {
    "colab": {
      "name": "IDL_Assignment9.ipynb",
      "provenance": [],
      "authorship_tag": "ABX9TyO5rDpFUxaLAyBbispIK0F3",
      "include_colab_link": true
    },
    "kernelspec": {
      "name": "python3",
      "display_name": "Python 3"
    }
  },
  "cells": [
    {
      "cell_type": "markdown",
      "metadata": {
        "id": "view-in-github",
        "colab_type": "text"
      },
      "source": [
        "<a href=\"https://colab.research.google.com/github/BlackCurrantDS/DeepLearning/blob/main/IDL_Assignment9.ipynb\" target=\"_parent\"><img src=\"https://colab.research.google.com/assets/colab-badge.svg\" alt=\"Open In Colab\"/></a>"
      ]
    },
    {
      "cell_type": "markdown",
      "metadata": {
        "id": "1EHEfjFZaNTE"
      },
      "source": [
        "References- \r\n",
        "\r\n",
        "https://medium.com/@ml.at.berkeley/tricking-neural-networks-create-your-own-adversarial-examples-a61eb7620fd8\r\n",
        "\r\n",
        "https://adversarial-ml-tutorial.org/adversarial_examples/\r\n",
        "\r\n",
        "https://harvard-iacs.github.io/2019-CS109B/lecture/lab21/AdversarialNN/\r\n",
        "\r\n",
        "https://adversarial-ml-tutorial.org/adversarial_examples/\r\n",
        "\r\n",
        "https://medium.com/analytics-vidhya/implementing-adversarial-attacks-and-defenses-in-keras-tensorflow-2-0-cab6120c5715"
      ]
    },
    {
      "cell_type": "markdown",
      "metadata": {
        "id": "nm-fioNIaaZX"
      },
      "source": [
        "Targeted - adding carefully nosie despite looking same to human\r\n",
        "non-targated- find any input which tricks model"
      ]
    },
    {
      "cell_type": "code",
      "metadata": {
        "colab": {
          "base_uri": "https://localhost:8080/"
        },
        "id": "_u2IzZkrXaNa",
        "outputId": "12877da2-6c9e-43c0-b265-c6d014b9bb8f"
      },
      "source": [
        "# TensorFlow and tf.keras\r\n",
        "import tensorflow as tf\r\n",
        "\r\n",
        "# Helper libraries\r\n",
        "import numpy as np\r\n",
        "import matplotlib.pyplot as plt\r\n",
        "\r\n",
        "print(tf.__version__)"
      ],
      "execution_count": 2,
      "outputs": [
        {
          "output_type": "stream",
          "text": [
            "2.4.0\n"
          ],
          "name": "stdout"
        }
      ]
    },
    {
      "cell_type": "code",
      "metadata": {
        "colab": {
          "base_uri": "https://localhost:8080/"
        },
        "id": "OJFb9pqIXcyq",
        "outputId": "f9a53b46-4aeb-4887-9357-7ec6fbd72038"
      },
      "source": [
        "fashion_mnist = tf.keras.datasets.fashion_mnist\r\n",
        "\r\n",
        "(train_images, train_labels), (test_images, test_labels) = fashion_mnist.load_data()"
      ],
      "execution_count": 3,
      "outputs": [
        {
          "output_type": "stream",
          "text": [
            "Downloading data from https://storage.googleapis.com/tensorflow/tf-keras-datasets/train-labels-idx1-ubyte.gz\n",
            "32768/29515 [=================================] - 0s 0us/step\n",
            "Downloading data from https://storage.googleapis.com/tensorflow/tf-keras-datasets/train-images-idx3-ubyte.gz\n",
            "26427392/26421880 [==============================] - 0s 0us/step\n",
            "Downloading data from https://storage.googleapis.com/tensorflow/tf-keras-datasets/t10k-labels-idx1-ubyte.gz\n",
            "8192/5148 [===============================================] - 0s 0us/step\n",
            "Downloading data from https://storage.googleapis.com/tensorflow/tf-keras-datasets/t10k-images-idx3-ubyte.gz\n",
            "4423680/4422102 [==============================] - 0s 0us/step\n"
          ],
          "name": "stdout"
        }
      ]
    },
    {
      "cell_type": "code",
      "metadata": {
        "id": "_yD8QOmOXfV5"
      },
      "source": [
        "class_names = ['T-shirt/top', 'Trouser', 'Pullover', 'Dress', 'Coat',\r\n",
        "               'Sandal', 'Shirt', 'Sneaker', 'Bag', 'Ankle boot']"
      ],
      "execution_count": 4,
      "outputs": []
    },
    {
      "cell_type": "code",
      "metadata": {
        "colab": {
          "base_uri": "https://localhost:8080/"
        },
        "id": "MeeAfyKqXhYh",
        "outputId": "c7c8bea1-8acd-416f-944c-d992b91675c0"
      },
      "source": [
        "train_images.shape"
      ],
      "execution_count": 5,
      "outputs": [
        {
          "output_type": "execute_result",
          "data": {
            "text/plain": [
              "(60000, 28, 28)"
            ]
          },
          "metadata": {
            "tags": []
          },
          "execution_count": 5
        }
      ]
    },
    {
      "cell_type": "code",
      "metadata": {
        "colab": {
          "base_uri": "https://localhost:8080/"
        },
        "id": "-L4X_k0bXigz",
        "outputId": "24454dc2-ada2-4bb4-a48b-7b5f06558eb0"
      },
      "source": [
        "len(train_labels)"
      ],
      "execution_count": 6,
      "outputs": [
        {
          "output_type": "execute_result",
          "data": {
            "text/plain": [
              "60000"
            ]
          },
          "metadata": {
            "tags": []
          },
          "execution_count": 6
        }
      ]
    },
    {
      "cell_type": "code",
      "metadata": {
        "colab": {
          "base_uri": "https://localhost:8080/"
        },
        "id": "qZn5LF1lXkLp",
        "outputId": "6722bc4a-da00-4dbf-fb58-de57fea3af98"
      },
      "source": [
        "train_labels"
      ],
      "execution_count": 7,
      "outputs": [
        {
          "output_type": "execute_result",
          "data": {
            "text/plain": [
              "array([9, 0, 0, ..., 3, 0, 5], dtype=uint8)"
            ]
          },
          "metadata": {
            "tags": []
          },
          "execution_count": 7
        }
      ]
    },
    {
      "cell_type": "code",
      "metadata": {
        "colab": {
          "base_uri": "https://localhost:8080/"
        },
        "id": "YC76-RIvXmOJ",
        "outputId": "3dcf79e6-68d6-479f-bbac-81bb78e7cc8f"
      },
      "source": [
        "test_images.shape"
      ],
      "execution_count": 8,
      "outputs": [
        {
          "output_type": "execute_result",
          "data": {
            "text/plain": [
              "(10000, 28, 28)"
            ]
          },
          "metadata": {
            "tags": []
          },
          "execution_count": 8
        }
      ]
    },
    {
      "cell_type": "code",
      "metadata": {
        "colab": {
          "base_uri": "https://localhost:8080/"
        },
        "id": "zTGvztbYXncJ",
        "outputId": "53116a5e-2c18-457a-b80d-9651c6327c72"
      },
      "source": [
        "len(test_labels)"
      ],
      "execution_count": 9,
      "outputs": [
        {
          "output_type": "execute_result",
          "data": {
            "text/plain": [
              "10000"
            ]
          },
          "metadata": {
            "tags": []
          },
          "execution_count": 9
        }
      ]
    },
    {
      "cell_type": "code",
      "metadata": {
        "colab": {
          "base_uri": "https://localhost:8080/",
          "height": 265
        },
        "id": "UbMyw3BCXpN5",
        "outputId": "d2fc4a9f-7530-4c82-c687-c47c9089458b"
      },
      "source": [
        "plt.figure()\r\n",
        "plt.imshow(train_images[0])\r\n",
        "plt.colorbar()\r\n",
        "plt.grid(False)\r\n",
        "plt.show()"
      ],
      "execution_count": 10,
      "outputs": [
        {
          "output_type": "display_data",
          "data": {
            "image/png": "[encoded data removed]",
            "text/plain": [
              "<Figure size 432x288 with 2 Axes>"
            ]
          },
          "metadata": {
            "tags": [],
            "needs_background": "light"
          }
        }
      ]
    },
    {
      "cell_type": "code",
      "metadata": {
        "id": "2Y4bTJGbXqzQ"
      },
      "source": [
        "train_images = train_images / 255.0\r\n",
        "\r\n",
        "test_images = test_images / 255.0"
      ],
      "execution_count": 11,
      "outputs": []
    },
    {
      "cell_type": "code",
      "metadata": {
        "colab": {
          "base_uri": "https://localhost:8080/",
          "height": 589
        },
        "id": "kOVCNXQEXsXZ",
        "outputId": "5e027679-84f6-4ccb-bc14-43986ff7f8e8"
      },
      "source": [
        "plt.figure(figsize=(10,10))\r\n",
        "for i in range(25):\r\n",
        "    plt.subplot(5,5,i+1)\r\n",
        "    plt.xticks([])\r\n",
        "    plt.yticks([])\r\n",
        "    plt.grid(False)\r\n",
        "    plt.imshow(train_images[i], cmap=plt.cm.binary)\r\n",
        "    plt.xlabel(class_names[train_labels[i]])\r\n",
        "plt.show()"
      ],
      "execution_count": 12,
      "outputs": [
        {
          "output_type": "display_data",
          "data": {
            "image/png": "[encoded data removed]",
            "text/plain": [
              "<Figure size 720x720 with 25 Axes>"
            ]
          },
          "metadata": {
            "tags": []
          }
        }
      ]
    },
    {
      "cell_type": "code",
      "metadata": {
        "id": "QEUnQucfXuFx"
      },
      "source": [
        "model = tf.keras.Sequential([\r\n",
        "    tf.keras.layers.Flatten(input_shape=(28, 28)),\r\n",
        "    tf.keras.layers.Dense(128, activation='relu'),\r\n",
        "    tf.keras.layers.Dense(10)\r\n",
        "])"
      ],
      "execution_count": 13,
      "outputs": []
    },
    {
      "cell_type": "code",
      "metadata": {
        "id": "zovCYYJGXvo5"
      },
      "source": [
        "model.compile(optimizer='adam',\r\n",
        "              loss=tf.keras.losses.SparseCategoricalCrossentropy(from_logits=True),\r\n",
        "              metrics=['accuracy'])"
      ],
      "execution_count": 14,
      "outputs": []
    },
    {
      "cell_type": "code",
      "metadata": {
        "colab": {
          "base_uri": "https://localhost:8080/"
        },
        "id": "cq1zj1jWXxJp",
        "outputId": "02c947ad-b3cf-4f81-9b6d-7baaa6e2e369"
      },
      "source": [
        "model.fit(train_images, train_labels, epochs=10)"
      ],
      "execution_count": 15,
      "outputs": [
        {
          "output_type": "stream",
          "text": [
            "Epoch 1/10\n",
            "1875/1875 [==============================] - 4s 2ms/step - loss: 0.6155 - accuracy: 0.7866\n",
            "Epoch 2/10\n",
            "1875/1875 [==============================] - 3s 2ms/step - loss: 0.3799 - accuracy: 0.8615\n",
            "Epoch 3/10\n",
            "1875/1875 [==============================] - 3s 2ms/step - loss: 0.3333 - accuracy: 0.8789\n",
            "Epoch 4/10\n",
            "1875/1875 [==============================] - 3s 2ms/step - loss: 0.3122 - accuracy: 0.8830\n",
            "Epoch 5/10\n",
            "1875/1875 [==============================] - 3s 2ms/step - loss: 0.2956 - accuracy: 0.8899\n",
            "Epoch 6/10\n",
            "1875/1875 [==============================] - 4s 2ms/step - loss: 0.2710 - accuracy: 0.8988\n",
            "Epoch 7/10\n",
            "1875/1875 [==============================] - 4s 2ms/step - loss: 0.2676 - accuracy: 0.9020\n",
            "Epoch 8/10\n",
            "1875/1875 [==============================] - 4s 2ms/step - loss: 0.2564 - accuracy: 0.9040\n",
            "Epoch 9/10\n",
            "1875/1875 [==============================] - 4s 2ms/step - loss: 0.2417 - accuracy: 0.9094\n",
            "Epoch 10/10\n",
            "1875/1875 [==============================] - 3s 2ms/step - loss: 0.2292 - accuracy: 0.9147\n"
          ],
          "name": "stdout"
        },
        {
          "output_type": "execute_result",
          "data": {
            "text/plain": [
              "<tensorflow.python.keras.callbacks.History at 0x7f3d881cc588>"
            ]
          },
          "metadata": {
            "tags": []
          },
          "execution_count": 15
        }
      ]
    },
    {
      "cell_type": "code",
      "metadata": {
        "colab": {
          "base_uri": "https://localhost:8080/"
        },
        "id": "URLetI5PXzPI",
        "outputId": "96979690-6708-4da0-d5e3-7eb7e3e78293"
      },
      "source": [
        "test_loss, test_acc = model.evaluate(test_images,  test_labels, verbose=2)\r\n",
        "\r\n",
        "print('\\nTest accuracy:', test_acc)"
      ],
      "execution_count": 16,
      "outputs": [
        {
          "output_type": "stream",
          "text": [
            "313/313 - 0s - loss: 0.3367 - accuracy: 0.8834\n",
            "\n",
            "Test accuracy: 0.883400022983551\n"
          ],
          "name": "stdout"
        }
      ]
    },
    {
      "cell_type": "markdown",
      "metadata": {
        "id": "qmu2O0JvYDAg"
      },
      "source": [
        "Ref - https://www.tensorflow.org/tutorials/generative/adversarial_fgsm"
      ]
    },
    {
      "cell_type": "code",
      "metadata": {
        "id": "jh8B_LIZYjoh"
      },
      "source": [
        "first_image = test_images[0]\r\n",
        "label=class_names[test_labels[0]]\r\n",
        "predictions= model.predict(test_images)\r\n",
        "image_probs = np.argmax(predictions[0])"
      ],
      "execution_count": 17,
      "outputs": []
    },
    {
      "cell_type": "code",
      "metadata": {
        "colab": {
          "base_uri": "https://localhost:8080/",
          "height": 265
        },
        "id": "vg8C_6eQZq8L",
        "outputId": "76c02f2e-58af-488e-efb4-b7fcafe1b5c9"
      },
      "source": [
        "plt.figure()\r\n",
        "plt.imshow(first_image) # To change [-1, 1] to [0,1]\r\n",
        "plt.show()"
      ],
      "execution_count": 18,
      "outputs": [
        {
          "output_type": "display_data",
          "data": {
            "image/png": "[encoded data removed]",
            "text/plain": [
              "<Figure size 432x288 with 1 Axes>"
            ]
          },
          "metadata": {
            "tags": [],
            "needs_background": "light"
          }
        }
      ]
    },
    {
      "cell_type": "code",
      "metadata": {
        "colab": {
          "base_uri": "https://localhost:8080/",
          "height": 35
        },
        "id": "5p8WeZNYaguU",
        "outputId": "f1ad7f16-5b97-433c-c8c1-6a82551b5439"
      },
      "source": [
        "label"
      ],
      "execution_count": 19,
      "outputs": [
        {
          "output_type": "execute_result",
          "data": {
            "application/vnd.google.colaboratory.intrinsic+json": {
              "type": "string"
            },
            "text/plain": [
              "'Ankle boot'"
            ]
          },
          "metadata": {
            "tags": []
          },
          "execution_count": 19
        }
      ]
    },
    {
      "cell_type": "code",
      "metadata": {
        "colab": {
          "base_uri": "https://localhost:8080/"
        },
        "id": "zQQ5vaKLaPKa",
        "outputId": "31cee996-5466-49eb-b28a-603ab588d440"
      },
      "source": [
        "image_probs"
      ],
      "execution_count": 20,
      "outputs": [
        {
          "output_type": "execute_result",
          "data": {
            "text/plain": [
              "9"
            ]
          },
          "metadata": {
            "tags": []
          },
          "execution_count": 20
        }
      ]
    },
    {
      "cell_type": "code",
      "metadata": {
        "id": "-Jp-mbtfYEBA"
      },
      "source": [
        "loss_object = tf.keras.losses.SparseCategoricalCrossentropy(from_logits=True)\r\n",
        "\r\n",
        "def create_adversarial_pattern(input_image, input_label):\r\n",
        "  with tf.GradientTape() as tape:\r\n",
        "    tape.watch(input_image)\r\n",
        "    prediction = model(input_image)\r\n",
        "    print(\"prediction is\", prediction)\r\n",
        "    loss = loss_object(input_label, prediction)\r\n",
        "\r\n",
        "  # Get the gradients of the loss w.r.t to the input image.\r\n",
        "  gradient = tape.gradient(loss, input_image)\r\n",
        "  # Get the sign of the gradients to create the perturbation\r\n",
        "  signed_grad = tf.sign(gradient)\r\n",
        "  return signed_grad"
      ],
      "execution_count": 40,
      "outputs": []
    },
    {
      "cell_type": "code",
      "metadata": {
        "id": "T6VKE9tWdXb0"
      },
      "source": [
        "in_image = tf.Variable(first_image.reshape((1, 28, 28)).astype(np.float32) /255.0)"
      ],
      "execution_count": 41,
      "outputs": []
    },
    {
      "cell_type": "code",
      "metadata": {
        "colab": {
          "base_uri": "https://localhost:8080/"
        },
        "id": "IjyU53hgyBcf",
        "outputId": "d991521e-dd6b-40e7-edc7-8602893db370"
      },
      "source": [
        "print(test_labels[0])"
      ],
      "execution_count": 44,
      "outputs": [
        {
          "output_type": "stream",
          "text": [
            "9\n"
          ],
          "name": "stdout"
        }
      ]
    },
    {
      "cell_type": "code",
      "metadata": {
        "colab": {
          "base_uri": "https://localhost:8080/",
          "height": 1000
        },
        "id": "lqbqZ837Yb_B",
        "outputId": "1f9a4d7a-4e1d-40b6-a60a-5b124dadaf32"
      },
      "source": [
        "perturbations = create_adversarial_pattern(in_image, test_labels[0])\r\n",
        "print(\"perturbations is\",perturbations)\r\n",
        "plt.imshow(perturbations[0]*0.5+0.5) # To change [-1, 1] to [0,1]"
      ],
      "execution_count": 43,
      "outputs": [
        {
          "output_type": "stream",
          "text": [
            "prediction is tf.Tensor(\n",
            "[[-2.670969  -7.5988626 -4.4640903 -4.240512  -5.338334   0.7549819\n",
            "  -2.6330693 -5.0902476 -4.852653  -8.209261 ]], shape=(1, 10), dtype=float32)\n",
            "perturbations is tf.Tensor(\n",
            "[[[ 1.  1.  1.  1. -1. -1. -1.  1. -1. -1. -1. -1. -1. -1. -1. -1. -1.\n",
            "   -1. -1. -1. -1. -1. -1. -1.  1.  1. -1.  1.]\n",
            "  [-1. -1. -1. -1. -1. -1. -1. -1. -1. -1. -1. -1. -1. -1. -1. -1. -1.\n",
            "   -1. -1. -1. -1. -1. -1. -1. -1.  1. -1. -1.]\n",
            "  [-1. -1. -1. -1. -1. -1.  1.  1. -1.  1. -1. -1. -1.  1.  1. -1. -1.\n",
            "   -1.  1. -1. -1. -1.  1. -1. -1. -1. -1. -1.]\n",
            "  [-1. -1. -1. -1. -1.  1. -1. -1. -1.  1. -1. -1.  1.  1. -1. -1. -1.\n",
            "   -1.  1. -1. -1.  1.  1.  1. -1. -1. -1.  1.]\n",
            "  [-1. -1. -1. -1. -1. -1. -1. -1. -1. -1. -1. -1. -1. -1. -1. -1. -1.\n",
            "   -1.  1. -1. -1. -1.  1.  1. -1. -1.  1. -1.]\n",
            "  [ 1.  1. -1. -1. -1. -1. -1. -1. -1. -1. -1. -1. -1. -1. -1.  1. -1.\n",
            "   -1. -1. -1. -1.  1.  1. -1.  1.  1. -1. -1.]\n",
            "  [ 1.  1.  1. -1. -1. -1. -1. -1. -1. -1. -1. -1. -1. -1. -1. -1. -1.\n",
            "   -1. -1. -1.  1.  1.  1.  1.  1. -1. -1. -1.]\n",
            "  [-1.  1.  1. -1. -1. -1. -1. -1. -1. -1. -1. -1. -1. -1.  1. -1. -1.\n",
            "   -1. -1. -1. -1.  1.  1.  1.  1. -1. -1. -1.]\n",
            "  [-1. -1.  1. -1. -1. -1. -1. -1. -1. -1. -1. -1.  1. -1. -1. -1. -1.\n",
            "   -1.  1. -1. -1.  1. -1.  1.  1. -1.  1.  1.]\n",
            "  [-1. -1.  1. -1. -1. -1. -1. -1.  1.  1.  1. -1.  1.  1. -1. -1. -1.\n",
            "   -1. -1. -1. -1.  1. -1.  1.  1.  1.  1.  1.]\n",
            "  [-1. -1. -1. -1. -1. -1. -1.  1.  1.  1. -1.  1.  1. -1. -1. -1. -1.\n",
            "   -1. -1. -1.  1.  1. -1.  1.  1. -1. -1.  1.]\n",
            "  [-1. -1. -1. -1. -1. -1.  1.  1.  1.  1.  1. -1. -1. -1. -1. -1. -1.\n",
            "   -1. -1.  1. -1.  1. -1.  1.  1. -1. -1.  1.]\n",
            "  [ 1.  1. -1. -1. -1. -1.  1.  1.  1.  1. -1. -1. -1. -1. -1. -1. -1.\n",
            "   -1. -1. -1. -1. -1. -1.  1.  1. -1.  1.  1.]\n",
            "  [ 1.  1. -1. -1. -1.  1.  1.  1.  1.  1.  1. -1. -1. -1. -1. -1. -1.\n",
            "   -1. -1. -1.  1.  1.  1. -1.  1.  1. -1.  1.]\n",
            "  [ 1. -1. -1. -1. -1.  1.  1.  1.  1. -1. -1. -1.  1. -1. -1. -1. -1.\n",
            "   -1. -1. -1.  1. -1.  1.  1.  1. -1. -1. -1.]\n",
            "  [-1. -1. -1. -1. -1.  1.  1.  1.  1.  1. -1. -1. -1. -1. -1. -1. -1.\n",
            "   -1. -1.  1.  1.  1. -1. -1.  1. -1. -1. -1.]\n",
            "  [-1.  1. -1. -1. -1.  1.  1.  1.  1.  1. -1. -1. -1. -1. -1. -1.  1.\n",
            "   -1. -1.  1.  1. -1.  1. -1.  1.  1.  1. -1.]\n",
            "  [ 1.  1. -1. -1. -1.  1.  1.  1.  1.  1. -1. -1. -1. -1. -1. -1. -1.\n",
            "   -1. -1. -1.  1. -1.  1.  1.  1.  1. -1. -1.]\n",
            "  [ 1.  1. -1. -1.  1.  1.  1.  1.  1. -1. -1. -1. -1. -1. -1. -1. -1.\n",
            "   -1.  1. -1. -1. -1. -1. -1. -1.  1.  1.  1.]\n",
            "  [ 1.  1. -1. -1. -1.  1.  1. -1. -1. -1.  1. -1.  1. -1. -1. -1. -1.\n",
            "   -1.  1. -1. -1. -1. -1.  1. -1.  1. -1.  1.]\n",
            "  [-1. -1. -1. -1. -1.  1.  1.  1. -1. -1. -1. -1. -1. -1.  1.  1. -1.\n",
            "   -1. -1. -1. -1. -1. -1. -1. -1. -1. -1. -1.]\n",
            "  [-1. -1. -1. -1. -1.  1.  1. -1.  1. -1. -1. -1. -1. -1.  1.  1. -1.\n",
            "   -1. -1. -1. -1.  1.  1.  1.  1.  1. -1. -1.]\n",
            "  [-1. -1. -1. -1. -1.  1.  1. -1. -1.  1. -1. -1. -1.  1.  1. -1. -1.\n",
            "   -1. -1. -1. -1. -1.  1.  1.  1.  1. -1. -1.]\n",
            "  [-1. -1. -1. -1. -1. -1. -1. -1.  1.  1.  1. -1. -1. -1.  1.  1. -1.\n",
            "   -1.  1.  1. -1. -1. -1.  1.  1.  1.  1. -1.]\n",
            "  [-1.  1. -1.  1. -1. -1. -1. -1.  1.  1.  1.  1. -1. -1. -1. -1. -1.\n",
            "   -1.  1.  1. -1.  1. -1.  1.  1.  1.  1. -1.]\n",
            "  [-1. -1. -1. -1.  1. -1. -1. -1.  1.  1.  1.  1.  1. -1. -1. -1. -1.\n",
            "   -1.  1.  1.  1. -1. -1. -1. -1. -1.  1. -1.]\n",
            "  [ 1.  1. -1.  1.  1.  1. -1. -1.  1.  1. -1. -1. -1. -1. -1. -1. -1.\n",
            "   -1. -1.  1. -1. -1. -1. -1. -1.  1. -1. -1.]\n",
            "  [ 1.  1.  1.  1. -1.  1. -1. -1. -1. -1. -1. -1. -1. -1. -1. -1. -1.\n",
            "   -1. -1. -1. -1. -1.  1. -1.  1.  1. -1. -1.]]], shape=(1, 28, 28), dtype=float32)\n"
          ],
          "name": "stdout"
        },
        {
          "output_type": "execute_result",
          "data": {
            "text/plain": [
              "<matplotlib.image.AxesImage at 0x7f3d812af0b8>"
            ]
          },
          "metadata": {
            "tags": []
          },
          "execution_count": 43
        },
        {
          "output_type": "display_data",
          "data": {
            "image/png": "[encoded data removed]",
            "text/plain": [
              "<Figure size 432x288 with 1 Axes>"
            ]
          },
          "metadata": {
            "tags": [],
            "needs_background": "light"
          }
        }
      ]
    },
    {
      "cell_type": "code",
      "metadata": {
        "id": "IvQH3xh_grN1"
      },
      "source": [
        "def display_images(i):\r\n",
        "  predictions= model.predict(i)\r\n",
        "  label = np.argmax(predictions[0])\r\n",
        "  plt.figure()\r\n",
        "  plt.imshow(i[0]*0.5+0.5)\r\n",
        "  plt.title('{}'.format(label))\r\n",
        "  plt.show()"
      ],
      "execution_count": 24,
      "outputs": []
    },
    {
      "cell_type": "code",
      "metadata": {
        "id": "w_Ute6_KgZ_V"
      },
      "source": [
        "adv_x = first_image + 0.1*perturbations\r\n",
        "adv_x = tf.clip_by_value(adv_x, -1, 1)"
      ],
      "execution_count": 25,
      "outputs": []
    },
    {
      "cell_type": "code",
      "metadata": {
        "colab": {
          "base_uri": "https://localhost:8080/",
          "height": 281
        },
        "id": "ZdtBhfCWg05m",
        "outputId": "7f9b26c6-3b3e-4c4e-a04d-25680911f9e9"
      },
      "source": [
        "display_images(adv_x)"
      ],
      "execution_count": 26,
      "outputs": [
        {
          "output_type": "display_data",
          "data": {
            "image/png": "[encoded data removed]",
            "text/plain": [
              "<Figure size 432x288 with 1 Axes>"
            ]
          },
          "metadata": {
            "tags": [],
            "needs_background": "light"
          }
        }
      ]
    },
    {
      "cell_type": "markdown",
      "metadata": {
        "id": "s7_Z8hCKh07e"
      },
      "source": [
        "Its difficult to tell if its show or a sandle"
      ]
    },
    {
      "cell_type": "markdown",
      "metadata": {
        "id": "HxVVxltpjqhG"
      },
      "source": [
        "ToDO-- Do it for the entire batch"
      ]
    },
    {
      "cell_type": "markdown",
      "metadata": {
        "id": "AFtDwmdmj4Zf"
      },
      "source": [
        "Targetted Atatck"
      ]
    },
    {
      "cell_type": "code",
      "metadata": {
        "id": "gV9y5m1ah5md"
      },
      "source": [
        "#every image prediction is same"
      ],
      "execution_count": 27,
      "outputs": []
    },
    {
      "cell_type": "code",
      "metadata": {
        "id": "2R3TMvoIlBiq"
      },
      "source": [
        "p = model(adv_x, training=False)"
      ],
      "execution_count": 29,
      "outputs": []
    },
    {
      "cell_type": "code",
      "metadata": {
        "id": "wnPsFrboleoJ"
      },
      "source": [
        "originalLoss = -loss_object(tf.convert_to_tensor([9]),p)"
      ],
      "execution_count": 30,
      "outputs": []
    },
    {
      "cell_type": "code",
      "metadata": {
        "id": "pNh4aw9DmNjp"
      },
      "source": [
        "targetLoss = loss_object(tf.convert_to_tensor([2]),p)"
      ],
      "execution_count": 31,
      "outputs": []
    },
    {
      "cell_type": "code",
      "metadata": {
        "id": "JrcOBpe_pOdy"
      },
      "source": [
        "totalLoss = originalLoss + targetLoss"
      ],
      "execution_count": 32,
      "outputs": []
    },
    {
      "cell_type": "code",
      "metadata": {
        "id": "BDXBIqnXqoYc"
      },
      "source": [
        "instead of maximizing the loss of the true label, we maximize the loss of the loss of the true label and also minimize the loss for the alternative label."
      ],
      "execution_count": null,
      "outputs": []
    },
    {
      "cell_type": "code",
      "metadata": {
        "id": "BLHFDlkhkFNG"
      },
      "source": [
        "loss_object = tf.keras.losses.SparseCategoricalCrossentropy(from_logits=True)\r\n",
        "\r\n",
        "def create_adversarial_pattern_targated(input_image, input_label,my_label):\r\n",
        "  with tf.GradientTape() as tape:\r\n",
        "    tape.watch(input_image)\r\n",
        "    prediction = model(input_image)\r\n",
        "    loss = loss_object(input_label, prediction)\r\n",
        "    alt_loss = -loss_object(my_label,prediction)\r\n",
        "    total_los = loss+alt_loss\r\n",
        "\r\n",
        "  # Get the gradients of the loss w.r.t to the input image.\r\n",
        "  gradient = tape.gradient(total_los, input_image)\r\n",
        "  # Get the sign of the gradients to create the perturbation\r\n",
        "  signed_grad = tf.sign(gradient)\r\n",
        "  return signed_grad"
      ],
      "execution_count": 76,
      "outputs": []
    },
    {
      "cell_type": "code",
      "metadata": {
        "colab": {
          "base_uri": "https://localhost:8080/"
        },
        "id": "wxCOf2Kj0MKw",
        "outputId": "6ed8b0a1-ed9d-4e68-eca3-1818aa7d7bc9"
      },
      "source": [
        "test_labels[1]"
      ],
      "execution_count": 77,
      "outputs": [
        {
          "output_type": "execute_result",
          "data": {
            "text/plain": [
              "2"
            ]
          },
          "metadata": {
            "tags": []
          },
          "execution_count": 77
        }
      ]
    },
    {
      "cell_type": "code",
      "metadata": {
        "id": "KHnRIqdlprUj"
      },
      "source": [
        "perturbations_targated = create_adversarial_pattern_targated(in_image, test_labels[0],test_labels[1])\r\n"
      ],
      "execution_count": 78,
      "outputs": []
    },
    {
      "cell_type": "code",
      "metadata": {
        "colab": {
          "base_uri": "https://localhost:8080/",
          "height": 282
        },
        "id": "hnPgcD2S1MsH",
        "outputId": "12421e24-7a39-4506-86e7-0d0033fb4196"
      },
      "source": [
        "plt.imshow(perturbations_targated[0]*0.5+0.5) # To change [-1, 1] to [0,1]"
      ],
      "execution_count": 79,
      "outputs": [
        {
          "output_type": "execute_result",
          "data": {
            "text/plain": [
              "<matplotlib.image.AxesImage at 0x7f3d88ddef60>"
            ]
          },
          "metadata": {
            "tags": []
          },
          "execution_count": 79
        },
        {
          "output_type": "display_data",
          "data": {
            "image/png": "[encoded data removed]",
            "text/plain": [
              "<Figure size 432x288 with 1 Axes>"
            ]
          },
          "metadata": {
            "tags": [],
            "needs_background": "light"
          }
        }
      ]
    },
    {
      "cell_type": "code",
      "metadata": {
        "id": "T9gZHmfy1Up1"
      },
      "source": [
        "def display_images(i):\r\n",
        "  predictions= model.predict(i)\r\n",
        "  label = np.argmax(predictions[0])\r\n",
        "  plt.figure()\r\n",
        "  plt.imshow(i[0]*0.5+0.5)\r\n",
        "  plt.title('{}'.format(class_names[label]))\r\n",
        "  plt.show()"
      ],
      "execution_count": 105,
      "outputs": []
    },
    {
      "cell_type": "code",
      "metadata": {
        "id": "4bkLFxjq1Up2"
      },
      "source": [
        "adv_x_targated = first_image + 0.15*perturbations_targated\r\n",
        "adv_x_targated = tf.clip_by_value(adv_x_targated, -1, 1)"
      ],
      "execution_count": 106,
      "outputs": []
    },
    {
      "cell_type": "code",
      "metadata": {
        "colab": {
          "base_uri": "https://localhost:8080/",
          "height": 281
        },
        "id": "cM9zc-wH1Up2",
        "outputId": "16fe08aa-b4e5-4339-b0dd-cb57b59a59d6"
      },
      "source": [
        "display_images(adv_x_targated)"
      ],
      "execution_count": 107,
      "outputs": [
        {
          "output_type": "display_data",
          "data": {
            "image/png": "[encoded data removed]",
            "text/plain": [
              "<Figure size 432x288 with 1 Axes>"
            ]
          },
          "metadata": {
            "tags": [],
            "needs_background": "light"
          }
        }
      ]
    },
    {
      "cell_type": "markdown",
      "metadata": {
        "id": "Wp4o4xhx2gxR"
      },
      "source": [
        "It is predicting 2. But will it predict anoter image also 2?"
      ]
    },
    {
      "cell_type": "code",
      "metadata": {
        "colab": {
          "base_uri": "https://localhost:8080/",
          "height": 282
        },
        "id": "dJb5QJh32mJm",
        "outputId": "0ac0c501-9f0c-4d57-a773-dd1ea48f1f83"
      },
      "source": [
        "plt.imshow(test_images[5])"
      ],
      "execution_count": 108,
      "outputs": [
        {
          "output_type": "execute_result",
          "data": {
            "text/plain": [
              "<matplotlib.image.AxesImage at 0x7f3d79fd76a0>"
            ]
          },
          "metadata": {
            "tags": []
          },
          "execution_count": 108
        },
        {
          "output_type": "display_data",
          "data": {
            "image/png": "[encoded data removed]",
            "text/plain": [
              "<Figure size 432x288 with 1 Axes>"
            ]
          },
          "metadata": {
            "tags": [],
            "needs_background": "light"
          }
        }
      ]
    },
    {
      "cell_type": "code",
      "metadata": {
        "id": "xaSaA1V92mbl"
      },
      "source": [
        "adv_x_targated = test_images[5] + 0.12*perturbations_targated #but it wroked for .12 and above value\r\n",
        "adv_x_targated = tf.clip_by_value(adv_x_targated, -1, 1)"
      ],
      "execution_count": 109,
      "outputs": []
    },
    {
      "cell_type": "code",
      "metadata": {
        "colab": {
          "base_uri": "https://localhost:8080/",
          "height": 281
        },
        "id": "VSGN6Kjc2mbm",
        "outputId": "96fee91c-7137-461a-c3ba-6e8eea7745f1"
      },
      "source": [
        "display_images(adv_x_targated)"
      ],
      "execution_count": 110,
      "outputs": [
        {
          "output_type": "display_data",
          "data": {
            "image/png": "[encoded data removed]",
            "text/plain": [
              "<Figure size 432x288 with 1 Axes>"
            ]
          },
          "metadata": {
            "tags": [],
            "needs_background": "light"
          }
        }
      ]
    }
  ]
}