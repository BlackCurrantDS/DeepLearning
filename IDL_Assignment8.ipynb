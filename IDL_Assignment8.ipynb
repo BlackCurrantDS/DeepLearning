{
  "nbformat": 4,
  "nbformat_minor": 0,
  "metadata": {
    "colab": {
      "name": "IDL_Assignment8.ipynb",
      "provenance": [],
      "authorship_tag": "ABX9TyMUTxSg7MUgWx7LcxQTCJrt",
      "include_colab_link": true
    },
    "kernelspec": {
      "name": "python3",
      "display_name": "Python 3"
    },
    "accelerator": "GPU"
  },
  "cells": [
    {
      "cell_type": "markdown",
      "metadata": {
        "id": "view-in-github",
        "colab_type": "text"
      },
      "source": [
        "<a href=\"https://colab.research.google.com/github/BlackCurrantDS/DeepLearning/blob/main/IDL_Assignment8.ipynb\" target=\"_parent\"><img src=\"https://colab.research.google.com/assets/colab-badge.svg\" alt=\"Open In Colab\"/></a>"
      ]
    },
    {
      "cell_type": "markdown",
      "metadata": {
        "id": "FNtrg6mCMwOZ"
      },
      "source": [
        "Reference- https://www.tensorflow.org/tutorials/generative/autoencoder\r\n",
        "\r\n",
        "https://medium.com/nerd-for-tech/visualizing-feature-maps-and-filters-eb05fb91d675\r\n",
        "\r\n",
        "https://github.com/meet-minimalist/Visualize-CNN-Filters/blob/master/Visualize%20CNN%20Layer%20Outputs%20and%20Filters.ipynb\r\n",
        "\r\n",
        "https://blog.keras.io/building-autoencoders-in-keras.html"
      ]
    },
    {
      "cell_type": "markdown",
      "metadata": {
        "id": "R-Kno757GKur"
      },
      "source": [
        "Autoencoders in Tensorflow"
      ]
    },
    {
      "cell_type": "code",
      "metadata": {
        "id": "psUdfKIpGGoq"
      },
      "source": [
        "import matplotlib.pyplot as plt\r\n",
        "import numpy as np\r\n",
        "import pandas as pd\r\n",
        "import tensorflow as tf\r\n",
        "\r\n",
        "from sklearn.metrics import accuracy_score, precision_score, recall_score\r\n",
        "from sklearn.model_selection import train_test_split\r\n",
        "from tensorflow.keras import layers, losses\r\n",
        "from tensorflow.keras.datasets import fashion_mnist\r\n",
        "from tensorflow.keras.models import Model\r\n",
        "import keras"
      ],
      "execution_count": 43,
      "outputs": []
    },
    {
      "cell_type": "code",
      "metadata": {
        "colab": {
          "base_uri": "https://localhost:8080/"
        },
        "id": "slQFmi0lGPFS",
        "outputId": "cc66b946-8b00-4907-a570-ccd9a611849e"
      },
      "source": [
        "(x_train, _), (x_test, _) = fashion_mnist.load_data()\r\n",
        "\r\n",
        "x_train = x_train.astype('float32') / 255.\r\n",
        "x_test = x_test.astype('float32') / 255.\r\n",
        "\r\n",
        "print (x_train.shape)\r\n",
        "print (x_test.shape)"
      ],
      "execution_count": 3,
      "outputs": [
        {
          "output_type": "stream",
          "text": [
            "Downloading data from https://storage.googleapis.com/tensorflow/tf-keras-datasets/train-labels-idx1-ubyte.gz\n",
            "32768/29515 [=================================] - 0s 0us/step\n",
            "Downloading data from https://storage.googleapis.com/tensorflow/tf-keras-datasets/train-images-idx3-ubyte.gz\n",
            "26427392/26421880 [==============================] - 0s 0us/step\n",
            "Downloading data from https://storage.googleapis.com/tensorflow/tf-keras-datasets/t10k-labels-idx1-ubyte.gz\n",
            "8192/5148 [===============================================] - 0s 0us/step\n",
            "Downloading data from https://storage.googleapis.com/tensorflow/tf-keras-datasets/t10k-images-idx3-ubyte.gz\n",
            "4423680/4422102 [==============================] - 0s 0us/step\n",
            "(60000, 28, 28)\n",
            "(10000, 28, 28)\n"
          ],
          "name": "stdout"
        }
      ]
    },
    {
      "cell_type": "code",
      "metadata": {
        "id": "uVwaKY66Gzoj"
      },
      "source": [
        "latent_dim = 64 \r\n",
        "\r\n",
        "class Autoencoder(Model):\r\n",
        "  def __init__(self, latent_dim):\r\n",
        "    super(Autoencoder, self).__init__()\r\n",
        "    self.latent_dim = latent_dim   \r\n",
        "    self.encoder = tf.keras.Sequential([\r\n",
        "      layers.Flatten(),\r\n",
        "      layers.Dense(latent_dim, activation='relu'),\r\n",
        "    ])\r\n",
        "    self.decoder = tf.keras.Sequential([\r\n",
        "      layers.Dense(784, activation='sigmoid'),\r\n",
        "      layers.Reshape((28, 28))\r\n",
        "    ])\r\n",
        "\r\n",
        "  def call(self, x):\r\n",
        "    encoded = self.encoder(x)\r\n",
        "    decoded = self.decoder(encoded)\r\n",
        "    return decoded\r\n",
        "\r\n",
        "autoencoder = Autoencoder(latent_dim)"
      ],
      "execution_count": 4,
      "outputs": []
    },
    {
      "cell_type": "code",
      "metadata": {
        "id": "d0g94eF5G1Uz"
      },
      "source": [
        "autoencoder.compile(optimizer='adam', loss=losses.MeanSquaredError())"
      ],
      "execution_count": 5,
      "outputs": []
    },
    {
      "cell_type": "code",
      "metadata": {
        "colab": {
          "base_uri": "https://localhost:8080/"
        },
        "id": "YJOL11jAG2_7",
        "outputId": "e9c2917f-60da-485e-875f-0e86f30cb691"
      },
      "source": [
        "autoencoder.fit(x_train, x_train,\r\n",
        "                epochs=10,\r\n",
        "                shuffle=True,\r\n",
        "                validation_data=(x_test, x_test))"
      ],
      "execution_count": 6,
      "outputs": [
        {
          "output_type": "stream",
          "text": [
            "Epoch 1/10\n",
            "1875/1875 [==============================] - 5s 2ms/step - loss: 0.0391 - val_loss: 0.0133\n",
            "Epoch 2/10\n",
            "1875/1875 [==============================] - 3s 2ms/step - loss: 0.0124 - val_loss: 0.0106\n",
            "Epoch 3/10\n",
            "1875/1875 [==============================] - 3s 2ms/step - loss: 0.0102 - val_loss: 0.0098\n",
            "Epoch 4/10\n",
            "1875/1875 [==============================] - 3s 2ms/step - loss: 0.0096 - val_loss: 0.0093\n",
            "Epoch 5/10\n",
            "1875/1875 [==============================] - 3s 2ms/step - loss: 0.0092 - val_loss: 0.0091\n",
            "Epoch 6/10\n",
            "1875/1875 [==============================] - 3s 2ms/step - loss: 0.0091 - val_loss: 0.0091\n",
            "Epoch 7/10\n",
            "1875/1875 [==============================] - 3s 2ms/step - loss: 0.0089 - val_loss: 0.0090\n",
            "Epoch 8/10\n",
            "1875/1875 [==============================] - 3s 2ms/step - loss: 0.0089 - val_loss: 0.0090\n",
            "Epoch 9/10\n",
            "1875/1875 [==============================] - 3s 2ms/step - loss: 0.0088 - val_loss: 0.0090\n",
            "Epoch 10/10\n",
            "1875/1875 [==============================] - 3s 2ms/step - loss: 0.0087 - val_loss: 0.0088\n"
          ],
          "name": "stdout"
        },
        {
          "output_type": "execute_result",
          "data": {
            "text/plain": [
              "<tensorflow.python.keras.callbacks.History at 0x7f11a2264710>"
            ]
          },
          "metadata": {
            "tags": []
          },
          "execution_count": 6
        }
      ]
    },
    {
      "cell_type": "code",
      "metadata": {
        "id": "eQBPioVKG5o7"
      },
      "source": [
        "encoded_imgs = autoencoder.encoder(x_test).numpy()\r\n",
        "decoded_imgs = autoencoder.decoder(encoded_imgs).numpy()"
      ],
      "execution_count": 7,
      "outputs": []
    },
    {
      "cell_type": "code",
      "metadata": {
        "colab": {
          "base_uri": "https://localhost:8080/",
          "height": 264
        },
        "id": "yn_tSrLVG7Dz",
        "outputId": "7879507b-78fc-4c17-e93c-1ec94657998c"
      },
      "source": [
        "n = 10\r\n",
        "plt.figure(figsize=(20, 4))\r\n",
        "for i in range(n):\r\n",
        "  # display original\r\n",
        "  ax = plt.subplot(2, n, i + 1)\r\n",
        "  plt.imshow(x_test[i])\r\n",
        "  plt.title(\"original\")\r\n",
        "  plt.gray()\r\n",
        "  ax.get_xaxis().set_visible(False)\r\n",
        "  ax.get_yaxis().set_visible(False)\r\n",
        "\r\n",
        "  # display reconstruction\r\n",
        "  ax = plt.subplot(2, n, i + 1 + n)\r\n",
        "  plt.imshow(decoded_imgs[i])\r\n",
        "  plt.title(\"reconstructed\")\r\n",
        "  plt.gray()\r\n",
        "  ax.get_xaxis().set_visible(False)\r\n",
        "  ax.get_yaxis().set_visible(False)\r\n",
        "plt.show()"
      ],
      "execution_count": 8,
      "outputs": [
        {
          "output_type": "display_data",
          "data": {
            "image/png": "[encoded data removed]",
            "text/plain": [
              "<Figure size 1440x288 with 20 Axes>"
            ]
          },
          "metadata": {
            "tags": [],
            "needs_background": "light"
          }
        }
      ]
    },
    {
      "cell_type": "markdown",
      "metadata": {
        "id": "1lm0xsxOHvHj"
      },
      "source": [
        "Using relu"
      ]
    },
    {
      "cell_type": "code",
      "metadata": {
        "id": "kVVVOXxnHwvL"
      },
      "source": [
        "latent_dim = 64 \r\n",
        "\r\n",
        "class Autoencoder(Model):\r\n",
        "  def __init__(self, latent_dim):\r\n",
        "    super(Autoencoder, self).__init__()\r\n",
        "    self.latent_dim = latent_dim   \r\n",
        "    self.encoder = tf.keras.Sequential([\r\n",
        "      layers.Flatten(),\r\n",
        "      layers.Dense(latent_dim, activation='relu'),\r\n",
        "    ])\r\n",
        "    self.decoder = tf.keras.Sequential([\r\n",
        "      layers.Dense(784, activation='relu'),\r\n",
        "      layers.Reshape((28, 28))\r\n",
        "    ])\r\n",
        "\r\n",
        "  def call(self, x):\r\n",
        "    encoded = self.encoder(x)\r\n",
        "    decoded = self.decoder(encoded)\r\n",
        "    return decoded\r\n",
        "\r\n",
        "autoencoder = Autoencoder(latent_dim)"
      ],
      "execution_count": 9,
      "outputs": []
    },
    {
      "cell_type": "code",
      "metadata": {
        "id": "XROOJef6HwvM"
      },
      "source": [
        "autoencoder.compile(optimizer='adam', loss=losses.MeanSquaredError())"
      ],
      "execution_count": 10,
      "outputs": []
    },
    {
      "cell_type": "code",
      "metadata": {
        "colab": {
          "base_uri": "https://localhost:8080/"
        },
        "id": "B5sCASfjHwvN",
        "outputId": "95e9c1af-11ef-4242-cd46-9d9d30a5581d"
      },
      "source": [
        "autoencoder.fit(x_train, x_train,\r\n",
        "                epochs=10,\r\n",
        "                shuffle=True,\r\n",
        "                validation_data=(x_test, x_test))"
      ],
      "execution_count": 11,
      "outputs": [
        {
          "output_type": "stream",
          "text": [
            "Epoch 1/10\n",
            "1875/1875 [==============================] - 3s 2ms/step - loss: 0.0386 - val_loss: 0.0183\n",
            "Epoch 2/10\n",
            "1875/1875 [==============================] - 3s 2ms/step - loss: 0.0176 - val_loss: 0.0169\n",
            "Epoch 3/10\n",
            "1875/1875 [==============================] - 3s 2ms/step - loss: 0.0167 - val_loss: 0.0165\n",
            "Epoch 4/10\n",
            "1875/1875 [==============================] - 3s 2ms/step - loss: 0.0163 - val_loss: 0.0164\n",
            "Epoch 5/10\n",
            "1875/1875 [==============================] - 3s 2ms/step - loss: 0.0160 - val_loss: 0.0159\n",
            "Epoch 6/10\n",
            "1875/1875 [==============================] - 3s 2ms/step - loss: 0.0158 - val_loss: 0.0159\n",
            "Epoch 7/10\n",
            "1875/1875 [==============================] - 3s 2ms/step - loss: 0.0158 - val_loss: 0.0158\n",
            "Epoch 8/10\n",
            "1875/1875 [==============================] - 3s 2ms/step - loss: 0.0156 - val_loss: 0.0159\n",
            "Epoch 9/10\n",
            "1875/1875 [==============================] - 3s 2ms/step - loss: 0.0157 - val_loss: 0.0158\n",
            "Epoch 10/10\n",
            "1875/1875 [==============================] - 3s 2ms/step - loss: 0.0157 - val_loss: 0.0158\n"
          ],
          "name": "stdout"
        },
        {
          "output_type": "execute_result",
          "data": {
            "text/plain": [
              "<tensorflow.python.keras.callbacks.History at 0x7f118e5b47f0>"
            ]
          },
          "metadata": {
            "tags": []
          },
          "execution_count": 11
        }
      ]
    },
    {
      "cell_type": "code",
      "metadata": {
        "id": "MH8SzZf9HwvO"
      },
      "source": [
        "encoded_imgs = autoencoder.encoder(x_test).numpy()\r\n",
        "decoded_imgs = autoencoder.decoder(encoded_imgs).numpy()"
      ],
      "execution_count": 12,
      "outputs": []
    },
    {
      "cell_type": "code",
      "metadata": {
        "colab": {
          "base_uri": "https://localhost:8080/",
          "height": 264
        },
        "id": "zhk74gKgHwvP",
        "outputId": "c3445294-2e8d-4b9d-af7f-567560971657"
      },
      "source": [
        "n = 10\r\n",
        "plt.figure(figsize=(20, 4))\r\n",
        "for i in range(n):\r\n",
        "  # display original\r\n",
        "  ax = plt.subplot(2, n, i + 1)\r\n",
        "  plt.imshow(x_test[i])\r\n",
        "  plt.title(\"original\")\r\n",
        "  plt.gray()\r\n",
        "  ax.get_xaxis().set_visible(False)\r\n",
        "  ax.get_yaxis().set_visible(False)\r\n",
        "\r\n",
        "  # display reconstruction\r\n",
        "  ax = plt.subplot(2, n, i + 1 + n)\r\n",
        "  plt.imshow(decoded_imgs[i])\r\n",
        "  plt.title(\"reconstructed\")\r\n",
        "  plt.gray()\r\n",
        "  ax.get_xaxis().set_visible(False)\r\n",
        "  ax.get_yaxis().set_visible(False)\r\n",
        "plt.show()"
      ],
      "execution_count": 13,
      "outputs": [
        {
          "output_type": "display_data",
          "data": {
            "image/png": "[encoded data removed]",
            "text/plain": [
              "<Figure size 1440x288 with 20 Axes>"
            ]
          },
          "metadata": {
            "tags": [],
            "needs_background": "light"
          }
        }
      ]
    },
    {
      "cell_type": "markdown",
      "metadata": {
        "id": "yeTAV1U4IOqL"
      },
      "source": [
        "Tanh Activation"
      ]
    },
    {
      "cell_type": "code",
      "metadata": {
        "id": "QofU2KpvIP9P"
      },
      "source": [
        "latent_dim = 64 \r\n",
        "\r\n",
        "class Autoencoder(Model):\r\n",
        "  def __init__(self, latent_dim):\r\n",
        "    super(Autoencoder, self).__init__()\r\n",
        "    self.latent_dim = latent_dim   \r\n",
        "    self.encoder = tf.keras.Sequential([\r\n",
        "      layers.Flatten(),\r\n",
        "      layers.Dense(latent_dim, activation='relu'),\r\n",
        "    ])\r\n",
        "    self.decoder = tf.keras.Sequential([\r\n",
        "      layers.Dense(784, activation='tanh'),\r\n",
        "      layers.Reshape((28, 28))\r\n",
        "    ])\r\n",
        "\r\n",
        "  def call(self, x):\r\n",
        "    encoded = self.encoder(x)\r\n",
        "    decoded = self.decoder(encoded)\r\n",
        "    return decoded\r\n",
        "\r\n",
        "autoencoder = Autoencoder(latent_dim)"
      ],
      "execution_count": 14,
      "outputs": []
    },
    {
      "cell_type": "code",
      "metadata": {
        "id": "tkZa_52lIP9Q"
      },
      "source": [
        "autoencoder.compile(optimizer='adam', loss=losses.MeanSquaredError())"
      ],
      "execution_count": 15,
      "outputs": []
    },
    {
      "cell_type": "code",
      "metadata": {
        "colab": {
          "base_uri": "https://localhost:8080/"
        },
        "id": "xIIERlv7IP9Q",
        "outputId": "01606721-7f6e-466f-8625-e2c8bfadfbeb"
      },
      "source": [
        "autoencoder.fit(x_train, x_train,\r\n",
        "                epochs=10,\r\n",
        "                shuffle=True,\r\n",
        "                validation_data=(x_test, x_test))"
      ],
      "execution_count": 16,
      "outputs": [
        {
          "output_type": "stream",
          "text": [
            "Epoch 1/10\n",
            "1875/1875 [==============================] - 3s 2ms/step - loss: 0.0341 - val_loss: 0.0149\n",
            "Epoch 2/10\n",
            "1875/1875 [==============================] - 3s 2ms/step - loss: 0.0145 - val_loss: 0.0140\n",
            "Epoch 3/10\n",
            "1875/1875 [==============================] - 3s 2ms/step - loss: 0.0139 - val_loss: 0.0135\n",
            "Epoch 4/10\n",
            "1875/1875 [==============================] - 3s 2ms/step - loss: 0.0135 - val_loss: 0.0134\n",
            "Epoch 5/10\n",
            "1875/1875 [==============================] - 3s 2ms/step - loss: 0.0133 - val_loss: 0.0133\n",
            "Epoch 6/10\n",
            "1875/1875 [==============================] - 3s 2ms/step - loss: 0.0133 - val_loss: 0.0134\n",
            "Epoch 7/10\n",
            "1875/1875 [==============================] - 3s 2ms/step - loss: 0.0131 - val_loss: 0.0131\n",
            "Epoch 8/10\n",
            "1875/1875 [==============================] - 3s 2ms/step - loss: 0.0130 - val_loss: 0.0132\n",
            "Epoch 9/10\n",
            "1875/1875 [==============================] - 3s 2ms/step - loss: 0.0130 - val_loss: 0.0131\n",
            "Epoch 10/10\n",
            "1875/1875 [==============================] - 3s 2ms/step - loss: 0.0131 - val_loss: 0.0131\n"
          ],
          "name": "stdout"
        },
        {
          "output_type": "execute_result",
          "data": {
            "text/plain": [
              "<tensorflow.python.keras.callbacks.History at 0x7f118e5c7080>"
            ]
          },
          "metadata": {
            "tags": []
          },
          "execution_count": 16
        }
      ]
    },
    {
      "cell_type": "code",
      "metadata": {
        "id": "m4IjiMlfIP9Q"
      },
      "source": [
        "encoded_imgs = autoencoder.encoder(x_test).numpy()\r\n",
        "decoded_imgs = autoencoder.decoder(encoded_imgs).numpy()"
      ],
      "execution_count": 17,
      "outputs": []
    },
    {
      "cell_type": "code",
      "metadata": {
        "colab": {
          "base_uri": "https://localhost:8080/",
          "height": 264
        },
        "id": "1igJsUZaIP9Q",
        "outputId": "4ea53ea5-9a6f-4ce2-8283-c35ebed90edb"
      },
      "source": [
        "n = 10\r\n",
        "plt.figure(figsize=(20, 4))\r\n",
        "for i in range(n):\r\n",
        "  # display original\r\n",
        "  ax = plt.subplot(2, n, i + 1)\r\n",
        "  plt.imshow(x_test[i])\r\n",
        "  plt.title(\"original\")\r\n",
        "  plt.gray()\r\n",
        "  ax.get_xaxis().set_visible(False)\r\n",
        "  ax.get_yaxis().set_visible(False)\r\n",
        "\r\n",
        "  # display reconstruction\r\n",
        "  ax = plt.subplot(2, n, i + 1 + n)\r\n",
        "  plt.imshow(decoded_imgs[i])\r\n",
        "  plt.title(\"reconstructed\")\r\n",
        "  plt.gray()\r\n",
        "  ax.get_xaxis().set_visible(False)\r\n",
        "  ax.get_yaxis().set_visible(False)\r\n",
        "plt.show()"
      ],
      "execution_count": 18,
      "outputs": [
        {
          "output_type": "display_data",
          "data": {
            "image/png": "[encoded data removed]",
            "text/plain": [
              "<Figure size 1440x288 with 20 Axes>"
            ]
          },
          "metadata": {
            "tags": [],
            "needs_background": "light"
          }
        }
      ]
    },
    {
      "cell_type": "markdown",
      "metadata": {
        "id": "Dv9y2vv_JY3t"
      },
      "source": [
        "NO Activation"
      ]
    },
    {
      "cell_type": "code",
      "metadata": {
        "id": "behKS4c5JhO_"
      },
      "source": [
        "latent_dim = 64 \r\n",
        "\r\n",
        "class Autoencoder(Model):\r\n",
        "  def __init__(self, latent_dim):\r\n",
        "    super(Autoencoder, self).__init__()\r\n",
        "    self.latent_dim = latent_dim   \r\n",
        "    self.encoder = tf.keras.Sequential([\r\n",
        "      layers.Flatten(),\r\n",
        "      layers.Dense(latent_dim, activation='relu'),\r\n",
        "    ])\r\n",
        "    self.decoder = tf.keras.Sequential([\r\n",
        "      layers.Dense(784),\r\n",
        "      layers.Reshape((28, 28))\r\n",
        "    ])\r\n",
        "\r\n",
        "  def call(self, x):\r\n",
        "    encoded = self.encoder(x)\r\n",
        "    decoded = self.decoder(encoded)\r\n",
        "    return decoded\r\n",
        "\r\n",
        "autoencoder = Autoencoder(latent_dim)"
      ],
      "execution_count": 19,
      "outputs": []
    },
    {
      "cell_type": "code",
      "metadata": {
        "id": "PpG9byHjJhPB"
      },
      "source": [
        "autoencoder.compile(optimizer='adam', loss=losses.MeanSquaredError())"
      ],
      "execution_count": 20,
      "outputs": []
    },
    {
      "cell_type": "code",
      "metadata": {
        "colab": {
          "base_uri": "https://localhost:8080/"
        },
        "id": "yrsJWgj1JhPC",
        "outputId": "4fd78760-5d5c-4c4c-fb9b-8afeb9d8035a"
      },
      "source": [
        "autoencoder.fit(x_train, x_train,\r\n",
        "                epochs=10,\r\n",
        "                shuffle=True,\r\n",
        "                validation_data=(x_test, x_test))"
      ],
      "execution_count": 21,
      "outputs": [
        {
          "output_type": "stream",
          "text": [
            "Epoch 1/10\n",
            "1875/1875 [==============================] - 4s 2ms/step - loss: 0.0350 - val_loss: 0.0152\n",
            "Epoch 2/10\n",
            "1875/1875 [==============================] - 3s 2ms/step - loss: 0.0146 - val_loss: 0.0139\n",
            "Epoch 3/10\n",
            "1875/1875 [==============================] - 3s 2ms/step - loss: 0.0138 - val_loss: 0.0134\n",
            "Epoch 4/10\n",
            "1875/1875 [==============================] - 3s 2ms/step - loss: 0.0132 - val_loss: 0.0128\n",
            "Epoch 5/10\n",
            "1875/1875 [==============================] - 3s 2ms/step - loss: 0.0128 - val_loss: 0.0126\n",
            "Epoch 6/10\n",
            "1875/1875 [==============================] - 3s 2ms/step - loss: 0.0126 - val_loss: 0.0125\n",
            "Epoch 7/10\n",
            "1875/1875 [==============================] - 3s 2ms/step - loss: 0.0126 - val_loss: 0.0125\n",
            "Epoch 8/10\n",
            "1875/1875 [==============================] - 3s 2ms/step - loss: 0.0124 - val_loss: 0.0124\n",
            "Epoch 9/10\n",
            "1875/1875 [==============================] - 3s 2ms/step - loss: 0.0124 - val_loss: 0.0128\n",
            "Epoch 10/10\n",
            "1875/1875 [==============================] - 3s 2ms/step - loss: 0.0124 - val_loss: 0.0123\n"
          ],
          "name": "stdout"
        },
        {
          "output_type": "execute_result",
          "data": {
            "text/plain": [
              "<tensorflow.python.keras.callbacks.History at 0x7f117fe272e8>"
            ]
          },
          "metadata": {
            "tags": []
          },
          "execution_count": 21
        }
      ]
    },
    {
      "cell_type": "code",
      "metadata": {
        "id": "6q9J1tccJhPE"
      },
      "source": [
        "encoded_imgs = autoencoder.encoder(x_test).numpy()\r\n",
        "decoded_imgs = autoencoder.decoder(encoded_imgs).numpy()"
      ],
      "execution_count": 22,
      "outputs": []
    },
    {
      "cell_type": "code",
      "metadata": {
        "colab": {
          "base_uri": "https://localhost:8080/",
          "height": 264
        },
        "id": "ihDJb_X4JhPF",
        "outputId": "e5af41fe-a38b-4166-9290-e82ea2356a76"
      },
      "source": [
        "n = 10\r\n",
        "plt.figure(figsize=(20, 4))\r\n",
        "for i in range(n):\r\n",
        "  # display original\r\n",
        "  ax = plt.subplot(2, n, i + 1)\r\n",
        "  plt.imshow(x_test[i])\r\n",
        "  plt.title(\"original\")\r\n",
        "  plt.gray()\r\n",
        "  ax.get_xaxis().set_visible(False)\r\n",
        "  ax.get_yaxis().set_visible(False)\r\n",
        "\r\n",
        "  # display reconstruction\r\n",
        "  ax = plt.subplot(2, n, i + 1 + n)\r\n",
        "  plt.imshow(decoded_imgs[i])\r\n",
        "  plt.title(\"reconstructed\")\r\n",
        "  plt.gray()\r\n",
        "  ax.get_xaxis().set_visible(False)\r\n",
        "  ax.get_yaxis().set_visible(False)\r\n",
        "plt.show()"
      ],
      "execution_count": 23,
      "outputs": [
        {
          "output_type": "display_data",
          "data": {
            "image/png": "[encoded data removed]",
            "text/plain": [
              "<Figure size 1440x288 with 20 Axes>"
            ]
          },
          "metadata": {
            "tags": [],
            "needs_background": "light"
          }
        }
      ]
    },
    {
      "cell_type": "markdown",
      "metadata": {
        "id": "bM7PFheFM3su"
      },
      "source": [
        "Convolutional Autoencoders"
      ]
    },
    {
      "cell_type": "code",
      "metadata": {
        "id": "y4r_bQ0UPf2n"
      },
      "source": [
        "(x_train, _), (x_test, _) = fashion_mnist.load_data()"
      ],
      "execution_count": 24,
      "outputs": []
    },
    {
      "cell_type": "code",
      "metadata": {
        "colab": {
          "base_uri": "https://localhost:8080/"
        },
        "id": "bNSWuNO9PhmH",
        "outputId": "601d9f18-de38-42b7-ea98-a69829b34c40"
      },
      "source": [
        "x_train = x_train.astype('float32') / 255.\r\n",
        "x_test = x_test.astype('float32') / 255.\r\n",
        "\r\n",
        "x_train = x_train[..., tf.newaxis]\r\n",
        "x_test = x_test[..., tf.newaxis]\r\n",
        "\r\n",
        "print(x_train.shape)"
      ],
      "execution_count": 25,
      "outputs": [
        {
          "output_type": "stream",
          "text": [
            "(60000, 28, 28, 1)\n"
          ],
          "name": "stdout"
        }
      ]
    },
    {
      "cell_type": "code",
      "metadata": {
        "id": "7M7T_C8CM5CN"
      },
      "source": [
        "class conv(Model):\r\n",
        "  def __init__(self):\r\n",
        "    super(conv, self).__init__()\r\n",
        "    self.encoder = tf.keras.Sequential([\r\n",
        "      layers.Input(shape=(28, 28, 1)), \r\n",
        "      layers.Conv2D(16, (3,3), activation='relu', padding='same', strides=2),\r\n",
        "      layers.Conv2D(8, (3,3), activation='relu', padding='same', strides=2)])\r\n",
        "\r\n",
        "    self.decoder = tf.keras.Sequential([\r\n",
        "      layers.Conv2DTranspose(8, kernel_size=3, strides=2, activation='relu', padding='same'),\r\n",
        "      layers.Conv2DTranspose(16, kernel_size=3, strides=2, activation='relu', padding='same'),\r\n",
        "      layers.Conv2D(1, kernel_size=(3,3), activation='sigmoid', padding='same')])\r\n",
        "\r\n",
        "  def call(self, x):\r\n",
        "    encoded = self.encoder(x)\r\n",
        "    decoded = self.decoder(encoded)\r\n",
        "    return decoded\r\n",
        "\r\n",
        "aut_conv = conv()"
      ],
      "execution_count": 26,
      "outputs": []
    },
    {
      "cell_type": "code",
      "metadata": {
        "id": "VQB1uDd7Nmy-"
      },
      "source": [
        "aut_conv.compile(optimizer='adam', loss=losses.MeanSquaredError())"
      ],
      "execution_count": 27,
      "outputs": []
    },
    {
      "cell_type": "code",
      "metadata": {
        "colab": {
          "base_uri": "https://localhost:8080/"
        },
        "id": "CbpSZdv-NoHG",
        "outputId": "2ff2c43c-ce82-41c9-c009-fb3f3ee9e177"
      },
      "source": [
        "aut_conv.fit(x_train, x_train,\r\n",
        "                epochs=10,\r\n",
        "                shuffle=True,\r\n",
        "                validation_data=(x_test, x_test))"
      ],
      "execution_count": 28,
      "outputs": [
        {
          "output_type": "stream",
          "text": [
            "Epoch 1/10\n",
            "1875/1875 [==============================] - 10s 3ms/step - loss: 0.0311 - val_loss: 0.0055\n",
            "Epoch 2/10\n",
            "1875/1875 [==============================] - 5s 3ms/step - loss: 0.0049 - val_loss: 0.0035\n",
            "Epoch 3/10\n",
            "1875/1875 [==============================] - 5s 3ms/step - loss: 0.0032 - val_loss: 0.0027\n",
            "Epoch 4/10\n",
            "1875/1875 [==============================] - 5s 3ms/step - loss: 0.0026 - val_loss: 0.0024\n",
            "Epoch 5/10\n",
            "1875/1875 [==============================] - 5s 3ms/step - loss: 0.0024 - val_loss: 0.0023\n",
            "Epoch 6/10\n",
            "1875/1875 [==============================] - 5s 2ms/step - loss: 0.0023 - val_loss: 0.0022\n",
            "Epoch 7/10\n",
            "1875/1875 [==============================] - 5s 3ms/step - loss: 0.0022 - val_loss: 0.0021\n",
            "Epoch 8/10\n",
            "1875/1875 [==============================] - 5s 3ms/step - loss: 0.0021 - val_loss: 0.0021\n",
            "Epoch 9/10\n",
            "1875/1875 [==============================] - 5s 3ms/step - loss: 0.0020 - val_loss: 0.0020\n",
            "Epoch 10/10\n",
            "1875/1875 [==============================] - 5s 3ms/step - loss: 0.0020 - val_loss: 0.0020\n"
          ],
          "name": "stdout"
        },
        {
          "output_type": "execute_result",
          "data": {
            "text/plain": [
              "<tensorflow.python.keras.callbacks.History at 0x7f118e4195f8>"
            ]
          },
          "metadata": {
            "tags": []
          },
          "execution_count": 28
        }
      ]
    },
    {
      "cell_type": "code",
      "metadata": {
        "colab": {
          "base_uri": "https://localhost:8080/"
        },
        "id": "7v4IJGnmPmpm",
        "outputId": "e7d90c19-688a-4ea5-be6d-981d9bb6620d"
      },
      "source": [
        "aut_conv.encoder.summary()"
      ],
      "execution_count": 29,
      "outputs": [
        {
          "output_type": "stream",
          "text": [
            "Model: \"sequential_8\"\n",
            "_________________________________________________________________\n",
            "Layer (type)                 Output Shape              Param #   \n",
            "=================================================================\n",
            "conv2d (Conv2D)              (None, 14, 14, 16)        160       \n",
            "_________________________________________________________________\n",
            "conv2d_1 (Conv2D)            (None, 7, 7, 8)           1160      \n",
            "=================================================================\n",
            "Total params: 1,320\n",
            "Trainable params: 1,320\n",
            "Non-trainable params: 0\n",
            "_________________________________________________________________\n"
          ],
          "name": "stdout"
        }
      ]
    },
    {
      "cell_type": "code",
      "metadata": {
        "colab": {
          "base_uri": "https://localhost:8080/"
        },
        "id": "oQIT_-GIPqNe",
        "outputId": "f5b826ef-9f62-43c3-d2d1-0ae76b960393"
      },
      "source": [
        "aut_conv.decoder.summary()"
      ],
      "execution_count": 30,
      "outputs": [
        {
          "output_type": "stream",
          "text": [
            "Model: \"sequential_9\"\n",
            "_________________________________________________________________\n",
            "Layer (type)                 Output Shape              Param #   \n",
            "=================================================================\n",
            "conv2d_transpose (Conv2DTran (None, 14, 14, 8)         584       \n",
            "_________________________________________________________________\n",
            "conv2d_transpose_1 (Conv2DTr (None, 28, 28, 16)        1168      \n",
            "_________________________________________________________________\n",
            "conv2d_2 (Conv2D)            (None, 28, 28, 1)         145       \n",
            "=================================================================\n",
            "Total params: 1,897\n",
            "Trainable params: 1,897\n",
            "Non-trainable params: 0\n",
            "_________________________________________________________________\n"
          ],
          "name": "stdout"
        }
      ]
    },
    {
      "cell_type": "code",
      "metadata": {
        "id": "c98ISvFtPu7e"
      },
      "source": [
        "encoded_imgs = aut_conv.encoder(x_test).numpy()\r\n",
        "decoded_imgs = aut_conv.decoder(encoded_imgs).numpy()"
      ],
      "execution_count": 31,
      "outputs": []
    },
    {
      "cell_type": "code",
      "metadata": {
        "colab": {
          "base_uri": "https://localhost:8080/",
          "height": 264
        },
        "id": "agUDW8xDPwKG",
        "outputId": "83a7fa00-9191-4a34-fa16-72b5e944d6d0"
      },
      "source": [
        "n = 10\r\n",
        "plt.figure(figsize=(20, 4))\r\n",
        "for i in range(n):\r\n",
        "\r\n",
        "    # display original + noise\r\n",
        "    ax = plt.subplot(2, n, i + 1)\r\n",
        "    plt.title(\"original\")\r\n",
        "    plt.imshow(tf.squeeze(x_test[i]))\r\n",
        "    plt.gray()\r\n",
        "    ax.get_xaxis().set_visible(False)\r\n",
        "    ax.get_yaxis().set_visible(False)\r\n",
        "\r\n",
        "    # display reconstruction\r\n",
        "    bx = plt.subplot(2, n, i + n + 1)\r\n",
        "    plt.title(\"reconstructed\")\r\n",
        "    plt.imshow(tf.squeeze(decoded_imgs[i]))\r\n",
        "    plt.gray()\r\n",
        "    bx.get_xaxis().set_visible(False)\r\n",
        "    bx.get_yaxis().set_visible(False)\r\n",
        "plt.show()"
      ],
      "execution_count": 32,
      "outputs": [
        {
          "output_type": "display_data",
          "data": {
            "image/png": "[encoded data removed]",
            "text/plain": [
              "<Figure size 1440x288 with 20 Axes>"
            ]
          },
          "metadata": {
            "tags": [],
            "needs_background": "light"
          }
        }
      ]
    },
    {
      "cell_type": "markdown",
      "metadata": {
        "id": "Ap5HZ_DhTJqZ"
      },
      "source": [
        "However, you need to take care when choosing padding/strides such that the output has the same dimensions as the input. This can be a problem with MNIST (why?). It also means that the last convolutional (transpose) layer should have as many filters as the input space (e.g. one filter for MNIST or three for CIFAR).\r\n",
        "\r\n",
        "Beacasue output should be of same size of input. Needs upsampling."
      ]
    },
    {
      "cell_type": "markdown",
      "metadata": {
        "id": "UT3Pw-6ETPwG"
      },
      "source": [
        "Plotting filters"
      ]
    },
    {
      "cell_type": "code",
      "metadata": {
        "colab": {
          "base_uri": "https://localhost:8080/"
        },
        "id": "C_HI1fE_PaNL",
        "outputId": "c3a4763e-10d9-4f50-9ea2-eb45ecad656b"
      },
      "source": [
        "for layer in aut_conv.decoder.layers:\r\n",
        "    print(layer.name)"
      ],
      "execution_count": 33,
      "outputs": [
        {
          "output_type": "stream",
          "text": [
            "conv2d_transpose\n",
            "conv2d_transpose_1\n",
            "conv2d_2\n"
          ],
          "name": "stdout"
        }
      ]
    },
    {
      "cell_type": "code",
      "metadata": {
        "colab": {
          "base_uri": "https://localhost:8080/"
        },
        "id": "YUl9dpohT6hV",
        "outputId": "d8182b21-d4c6-420c-a093-683a85012b48"
      },
      "source": [
        "for layer in aut_conv.decoder.layers: \r\n",
        "  print(layer.get_config())\r\n",
        "\r\n",
        "weights = aut_conv.decoder.get_weights()"
      ],
      "execution_count": 34,
      "outputs": [
        {
          "output_type": "stream",
          "text": [
            "{'name': 'conv2d_transpose', 'trainable': True, 'dtype': 'float32', 'filters': 8, 'kernel_size': (3, 3), 'strides': (2, 2), 'padding': 'same', 'data_format': 'channels_last', 'dilation_rate': (1, 1), 'groups': 1, 'activation': 'relu', 'use_bias': True, 'kernel_initializer': {'class_name': 'GlorotUniform', 'config': {'seed': None}}, 'bias_initializer': {'class_name': 'Zeros', 'config': {}}, 'kernel_regularizer': None, 'bias_regularizer': None, 'activity_regularizer': None, 'kernel_constraint': None, 'bias_constraint': None, 'output_padding': None}\n",
            "{'name': 'conv2d_transpose_1', 'trainable': True, 'dtype': 'float32', 'filters': 16, 'kernel_size': (3, 3), 'strides': (2, 2), 'padding': 'same', 'data_format': 'channels_last', 'dilation_rate': (1, 1), 'groups': 1, 'activation': 'relu', 'use_bias': True, 'kernel_initializer': {'class_name': 'GlorotUniform', 'config': {'seed': None}}, 'bias_initializer': {'class_name': 'Zeros', 'config': {}}, 'kernel_regularizer': None, 'bias_regularizer': None, 'activity_regularizer': None, 'kernel_constraint': None, 'bias_constraint': None, 'output_padding': None}\n",
            "{'name': 'conv2d_2', 'trainable': True, 'dtype': 'float32', 'filters': 1, 'kernel_size': (3, 3), 'strides': (1, 1), 'padding': 'same', 'data_format': 'channels_last', 'dilation_rate': (1, 1), 'groups': 1, 'activation': 'sigmoid', 'use_bias': True, 'kernel_initializer': {'class_name': 'GlorotUniform', 'config': {'seed': None}}, 'bias_initializer': {'class_name': 'Zeros', 'config': {}}, 'kernel_regularizer': None, 'bias_regularizer': None, 'activity_regularizer': None, 'kernel_constraint': None, 'bias_constraint': None}\n"
          ],
          "name": "stdout"
        }
      ]
    },
    {
      "cell_type": "code",
      "metadata": {
        "id": "XJHsMcidT9OT"
      },
      "source": [
        "layer_variables = aut_conv.decoder.get_layer('conv2d_2').get_weights()\r\n"
      ],
      "execution_count": 35,
      "outputs": []
    },
    {
      "cell_type": "code",
      "metadata": {
        "colab": {
          "base_uri": "https://localhost:8080/"
        },
        "id": "gEGtILNjVnnt",
        "outputId": "eef6e29b-c9c8-430a-bfcf-55ab574a03f1"
      },
      "source": [
        "weights = layer_variables[0]\r\n",
        "biases = layer_variables[1]\r\n",
        "\r\n",
        "w = np.array(weights)\r\n",
        "w.shape"
      ],
      "execution_count": 36,
      "outputs": [
        {
          "output_type": "execute_result",
          "data": {
            "text/plain": [
              "(3, 3, 16, 1)"
            ]
          },
          "metadata": {
            "tags": []
          },
          "execution_count": 36
        }
      ]
    },
    {
      "cell_type": "code",
      "metadata": {
        "colab": {
          "base_uri": "https://localhost:8080/"
        },
        "id": "Q3R75CcfVqbD",
        "outputId": "2efc23d1-6cfa-4e43-f265-38181a89d910"
      },
      "source": [
        "w = np.moveaxis(w, 2, 0)\r\n",
        "w = np.moveaxis(w, 3, 0)\r\n",
        "print(w.shape)"
      ],
      "execution_count": 37,
      "outputs": [
        {
          "output_type": "stream",
          "text": [
            "(1, 16, 3, 3)\n"
          ],
          "name": "stdout"
        }
      ]
    },
    {
      "cell_type": "code",
      "metadata": {
        "colab": {
          "base_uri": "https://localhost:8080/"
        },
        "id": "sG0NF03XVuD9",
        "outputId": "448f30d4-6869-4d0e-f47a-1d06bafceeae"
      },
      "source": [
        "w.shape[1]"
      ],
      "execution_count": 38,
      "outputs": [
        {
          "output_type": "execute_result",
          "data": {
            "text/plain": [
              "16"
            ]
          },
          "metadata": {
            "tags": []
          },
          "execution_count": 38
        }
      ]
    },
    {
      "cell_type": "code",
      "metadata": {
        "id": "DV1LIYOiVxnE"
      },
      "source": [
        "total_filters_in_prev_layers = 16\r\n",
        "\r\n",
        "cols = 5\r\n",
        "rows = 5"
      ],
      "execution_count": 39,
      "outputs": []
    },
    {
      "cell_type": "code",
      "metadata": {
        "id": "V5SR6_sqV17-"
      },
      "source": [
        "current_filter = 0"
      ],
      "execution_count": 40,
      "outputs": []
    },
    {
      "cell_type": "code",
      "metadata": {
        "colab": {
          "base_uri": "https://localhost:8080/",
          "height": 479
        },
        "id": "a4H2j_5VV4sd",
        "outputId": "5ffd18c8-616a-42d2-dd3f-299da5b0c434"
      },
      "source": [
        "fig = plt.figure(figsize=(10, 10))\r\n",
        "\r\n",
        "for each_depth in range(w.shape[1]):\r\n",
        "    fig.add_subplot(rows, cols, each_depth+1)\r\n",
        "    plt.imshow(w[current_filter][each_depth], cmap='gray')"
      ],
      "execution_count": 41,
      "outputs": [
        {
          "output_type": "display_data",
          "data": {
            "image/png": "[encoded data removed]",
            "text/plain": [
              "<Figure size 720x720 with 16 Axes>"
            ]
          },
          "metadata": {
            "tags": [],
            "needs_background": "light"
          }
        }
      ]
    },
    {
      "cell_type": "markdown",
      "metadata": {
        "id": "NAiM0_ejlTmR"
      },
      "source": [
        "Unsupervised"
      ]
    },
    {
      "cell_type": "code",
      "metadata": {
        "id": "2k00i5JclveV"
      },
      "source": [
        "(x_train, _), (x_test, _) = fashion_mnist.load_data()"
      ],
      "execution_count": 55,
      "outputs": []
    },
    {
      "cell_type": "code",
      "metadata": {
        "colab": {
          "base_uri": "https://localhost:8080/"
        },
        "id": "ZiTCQ62blveY",
        "outputId": "ff4f01e6-5b6c-4998-c816-e51aa58efd47"
      },
      "source": [
        "x_train = x_train.astype('float32') / 255.\r\n",
        "x_test = x_test.astype('float32') / 255.\r\n",
        "\r\n",
        "x_train = x_train[..., tf.newaxis]\r\n",
        "x_test = x_test[..., tf.newaxis]\r\n",
        "\r\n",
        "print(x_train.shape)"
      ],
      "execution_count": 56,
      "outputs": [
        {
          "output_type": "stream",
          "text": [
            "(60000, 28, 28, 1)\n"
          ],
          "name": "stdout"
        }
      ]
    },
    {
      "cell_type": "code",
      "metadata": {
        "id": "PP-Fq8A2lekm"
      },
      "source": [
        "class conv(Model):\r\n",
        "  def __init__(self):\r\n",
        "    super(conv, self).__init__()\r\n",
        "    self.encoder = tf.keras.Sequential([\r\n",
        "      layers.Input(shape=(28, 28, 1)), \r\n",
        "      layers.Conv2D(16, (3,3), activation='relu', padding='same', strides=2),\r\n",
        "      layers.Conv2D(8, (3,3), activation='relu', padding='same', strides=2)])\r\n",
        "\r\n",
        "    \"\"\"self.decoder = tf.keras.Sequential([\r\n",
        "      layers.Conv2DTranspose(8, kernel_size=3, strides=2, activation='relu', padding='same'),\r\n",
        "      layers.Conv2DTranspose(16, kernel_size=3, strides=2, activation='relu', padding='same'),\r\n",
        "      layers.Conv2D(1, kernel_size=(3,3), activation='sigmoid', padding='same')])\"\"\"\r\n",
        "\r\n",
        "  def call(self, x):\r\n",
        "    encoded = self.encoder(x)\r\n",
        "    #decoded = self.decoder(encoded)\r\n",
        "    return encoded\r\n",
        "\r\n",
        "aut_conv = conv()"
      ],
      "execution_count": 64,
      "outputs": []
    },
    {
      "cell_type": "code",
      "metadata": {
        "colab": {
          "base_uri": "https://localhost:8080/"
        },
        "id": "Jn1c8QkwlelF",
        "outputId": "235d5b26-bc83-405c-d2e0-3e545571f270"
      },
      "source": [
        "aut_conv.encoder.summary()"
      ],
      "execution_count": 65,
      "outputs": [
        {
          "output_type": "stream",
          "text": [
            "Model: \"sequential_14\"\n",
            "_________________________________________________________________\n",
            "Layer (type)                 Output Shape              Param #   \n",
            "=================================================================\n",
            "conv2d_11 (Conv2D)           (None, 14, 14, 16)        160       \n",
            "_________________________________________________________________\n",
            "conv2d_12 (Conv2D)           (None, 7, 7, 8)           1160      \n",
            "=================================================================\n",
            "Total params: 1,320\n",
            "Trainable params: 1,320\n",
            "Non-trainable params: 0\n",
            "_________________________________________________________________\n"
          ],
          "name": "stdout"
        }
      ]
    },
    {
      "cell_type": "code",
      "metadata": {
        "colab": {
          "base_uri": "https://localhost:8080/"
        },
        "id": "JHyRm5bfnPof",
        "outputId": "40be9e12-f220-4a3d-a215-273408c05b87"
      },
      "source": [
        "inputs = tf.keras.Input(shape=(28, 28, 1)) \r\n",
        "\r\n",
        "conv1 = tf.keras.layers.Conv2D(32, (3, 3), activation='relu', padding='same')(inputs)\r\n",
        "maxpooling1 = tf.keras.layers.MaxPooling2D((2, 2), padding='same')(conv1)\r\n",
        "flatten = tf.keras.layers.Flatten()(maxpooling1)\r\n",
        "dense1 = tf.keras.layers.Dense(128, activation='relu')(flatten)\r\n",
        "output = tf.keras.layers.Dense(10, activation='softmax')(dense1)\r\n",
        "\r\n",
        "classifier_model = tf.keras.Model(inputs=inputs, outputs=output, name='MNIST_CLASSIFIER_MODEL')\r\n",
        "\r\n",
        "classifier_model.summary()"
      ],
      "execution_count": 68,
      "outputs": [
        {
          "output_type": "stream",
          "text": [
            "Model: \"MNIST_CLASSIFIER_MODEL\"\n",
            "_________________________________________________________________\n",
            "Layer (type)                 Output Shape              Param #   \n",
            "=================================================================\n",
            "input_8 (InputLayer)         [(None, 28, 28, 1)]       0         \n",
            "_________________________________________________________________\n",
            "conv2d_14 (Conv2D)           (None, 28, 28, 32)        320       \n",
            "_________________________________________________________________\n",
            "max_pooling2d_1 (MaxPooling2 (None, 14, 14, 32)        0         \n",
            "_________________________________________________________________\n",
            "flatten_5 (Flatten)          (None, 6272)              0         \n",
            "_________________________________________________________________\n",
            "dense_10 (Dense)             (None, 128)               802944    \n",
            "_________________________________________________________________\n",
            "dense_11 (Dense)             (None, 10)                1290      \n",
            "=================================================================\n",
            "Total params: 804,554\n",
            "Trainable params: 804,554\n",
            "Non-trainable params: 0\n",
            "_________________________________________________________________\n"
          ],
          "name": "stdout"
        }
      ]
    },
    {
      "cell_type": "code",
      "metadata": {
        "id": "84OrkXjInk4-"
      },
      "source": [
        "(train_images, train_labels), (test_images, test_labels) = fashion_mnist.load_data()\r\n",
        "\r\n",
        "train_images = np.reshape(train_images, (len(train_images), 28, 28, 1))\r\n",
        "test_images = np.reshape(test_images, (len(test_images), 28, 28, 1)) \r\n",
        "\r\n",
        "train_labels = train_labels.astype(np.int32)\r\n",
        "test_labels = test_labels.astype(np.int32)\r\n",
        "\r\n",
        "print(train_images.shape, train_labels.shape, test_images.shape, test_labels.shape)\r\n",
        "\r\n",
        "\r\n",
        "classifier_model.compile(optimizer='adam', loss=tf.keras.losses.SparseCategoricalCrossentropy())\r\n",
        "\r\n",
        "classifier_model.fit(train_images, train_labels,\r\n",
        "                epochs=3,\r\n",
        "                shuffle=True,\r\n",
        "                validation_data=(test_images, test_images)\r\n",
        ")"
      ],
      "execution_count": null,
      "outputs": []
    },
    {
      "cell_type": "code",
      "metadata": {
        "id": "uKRSFcL6lek_"
      },
      "source": [
        "aut_conv.compile(optimizer='adam', loss=losses.MeanSquaredError())"
      ],
      "execution_count": 61,
      "outputs": []
    },
    {
      "cell_type": "code",
      "metadata": {
        "id": "WTSRI1odlelA"
      },
      "source": [
        "aut_conv.fit(x_train, x_train,\r\n",
        "                epochs=10,\r\n",
        "                shuffle=True,\r\n",
        "                validation_data=(x_test, x_test))"
      ],
      "execution_count": null,
      "outputs": []
    },
    {
      "cell_type": "code",
      "metadata": {
        "id": "qV7wvNAHoDWa",
        "outputId": "dff5d72c-b036-41d9-818e-ce9730d47580",
        "colab": {
          "base_uri": "https://localhost:8080/",
          "height": 195
        }
      },
      "source": [
        "\r\n",
        "newmodel = tf.keras.Model(inputs=[classifier_model.input, model.input], outputs=[classifier_model.output, model.output])\r\n",
        "newmodel.summary()"
      ],
      "execution_count": 70,
      "outputs": [
        {
          "output_type": "error",
          "ename": "NameError",
          "evalue": "ignored",
          "traceback": [
            "\u001b[0;31m---------------------------------------------------------------------------\u001b[0m",
            "\u001b[0;31mNameError\u001b[0m                                 Traceback (most recent call last)",
            "\u001b[0;32m<ipython-input-70-54b41a2e33f6>\u001b[0m in \u001b[0;36m<module>\u001b[0;34m()\u001b[0m\n\u001b[1;32m      1\u001b[0m \u001b[0;34m\u001b[0m\u001b[0m\n\u001b[0;32m----> 2\u001b[0;31m \u001b[0mnewmodel\u001b[0m \u001b[0;34m=\u001b[0m \u001b[0mtf\u001b[0m\u001b[0;34m.\u001b[0m\u001b[0mkeras\u001b[0m\u001b[0;34m.\u001b[0m\u001b[0mModel\u001b[0m\u001b[0;34m(\u001b[0m\u001b[0minputs\u001b[0m\u001b[0;34m=\u001b[0m\u001b[0;34m[\u001b[0m\u001b[0mclassifier_model\u001b[0m\u001b[0;34m.\u001b[0m\u001b[0minput\u001b[0m\u001b[0;34m,\u001b[0m \u001b[0mmodel\u001b[0m\u001b[0;34m.\u001b[0m\u001b[0minput\u001b[0m\u001b[0;34m]\u001b[0m\u001b[0;34m,\u001b[0m \u001b[0moutputs\u001b[0m\u001b[0;34m=\u001b[0m\u001b[0;34m[\u001b[0m\u001b[0mclassifier_model\u001b[0m\u001b[0;34m.\u001b[0m\u001b[0moutput\u001b[0m\u001b[0;34m,\u001b[0m \u001b[0mmodel\u001b[0m\u001b[0;34m.\u001b[0m\u001b[0moutput\u001b[0m\u001b[0;34m]\u001b[0m\u001b[0;34m)\u001b[0m\u001b[0;34m\u001b[0m\u001b[0;34m\u001b[0m\u001b[0m\n\u001b[0m\u001b[1;32m      3\u001b[0m \u001b[0mnewmodel\u001b[0m\u001b[0;34m.\u001b[0m\u001b[0msummary\u001b[0m\u001b[0;34m(\u001b[0m\u001b[0;34m)\u001b[0m\u001b[0;34m\u001b[0m\u001b[0;34m\u001b[0m\u001b[0m\n",
            "\u001b[0;31mNameError\u001b[0m: name 'model' is not defined"
          ]
        }
      ]
    }
  ]
}